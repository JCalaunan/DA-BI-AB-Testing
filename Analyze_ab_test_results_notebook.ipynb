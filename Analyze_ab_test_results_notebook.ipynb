{
 "cells": [
  {
   "cell_type": "markdown",
   "metadata": {
    "id": "XiOWumi0iPkV"
   },
   "source": [
    "## Analyze A/B Test Results\n",
    "\n",
    "You may either submit your notebook through the workspace here, or you may work from your local machine and submit through the next page.  Either way assure that your code passes the project [RUBRIC](https://review.udacity.com/#!/projects/37e27304-ad47-4eb0-a1ab-8c12f60e43d0/rubric).  **Please save regularly.**\n",
    "\n",
    "This project will assure you have mastered the subjects covered in the statistics lessons.  The hope is to have this project be as comprehensive of these topics as possible.  Good luck!\n",
    "\n",
    "## Table of Contents\n",
    "- [Introduction](#intro)\n",
    "- [Part I - Probability](#probability)\n",
    "- [Part II - A/B Test](#ab_test)\n",
    "- [Part III - Regression](#regression)\n",
    "\n",
    "\n",
    "<a id='intro'></a>\n",
    "### Introduction\n",
    "\n",
    "A/B tests are very commonly performed by data analysts and data scientists.  It is important that you get some practice working with the difficulties of these \n",
    "\n",
    "For this project, you will be working to understand the results of an A/B test run by an e-commerce website.  Your goal is to work through this notebook to help the company understand if they should implement the new page, keep the old page, or perhaps run the experiment longer to make their decision.\n",
    "\n",
    "**As you work through this notebook, follow along in the classroom and answer the corresponding quiz questions associated with each question.** The labels for each classroom concept are provided for each question.  This will assure you are on the right track as you work through the project, and you can feel more confident in your final submission meeting the criteria.  As a final check, assure you meet all the criteria on the [RUBRIC](https://review.udacity.com/#!/projects/37e27304-ad47-4eb0-a1ab-8c12f60e43d0/rubric).\n",
    "\n",
    "<a id='probability'></a>\n",
    "#### Part I - Probability\n",
    "\n",
    "To get started, let's import our libraries."
   ]
  },
  {
   "cell_type": "code",
   "execution_count": 1,
   "metadata": {
    "id": "WSL-z5r5iPkY"
   },
   "outputs": [],
   "source": [
    "import pandas as pd\n",
    "import numpy as np\n",
    "import random\n",
    "import matplotlib.pyplot as plt\n",
    "%matplotlib inline\n",
    "#We are setting the seed to assure you get the same answers on quizzes as we set up\n",
    "random.seed(42)"
   ]
  },
  {
   "cell_type": "markdown",
   "metadata": {
    "id": "AvSz5V9UiPkd"
   },
   "source": [
    "`1.` Now, read in the `ab_data.csv` data. Store it in `df`.  **Use your dataframe to answer the questions in Quiz 1 of the classroom.**\n",
    "\n",
    "a. Read in the dataset and take a look at the top few rows here:"
   ]
  },
  {
   "cell_type": "code",
   "execution_count": 2,
   "metadata": {
    "colab": {
     "base_uri": "https://localhost:8080/",
     "height": 34
    },
    "executionInfo": {
     "elapsed": 55418,
     "status": "ok",
     "timestamp": 1602834743085,
     "user": {
      "displayName": "John Calaunan",
      "photoUrl": "https://lh4.googleusercontent.com/-jCWfMprfyZg/AAAAAAAAAAI/AAAAAAAALlQ/RH3K6uljsyo/s64/photo.jpg",
      "userId": "11296851702912649604"
     },
     "user_tz": -660
    },
    "id": "OU1IpPRFlqfE",
    "outputId": "ae373dd8-f18f-4014-abef-b730fbb915e5"
   },
   "outputs": [],
   "source": [
    "## Method 1 - Load from Google Drive\n",
    "# from google.colab import drive\n",
    "# drive.mount('/content/drive')\n",
    "## Enter access code in dialog"
   ]
  },
  {
   "cell_type": "code",
   "execution_count": 3,
   "metadata": {
    "id": "bUEejCq2l8Nh"
   },
   "outputs": [],
   "source": [
    "## Method 1 - Google colab\n",
    "#path=\"/content/drive/My Drive/data/ab_data.csv\"\n",
    "#df = pd.read_csv(path)\n",
    "\n",
    "## Method 2 - Local\n",
    "df = pd.read_csv('ab_data.csv')"
   ]
  },
  {
   "cell_type": "markdown",
   "metadata": {
    "id": "cUlfuKD5iPki"
   },
   "source": [
    "b. Use the cell below to find the number of rows in the dataset."
   ]
  },
  {
   "cell_type": "code",
   "execution_count": 4,
   "metadata": {
    "colab": {
     "base_uri": "https://localhost:8080/",
     "height": 204
    },
    "executionInfo": {
     "elapsed": 58300,
     "status": "ok",
     "timestamp": 1602834745991,
     "user": {
      "displayName": "John Calaunan",
      "photoUrl": "https://lh4.googleusercontent.com/-jCWfMprfyZg/AAAAAAAAAAI/AAAAAAAALlQ/RH3K6uljsyo/s64/photo.jpg",
      "userId": "11296851702912649604"
     },
     "user_tz": -660
    },
    "id": "pcsKWNeTiPkj",
    "outputId": "01d956f5-5596-4fbb-8622-df5c46975166",
    "scrolled": true
   },
   "outputs": [
    {
     "data": {
      "text/html": [
       "<div>\n",
       "<style scoped>\n",
       "    .dataframe tbody tr th:only-of-type {\n",
       "        vertical-align: middle;\n",
       "    }\n",
       "\n",
       "    .dataframe tbody tr th {\n",
       "        vertical-align: top;\n",
       "    }\n",
       "\n",
       "    .dataframe thead th {\n",
       "        text-align: right;\n",
       "    }\n",
       "</style>\n",
       "<table border=\"1\" class=\"dataframe\">\n",
       "  <thead>\n",
       "    <tr style=\"text-align: right;\">\n",
       "      <th></th>\n",
       "      <th>user_id</th>\n",
       "      <th>timestamp</th>\n",
       "      <th>group</th>\n",
       "      <th>landing_page</th>\n",
       "      <th>converted</th>\n",
       "    </tr>\n",
       "  </thead>\n",
       "  <tbody>\n",
       "    <tr>\n",
       "      <th>0</th>\n",
       "      <td>851104</td>\n",
       "      <td>2017-01-21 22:11:48.556739</td>\n",
       "      <td>control</td>\n",
       "      <td>old_page</td>\n",
       "      <td>0</td>\n",
       "    </tr>\n",
       "    <tr>\n",
       "      <th>1</th>\n",
       "      <td>804228</td>\n",
       "      <td>2017-01-12 08:01:45.159739</td>\n",
       "      <td>control</td>\n",
       "      <td>old_page</td>\n",
       "      <td>0</td>\n",
       "    </tr>\n",
       "    <tr>\n",
       "      <th>2</th>\n",
       "      <td>661590</td>\n",
       "      <td>2017-01-11 16:55:06.154213</td>\n",
       "      <td>treatment</td>\n",
       "      <td>new_page</td>\n",
       "      <td>0</td>\n",
       "    </tr>\n",
       "    <tr>\n",
       "      <th>3</th>\n",
       "      <td>853541</td>\n",
       "      <td>2017-01-08 18:28:03.143765</td>\n",
       "      <td>treatment</td>\n",
       "      <td>new_page</td>\n",
       "      <td>0</td>\n",
       "    </tr>\n",
       "    <tr>\n",
       "      <th>4</th>\n",
       "      <td>864975</td>\n",
       "      <td>2017-01-21 01:52:26.210827</td>\n",
       "      <td>control</td>\n",
       "      <td>old_page</td>\n",
       "      <td>1</td>\n",
       "    </tr>\n",
       "  </tbody>\n",
       "</table>\n",
       "</div>"
      ],
      "text/plain": [
       "   user_id                   timestamp      group landing_page  converted\n",
       "0   851104  2017-01-21 22:11:48.556739    control     old_page          0\n",
       "1   804228  2017-01-12 08:01:45.159739    control     old_page          0\n",
       "2   661590  2017-01-11 16:55:06.154213  treatment     new_page          0\n",
       "3   853541  2017-01-08 18:28:03.143765  treatment     new_page          0\n",
       "4   864975  2017-01-21 01:52:26.210827    control     old_page          1"
      ]
     },
     "execution_count": 4,
     "metadata": {},
     "output_type": "execute_result"
    }
   ],
   "source": [
    "df.head()"
   ]
  },
  {
   "cell_type": "code",
   "execution_count": 5,
   "metadata": {
    "colab": {
     "base_uri": "https://localhost:8080/",
     "height": 34
    },
    "executionInfo": {
     "elapsed": 58293,
     "status": "ok",
     "timestamp": 1602834745997,
     "user": {
      "displayName": "John Calaunan",
      "photoUrl": "https://lh4.googleusercontent.com/-jCWfMprfyZg/AAAAAAAAAAI/AAAAAAAALlQ/RH3K6uljsyo/s64/photo.jpg",
      "userId": "11296851702912649604"
     },
     "user_tz": -660
    },
    "id": "R2kwxYz_iPko",
    "outputId": "8845568e-0027-49a6-af0a-2a4d74fffbb3"
   },
   "outputs": [
    {
     "data": {
      "text/plain": [
       "(294478, 5)"
      ]
     },
     "execution_count": 5,
     "metadata": {},
     "output_type": "execute_result"
    }
   ],
   "source": [
    "df.shape"
   ]
  },
  {
   "cell_type": "markdown",
   "metadata": {
    "id": "gWqzs-geiPkt"
   },
   "source": [
    "c. The number of unique users in the dataset."
   ]
  },
  {
   "cell_type": "code",
   "execution_count": 6,
   "metadata": {
    "colab": {
     "base_uri": "https://localhost:8080/",
     "height": 34
    },
    "executionInfo": {
     "elapsed": 58283,
     "status": "ok",
     "timestamp": 1602834746000,
     "user": {
      "displayName": "John Calaunan",
      "photoUrl": "https://lh4.googleusercontent.com/-jCWfMprfyZg/AAAAAAAAAAI/AAAAAAAALlQ/RH3K6uljsyo/s64/photo.jpg",
      "userId": "11296851702912649604"
     },
     "user_tz": -660
    },
    "id": "qJeXHM2ViPku",
    "outputId": "3648875f-a649-45af-dbf1-c249d03d43ef"
   },
   "outputs": [
    {
     "data": {
      "text/plain": [
       "290584"
      ]
     },
     "execution_count": 6,
     "metadata": {},
     "output_type": "execute_result"
    }
   ],
   "source": [
    "df.user_id.nunique()"
   ]
  },
  {
   "cell_type": "markdown",
   "metadata": {
    "collapsed": true,
    "id": "vlNXT5JMiPky"
   },
   "source": [
    "d. The proportion of users converted."
   ]
  },
  {
   "cell_type": "code",
   "execution_count": 7,
   "metadata": {
    "colab": {
     "base_uri": "https://localhost:8080/",
     "height": 34
    },
    "executionInfo": {
     "elapsed": 58251,
     "status": "ok",
     "timestamp": 1602834746001,
     "user": {
      "displayName": "John Calaunan",
      "photoUrl": "https://lh4.googleusercontent.com/-jCWfMprfyZg/AAAAAAAAAAI/AAAAAAAALlQ/RH3K6uljsyo/s64/photo.jpg",
      "userId": "11296851702912649604"
     },
     "user_tz": -660
    },
    "id": "9Nq4pIoViPkz",
    "outputId": "3edd94f4-f1d2-4847-a720-0e3339e47c3f"
   },
   "outputs": [
    {
     "data": {
      "text/plain": [
       "0.11965919355605512"
      ]
     },
     "execution_count": 7,
     "metadata": {},
     "output_type": "execute_result"
    }
   ],
   "source": [
    "df.converted.mean()"
   ]
  },
  {
   "cell_type": "markdown",
   "metadata": {
    "collapsed": true,
    "id": "Iq1I7rcyiPk4"
   },
   "source": [
    "e. The number of times the `new_page` and `treatment` don't match."
   ]
  },
  {
   "cell_type": "code",
   "execution_count": 8,
   "metadata": {
    "id": "qKPHxUM3iPk4"
   },
   "outputs": [],
   "source": [
    "treatment = df.query(\"group=='treatment'\")\n",
    "# treatment matches with old\n",
    "old_treatment = treatment.query(\"landing_page=='old_page'\")"
   ]
  },
  {
   "cell_type": "code",
   "execution_count": 9,
   "metadata": {
    "id": "ZiJBi8nTiPk8"
   },
   "outputs": [],
   "source": [
    "control = df.query(\"group=='control'\")\n",
    "new_control = control.query(\"landing_page=='new_page'\")"
   ]
  },
  {
   "cell_type": "code",
   "execution_count": 10,
   "metadata": {
    "colab": {
     "base_uri": "https://localhost:8080/",
     "height": 34
    },
    "executionInfo": {
     "elapsed": 58216,
     "status": "ok",
     "timestamp": 1602834746003,
     "user": {
      "displayName": "John Calaunan",
      "photoUrl": "https://lh4.googleusercontent.com/-jCWfMprfyZg/AAAAAAAAAAI/AAAAAAAALlQ/RH3K6uljsyo/s64/photo.jpg",
      "userId": "11296851702912649604"
     },
     "user_tz": -660
    },
    "id": "QAZwr1-viPk_",
    "outputId": "b8acfd5c-069e-4002-d3e2-465dcdb7d154"
   },
   "outputs": [
    {
     "data": {
      "text/plain": [
       "(1965, 1928)"
      ]
     },
     "execution_count": 10,
     "metadata": {},
     "output_type": "execute_result"
    }
   ],
   "source": [
    "old_treatment.group.count(), new_control.group.count()"
   ]
  },
  {
   "cell_type": "code",
   "execution_count": 11,
   "metadata": {
    "colab": {
     "base_uri": "https://localhost:8080/",
     "height": 34
    },
    "executionInfo": {
     "elapsed": 58199,
     "status": "ok",
     "timestamp": 1602834746004,
     "user": {
      "displayName": "John Calaunan",
      "photoUrl": "https://lh4.googleusercontent.com/-jCWfMprfyZg/AAAAAAAAAAI/AAAAAAAALlQ/RH3K6uljsyo/s64/photo.jpg",
      "userId": "11296851702912649604"
     },
     "user_tz": -660
    },
    "id": "VPB4qQw0iPlC",
    "outputId": "831ca8c2-4753-45e0-aaec-53cab3aa0ef4"
   },
   "outputs": [
    {
     "data": {
      "text/plain": [
       "3893"
      ]
     },
     "execution_count": 11,
     "metadata": {},
     "output_type": "execute_result"
    }
   ],
   "source": [
    "nonmatch = old_treatment.group.count() + new_control.group.count()\n",
    "nonmatch"
   ]
  },
  {
   "cell_type": "markdown",
   "metadata": {
    "id": "9S9w4g5diPlG"
   },
   "source": [
    "f. Do any of the rows have missing values?"
   ]
  },
  {
   "cell_type": "code",
   "execution_count": 12,
   "metadata": {
    "colab": {
     "base_uri": "https://localhost:8080/",
     "height": 119
    },
    "executionInfo": {
     "elapsed": 58181,
     "status": "ok",
     "timestamp": 1602834746005,
     "user": {
      "displayName": "John Calaunan",
      "photoUrl": "https://lh4.googleusercontent.com/-jCWfMprfyZg/AAAAAAAAAAI/AAAAAAAALlQ/RH3K6uljsyo/s64/photo.jpg",
      "userId": "11296851702912649604"
     },
     "user_tz": -660
    },
    "id": "VlIx5EtgiPlH",
    "outputId": "e43fec3e-ebfa-4bb5-df07-56cf1ac38a81"
   },
   "outputs": [
    {
     "data": {
      "text/plain": [
       "user_id         False\n",
       "timestamp       False\n",
       "group           False\n",
       "landing_page    False\n",
       "converted       False\n",
       "dtype: bool"
      ]
     },
     "execution_count": 12,
     "metadata": {},
     "output_type": "execute_result"
    }
   ],
   "source": [
    "df.isnull().count() < df.shape[0]"
   ]
  },
  {
   "cell_type": "markdown",
   "metadata": {
    "id": "E49eYoPXiPlK"
   },
   "source": [
    "`2.` For the rows where **treatment** does not match with **new_page** or **control** does not match with **old_page**, we cannot be sure if this row truly received the new or old page.  Use **Quiz 2** in the classroom to figure out how we should handle these rows.  \n",
    "\n",
    "a. Now use the answer to the quiz to create a new dataset that meets the specifications from the quiz.  Store your new dataframe in **df2**."
   ]
  },
  {
   "cell_type": "code",
   "execution_count": 13,
   "metadata": {
    "id": "MH7W47ghiPlL"
   },
   "outputs": [],
   "source": [
    "df1 = df.drop(old_treatment.index)"
   ]
  },
  {
   "cell_type": "code",
   "execution_count": 14,
   "metadata": {
    "colab": {
     "base_uri": "https://localhost:8080/",
     "height": 34
    },
    "executionInfo": {
     "elapsed": 58163,
     "status": "ok",
     "timestamp": 1602834746007,
     "user": {
      "displayName": "John Calaunan",
      "photoUrl": "https://lh4.googleusercontent.com/-jCWfMprfyZg/AAAAAAAAAAI/AAAAAAAALlQ/RH3K6uljsyo/s64/photo.jpg",
      "userId": "11296851702912649604"
     },
     "user_tz": -660
    },
    "id": "5eKFFVPBiPlO",
    "outputId": "42e3ed8e-5f2d-48df-c5bb-52a9bff951cb"
   },
   "outputs": [
    {
     "data": {
      "text/plain": [
       "1462565"
      ]
     },
     "execution_count": 14,
     "metadata": {},
     "output_type": "execute_result"
    }
   ],
   "source": [
    "df1.size"
   ]
  },
  {
   "cell_type": "code",
   "execution_count": 15,
   "metadata": {
    "id": "MjRiCR5BiPlS"
   },
   "outputs": [],
   "source": [
    "df2 = df1.drop(new_control.index)"
   ]
  },
  {
   "cell_type": "code",
   "execution_count": 16,
   "metadata": {
    "colab": {
     "base_uri": "https://localhost:8080/",
     "height": 34
    },
    "executionInfo": {
     "elapsed": 58149,
     "status": "ok",
     "timestamp": 1602834746010,
     "user": {
      "displayName": "John Calaunan",
      "photoUrl": "https://lh4.googleusercontent.com/-jCWfMprfyZg/AAAAAAAAAAI/AAAAAAAALlQ/RH3K6uljsyo/s64/photo.jpg",
      "userId": "11296851702912649604"
     },
     "user_tz": -660
    },
    "id": "cF99QDvRiPlV",
    "outputId": "9dbde748-f811-4f61-da4b-99d340fe73c4"
   },
   "outputs": [
    {
     "data": {
      "text/plain": [
       "(290585, 5)"
      ]
     },
     "execution_count": 16,
     "metadata": {},
     "output_type": "execute_result"
    }
   ],
   "source": [
    "df2.shape"
   ]
  },
  {
   "cell_type": "code",
   "execution_count": 17,
   "metadata": {
    "colab": {
     "base_uri": "https://localhost:8080/",
     "height": 204
    },
    "executionInfo": {
     "elapsed": 58130,
     "status": "ok",
     "timestamp": 1602834746014,
     "user": {
      "displayName": "John Calaunan",
      "photoUrl": "https://lh4.googleusercontent.com/-jCWfMprfyZg/AAAAAAAAAAI/AAAAAAAALlQ/RH3K6uljsyo/s64/photo.jpg",
      "userId": "11296851702912649604"
     },
     "user_tz": -660
    },
    "id": "7c_9aDnCiPla",
    "outputId": "8d006029-b07e-4a81-9faa-1da33383f155",
    "scrolled": true
   },
   "outputs": [
    {
     "data": {
      "text/html": [
       "<div>\n",
       "<style scoped>\n",
       "    .dataframe tbody tr th:only-of-type {\n",
       "        vertical-align: middle;\n",
       "    }\n",
       "\n",
       "    .dataframe tbody tr th {\n",
       "        vertical-align: top;\n",
       "    }\n",
       "\n",
       "    .dataframe thead th {\n",
       "        text-align: right;\n",
       "    }\n",
       "</style>\n",
       "<table border=\"1\" class=\"dataframe\">\n",
       "  <thead>\n",
       "    <tr style=\"text-align: right;\">\n",
       "      <th></th>\n",
       "      <th>user_id</th>\n",
       "      <th>timestamp</th>\n",
       "      <th>group</th>\n",
       "      <th>landing_page</th>\n",
       "      <th>converted</th>\n",
       "    </tr>\n",
       "  </thead>\n",
       "  <tbody>\n",
       "    <tr>\n",
       "      <th>0</th>\n",
       "      <td>851104</td>\n",
       "      <td>2017-01-21 22:11:48.556739</td>\n",
       "      <td>control</td>\n",
       "      <td>old_page</td>\n",
       "      <td>0</td>\n",
       "    </tr>\n",
       "    <tr>\n",
       "      <th>1</th>\n",
       "      <td>804228</td>\n",
       "      <td>2017-01-12 08:01:45.159739</td>\n",
       "      <td>control</td>\n",
       "      <td>old_page</td>\n",
       "      <td>0</td>\n",
       "    </tr>\n",
       "    <tr>\n",
       "      <th>2</th>\n",
       "      <td>661590</td>\n",
       "      <td>2017-01-11 16:55:06.154213</td>\n",
       "      <td>treatment</td>\n",
       "      <td>new_page</td>\n",
       "      <td>0</td>\n",
       "    </tr>\n",
       "    <tr>\n",
       "      <th>3</th>\n",
       "      <td>853541</td>\n",
       "      <td>2017-01-08 18:28:03.143765</td>\n",
       "      <td>treatment</td>\n",
       "      <td>new_page</td>\n",
       "      <td>0</td>\n",
       "    </tr>\n",
       "    <tr>\n",
       "      <th>4</th>\n",
       "      <td>864975</td>\n",
       "      <td>2017-01-21 01:52:26.210827</td>\n",
       "      <td>control</td>\n",
       "      <td>old_page</td>\n",
       "      <td>1</td>\n",
       "    </tr>\n",
       "  </tbody>\n",
       "</table>\n",
       "</div>"
      ],
      "text/plain": [
       "   user_id                   timestamp      group landing_page  converted\n",
       "0   851104  2017-01-21 22:11:48.556739    control     old_page          0\n",
       "1   804228  2017-01-12 08:01:45.159739    control     old_page          0\n",
       "2   661590  2017-01-11 16:55:06.154213  treatment     new_page          0\n",
       "3   853541  2017-01-08 18:28:03.143765  treatment     new_page          0\n",
       "4   864975  2017-01-21 01:52:26.210827    control     old_page          1"
      ]
     },
     "execution_count": 17,
     "metadata": {},
     "output_type": "execute_result"
    }
   ],
   "source": [
    "df2.head()"
   ]
  },
  {
   "cell_type": "code",
   "execution_count": 18,
   "metadata": {
    "colab": {
     "base_uri": "https://localhost:8080/",
     "height": 34
    },
    "executionInfo": {
     "elapsed": 58107,
     "status": "ok",
     "timestamp": 1602834746015,
     "user": {
      "displayName": "John Calaunan",
      "photoUrl": "https://lh4.googleusercontent.com/-jCWfMprfyZg/AAAAAAAAAAI/AAAAAAAALlQ/RH3K6uljsyo/s64/photo.jpg",
      "userId": "11296851702912649604"
     },
     "user_tz": -660
    },
    "id": "YEa2tohJiPlf",
    "outputId": "caf0bcac-5771-43c1-8bd1-0d2075fa8290",
    "scrolled": true
   },
   "outputs": [
    {
     "data": {
      "text/plain": [
       "0"
      ]
     },
     "execution_count": 18,
     "metadata": {},
     "output_type": "execute_result"
    }
   ],
   "source": [
    "# Double check all of the correct rows were removed - this should be 0\n",
    "df2[((df2['group'] == 'treatment') == (df2['landing_page'] == 'new_page')) == False].shape[0]"
   ]
  },
  {
   "cell_type": "markdown",
   "metadata": {
    "id": "rwL-_W4ziPlj"
   },
   "source": [
    "`3.` Use **df2** and the cells below to answer questions for **Quiz3** in the classroom."
   ]
  },
  {
   "cell_type": "markdown",
   "metadata": {
    "id": "4Xt3Nf73iPlk"
   },
   "source": [
    "a. How many unique **user_id**s are in **df2**?"
   ]
  },
  {
   "cell_type": "code",
   "execution_count": 19,
   "metadata": {
    "colab": {
     "base_uri": "https://localhost:8080/",
     "height": 221
    },
    "executionInfo": {
     "elapsed": 58095,
     "status": "ok",
     "timestamp": 1602834746016,
     "user": {
      "displayName": "John Calaunan",
      "photoUrl": "https://lh4.googleusercontent.com/-jCWfMprfyZg/AAAAAAAAAAI/AAAAAAAALlQ/RH3K6uljsyo/s64/photo.jpg",
      "userId": "11296851702912649604"
     },
     "user_tz": -660
    },
    "id": "Nbi9WDW6iPll",
    "outputId": "2fe6ddd5-0593-4491-df3a-ff24e710978e",
    "scrolled": true
   },
   "outputs": [
    {
     "name": "stdout",
     "output_type": "stream",
     "text": [
      "<class 'pandas.core.frame.DataFrame'>\n",
      "Int64Index: 290585 entries, 0 to 294477\n",
      "Data columns (total 5 columns):\n",
      " #   Column        Non-Null Count   Dtype \n",
      "---  ------        --------------   ----- \n",
      " 0   user_id       290585 non-null  int64 \n",
      " 1   timestamp     290585 non-null  object\n",
      " 2   group         290585 non-null  object\n",
      " 3   landing_page  290585 non-null  object\n",
      " 4   converted     290585 non-null  int64 \n",
      "dtypes: int64(2), object(3)\n",
      "memory usage: 13.3+ MB\n"
     ]
    }
   ],
   "source": [
    "# Quick overview of entire dataset\n",
    "df2.info()"
   ]
  },
  {
   "cell_type": "code",
   "execution_count": 20,
   "metadata": {
    "colab": {
     "base_uri": "https://localhost:8080/",
     "height": 119
    },
    "executionInfo": {
     "elapsed": 58080,
     "status": "ok",
     "timestamp": 1602834746016,
     "user": {
      "displayName": "John Calaunan",
      "photoUrl": "https://lh4.googleusercontent.com/-jCWfMprfyZg/AAAAAAAAAAI/AAAAAAAALlQ/RH3K6uljsyo/s64/photo.jpg",
      "userId": "11296851702912649604"
     },
     "user_tz": -660
    },
    "id": "RFBX0m3-iPlo",
    "outputId": "998a4dc2-f474-41ce-80ed-3abe4685eb5f"
   },
   "outputs": [
    {
     "data": {
      "text/plain": [
       "user_id         290584\n",
       "timestamp       290585\n",
       "group                2\n",
       "landing_page         2\n",
       "converted            2\n",
       "dtype: int64"
      ]
     },
     "execution_count": 20,
     "metadata": {},
     "output_type": "execute_result"
    }
   ],
   "source": [
    "df2.nunique()"
   ]
  },
  {
   "cell_type": "markdown",
   "metadata": {},
   "source": [
    "*There appears to be a double up in timestamp*"
   ]
  },
  {
   "cell_type": "markdown",
   "metadata": {
    "collapsed": true,
    "id": "wFcF7D2miPlr"
   },
   "source": [
    "b. There is one **user_id** repeated in **df2**.  What is it?"
   ]
  },
  {
   "cell_type": "code",
   "execution_count": 21,
   "metadata": {
    "id": "87mDsjPziPlr"
   },
   "outputs": [],
   "source": [
    "# create mask to find duplicated, returning true/false results\n",
    "mask = df2['user_id'].duplicated()"
   ]
  },
  {
   "cell_type": "code",
   "execution_count": 22,
   "metadata": {
    "colab": {
     "base_uri": "https://localhost:8080/",
     "height": 80
    },
    "executionInfo": {
     "elapsed": 58056,
     "status": "ok",
     "timestamp": 1602834746017,
     "user": {
      "displayName": "John Calaunan",
      "photoUrl": "https://lh4.googleusercontent.com/-jCWfMprfyZg/AAAAAAAAAAI/AAAAAAAALlQ/RH3K6uljsyo/s64/photo.jpg",
      "userId": "11296851702912649604"
     },
     "user_tz": -660
    },
    "id": "lVSTQpx9iPlv",
    "outputId": "d82c826c-0472-40e7-ce37-4c835f52d893",
    "scrolled": true
   },
   "outputs": [
    {
     "data": {
      "text/html": [
       "<div>\n",
       "<style scoped>\n",
       "    .dataframe tbody tr th:only-of-type {\n",
       "        vertical-align: middle;\n",
       "    }\n",
       "\n",
       "    .dataframe tbody tr th {\n",
       "        vertical-align: top;\n",
       "    }\n",
       "\n",
       "    .dataframe thead th {\n",
       "        text-align: right;\n",
       "    }\n",
       "</style>\n",
       "<table border=\"1\" class=\"dataframe\">\n",
       "  <thead>\n",
       "    <tr style=\"text-align: right;\">\n",
       "      <th></th>\n",
       "      <th>user_id</th>\n",
       "      <th>timestamp</th>\n",
       "      <th>group</th>\n",
       "      <th>landing_page</th>\n",
       "      <th>converted</th>\n",
       "    </tr>\n",
       "  </thead>\n",
       "  <tbody>\n",
       "    <tr>\n",
       "      <th>2893</th>\n",
       "      <td>773192</td>\n",
       "      <td>2017-01-14 02:55:59.590927</td>\n",
       "      <td>treatment</td>\n",
       "      <td>new_page</td>\n",
       "      <td>0</td>\n",
       "    </tr>\n",
       "  </tbody>\n",
       "</table>\n",
       "</div>"
      ],
      "text/plain": [
       "      user_id                   timestamp      group landing_page  converted\n",
       "2893   773192  2017-01-14 02:55:59.590927  treatment     new_page          0"
      ]
     },
     "execution_count": 22,
     "metadata": {},
     "output_type": "execute_result"
    }
   ],
   "source": [
    "# Apply mask to only return true\n",
    "df2[mask]"
   ]
  },
  {
   "cell_type": "markdown",
   "metadata": {
    "id": "0QG_dVUCiPly"
   },
   "source": [
    "c. What is the row information for the repeat **user_id**? "
   ]
  },
  {
   "cell_type": "code",
   "execution_count": 23,
   "metadata": {
    "colab": {
     "base_uri": "https://localhost:8080/",
     "height": 34
    },
    "executionInfo": {
     "elapsed": 57999,
     "status": "ok",
     "timestamp": 1602834746018,
     "user": {
      "displayName": "John Calaunan",
      "photoUrl": "https://lh4.googleusercontent.com/-jCWfMprfyZg/AAAAAAAAAAI/AAAAAAAALlQ/RH3K6uljsyo/s64/photo.jpg",
      "userId": "11296851702912649604"
     },
     "user_tz": -660
    },
    "id": "Bo_u747ViPlz",
    "outputId": "3f1d0e93-4427-42c6-92e0-cb98ab74ab01"
   },
   "outputs": [
    {
     "data": {
      "text/plain": [
       "2893"
      ]
     },
     "execution_count": 23,
     "metadata": {},
     "output_type": "execute_result"
    }
   ],
   "source": [
    "dup_index = df2[mask].index[0]\n",
    "dup_index"
   ]
  },
  {
   "cell_type": "markdown",
   "metadata": {
    "id": "sNX8MQ5SiPl3"
   },
   "source": [
    "d. Remove **one** of the rows with a duplicate **user_id**, but keep your dataframe as **df2**."
   ]
  },
  {
   "cell_type": "code",
   "execution_count": 24,
   "metadata": {
    "colab": {
     "base_uri": "https://localhost:8080/",
     "height": 34
    },
    "executionInfo": {
     "elapsed": 57979,
     "status": "ok",
     "timestamp": 1602834746019,
     "user": {
      "displayName": "John Calaunan",
      "photoUrl": "https://lh4.googleusercontent.com/-jCWfMprfyZg/AAAAAAAAAAI/AAAAAAAALlQ/RH3K6uljsyo/s64/photo.jpg",
      "userId": "11296851702912649604"
     },
     "user_tz": -660
    },
    "id": "l8Yeo15UiPl4",
    "outputId": "2c0916bf-4564-4dd0-8a7a-ecf946aea5b8"
   },
   "outputs": [
    {
     "data": {
      "text/plain": [
       "(290585, 5)"
      ]
     },
     "execution_count": 24,
     "metadata": {},
     "output_type": "execute_result"
    }
   ],
   "source": [
    "df2.shape"
   ]
  },
  {
   "cell_type": "code",
   "execution_count": 25,
   "metadata": {
    "id": "4Be0rv_ziPl6"
   },
   "outputs": [],
   "source": [
    "df2.drop(dup_index, inplace=True)"
   ]
  },
  {
   "cell_type": "code",
   "execution_count": 26,
   "metadata": {
    "colab": {
     "base_uri": "https://localhost:8080/",
     "height": 34
    },
    "executionInfo": {
     "elapsed": 57941,
     "status": "ok",
     "timestamp": 1602834746020,
     "user": {
      "displayName": "John Calaunan",
      "photoUrl": "https://lh4.googleusercontent.com/-jCWfMprfyZg/AAAAAAAAAAI/AAAAAAAALlQ/RH3K6uljsyo/s64/photo.jpg",
      "userId": "11296851702912649604"
     },
     "user_tz": -660
    },
    "id": "R7Cr-3ZriPl_",
    "outputId": "b2580c1a-8fb3-4e64-b15c-c6c69d73fea3"
   },
   "outputs": [
    {
     "data": {
      "text/plain": [
       "(290584, 5)"
      ]
     },
     "execution_count": 26,
     "metadata": {},
     "output_type": "execute_result"
    }
   ],
   "source": [
    "# sanity check to confirm\n",
    "df2.shape"
   ]
  },
  {
   "cell_type": "markdown",
   "metadata": {
    "id": "Cls6CnLqiPmC"
   },
   "source": [
    "`4.` Use **df2** in the cells below to answer the quiz questions related to **Quiz 4** in the classroom.\n",
    "\n",
    "a. What is the probability of an individual converting regardless of the page they receive?"
   ]
  },
  {
   "cell_type": "code",
   "execution_count": 27,
   "metadata": {
    "colab": {
     "base_uri": "https://localhost:8080/",
     "height": 204
    },
    "executionInfo": {
     "elapsed": 57906,
     "status": "ok",
     "timestamp": 1602834746021,
     "user": {
      "displayName": "John Calaunan",
      "photoUrl": "https://lh4.googleusercontent.com/-jCWfMprfyZg/AAAAAAAAAAI/AAAAAAAALlQ/RH3K6uljsyo/s64/photo.jpg",
      "userId": "11296851702912649604"
     },
     "user_tz": -660
    },
    "id": "tDAGr29NiPmC",
    "outputId": "6ed20164-3b91-4992-bb80-b1aadef0b57b"
   },
   "outputs": [
    {
     "data": {
      "text/html": [
       "<div>\n",
       "<style scoped>\n",
       "    .dataframe tbody tr th:only-of-type {\n",
       "        vertical-align: middle;\n",
       "    }\n",
       "\n",
       "    .dataframe tbody tr th {\n",
       "        vertical-align: top;\n",
       "    }\n",
       "\n",
       "    .dataframe thead th {\n",
       "        text-align: right;\n",
       "    }\n",
       "</style>\n",
       "<table border=\"1\" class=\"dataframe\">\n",
       "  <thead>\n",
       "    <tr style=\"text-align: right;\">\n",
       "      <th></th>\n",
       "      <th>user_id</th>\n",
       "      <th>timestamp</th>\n",
       "      <th>group</th>\n",
       "      <th>landing_page</th>\n",
       "      <th>converted</th>\n",
       "    </tr>\n",
       "  </thead>\n",
       "  <tbody>\n",
       "    <tr>\n",
       "      <th>0</th>\n",
       "      <td>851104</td>\n",
       "      <td>2017-01-21 22:11:48.556739</td>\n",
       "      <td>control</td>\n",
       "      <td>old_page</td>\n",
       "      <td>0</td>\n",
       "    </tr>\n",
       "    <tr>\n",
       "      <th>1</th>\n",
       "      <td>804228</td>\n",
       "      <td>2017-01-12 08:01:45.159739</td>\n",
       "      <td>control</td>\n",
       "      <td>old_page</td>\n",
       "      <td>0</td>\n",
       "    </tr>\n",
       "    <tr>\n",
       "      <th>2</th>\n",
       "      <td>661590</td>\n",
       "      <td>2017-01-11 16:55:06.154213</td>\n",
       "      <td>treatment</td>\n",
       "      <td>new_page</td>\n",
       "      <td>0</td>\n",
       "    </tr>\n",
       "  </tbody>\n",
       "</table>\n",
       "</div>"
      ],
      "text/plain": [
       "   user_id                   timestamp      group landing_page  converted\n",
       "0   851104  2017-01-21 22:11:48.556739    control     old_page          0\n",
       "1   804228  2017-01-12 08:01:45.159739    control     old_page          0\n",
       "2   661590  2017-01-11 16:55:06.154213  treatment     new_page          0"
      ]
     },
     "execution_count": 27,
     "metadata": {},
     "output_type": "execute_result"
    }
   ],
   "source": [
    "# Quickly review of data\n",
    "df2.head(3) "
   ]
  },
  {
   "cell_type": "code",
   "execution_count": 28,
   "metadata": {
    "colab": {
     "base_uri": "https://localhost:8080/",
     "height": 34
    },
    "executionInfo": {
     "elapsed": 57892,
     "status": "ok",
     "timestamp": 1602834746022,
     "user": {
      "displayName": "John Calaunan",
      "photoUrl": "https://lh4.googleusercontent.com/-jCWfMprfyZg/AAAAAAAAAAI/AAAAAAAALlQ/RH3K6uljsyo/s64/photo.jpg",
      "userId": "11296851702912649604"
     },
     "user_tz": -660
    },
    "id": "AAX0ktXhiPmF",
    "outputId": "0d5473f9-166c-478a-94ab-125662cb81ba"
   },
   "outputs": [
    {
     "data": {
      "text/plain": [
       "0.11959708724499628"
      ]
     },
     "execution_count": 28,
     "metadata": {},
     "output_type": "execute_result"
    }
   ],
   "source": [
    "# the probability of converting is:\n",
    "df2.converted.mean()"
   ]
  },
  {
   "cell_type": "markdown",
   "metadata": {
    "id": "PbeC-buWiPmI"
   },
   "source": [
    "b. Given that an individual was in the `control` group, what is the probability they converted?"
   ]
  },
  {
   "cell_type": "code",
   "execution_count": 29,
   "metadata": {
    "colab": {
     "base_uri": "https://localhost:8080/",
     "height": 34
    },
    "executionInfo": {
     "elapsed": 57889,
     "status": "ok",
     "timestamp": 1602834746031,
     "user": {
      "displayName": "John Calaunan",
      "photoUrl": "https://lh4.googleusercontent.com/-jCWfMprfyZg/AAAAAAAAAAI/AAAAAAAALlQ/RH3K6uljsyo/s64/photo.jpg",
      "userId": "11296851702912649604"
     },
     "user_tz": -660
    },
    "id": "D6Q7Byc8iPmI",
    "outputId": "493f73d9-e973-407d-a158-2c68e5c11167"
   },
   "outputs": [
    {
     "data": {
      "text/plain": [
       "0.1203863045004612"
      ]
     },
     "execution_count": 29,
     "metadata": {},
     "output_type": "execute_result"
    }
   ],
   "source": [
    "control_df = df2[df2.group == 'control']\n",
    "control_df.converted.mean()"
   ]
  },
  {
   "cell_type": "markdown",
   "metadata": {
    "id": "iEy3FmDMiPmM"
   },
   "source": [
    "c. Given that an individual was in the `treatment` group, what is the probability they converted?"
   ]
  },
  {
   "cell_type": "code",
   "execution_count": 30,
   "metadata": {
    "colab": {
     "base_uri": "https://localhost:8080/",
     "height": 34
    },
    "executionInfo": {
     "elapsed": 57879,
     "status": "ok",
     "timestamp": 1602834746032,
     "user": {
      "displayName": "John Calaunan",
      "photoUrl": "https://lh4.googleusercontent.com/-jCWfMprfyZg/AAAAAAAAAAI/AAAAAAAALlQ/RH3K6uljsyo/s64/photo.jpg",
      "userId": "11296851702912649604"
     },
     "user_tz": -660
    },
    "id": "wQWjGb0iiPmM",
    "outputId": "2a02339e-fa34-418f-aa72-21e14b9f628e"
   },
   "outputs": [
    {
     "data": {
      "text/plain": [
       "0.11880806551510564"
      ]
     },
     "execution_count": 30,
     "metadata": {},
     "output_type": "execute_result"
    }
   ],
   "source": [
    "treatment_df = df2[df2.group == 'treatment']\n",
    "treatment_df.converted.mean()"
   ]
  },
  {
   "cell_type": "markdown",
   "metadata": {
    "id": "KIgt-w7hiPmQ"
   },
   "source": [
    "d. What is the probability that an individual received the new page?"
   ]
  },
  {
   "cell_type": "code",
   "execution_count": 31,
   "metadata": {
    "colab": {
     "base_uri": "https://localhost:8080/",
     "height": 34
    },
    "executionInfo": {
     "elapsed": 57798,
     "status": "ok",
     "timestamp": 1602834746033,
     "user": {
      "displayName": "John Calaunan",
      "photoUrl": "https://lh4.googleusercontent.com/-jCWfMprfyZg/AAAAAAAAAAI/AAAAAAAALlQ/RH3K6uljsyo/s64/photo.jpg",
      "userId": "11296851702912649604"
     },
     "user_tz": -660
    },
    "id": "Bt_aZzDeiPmQ",
    "outputId": "581c0c97-fab2-4cd6-c809-0cb7c27cf5db"
   },
   "outputs": [
    {
     "data": {
      "text/plain": [
       "145310"
      ]
     },
     "execution_count": 31,
     "metadata": {},
     "output_type": "execute_result"
    }
   ],
   "source": [
    "newpage_df = df2[df2.landing_page == 'new_page']\n",
    "newpage_df.shape[0]"
   ]
  },
  {
   "cell_type": "code",
   "execution_count": 32,
   "metadata": {
    "colab": {
     "base_uri": "https://localhost:8080/",
     "height": 119
    },
    "executionInfo": {
     "elapsed": 57783,
     "status": "ok",
     "timestamp": 1602834746033,
     "user": {
      "displayName": "John Calaunan",
      "photoUrl": "https://lh4.googleusercontent.com/-jCWfMprfyZg/AAAAAAAAAAI/AAAAAAAALlQ/RH3K6uljsyo/s64/photo.jpg",
      "userId": "11296851702912649604"
     },
     "user_tz": -660
    },
    "id": "8YEt7F8EiPmT",
    "outputId": "980e1927-d91b-4bab-eb7b-5be2959a49e3"
   },
   "outputs": [
    {
     "data": {
      "text/plain": [
       "0.5001"
      ]
     },
     "execution_count": 32,
     "metadata": {},
     "output_type": "execute_result"
    }
   ],
   "source": [
    "round(newpage_df.shape[0]/df2.shape[0], 4)"
   ]
  },
  {
   "cell_type": "markdown",
   "metadata": {
    "id": "J9bQJjIpiPmV"
   },
   "source": [
    "e. Consider your results from parts (a) through (d) above, and explain below whether you think there is sufficient evidence to conclude that the new treatment page leads to more conversions."
   ]
  },
  {
   "cell_type": "markdown",
   "metadata": {
    "id": "GHp0HAraiPmW"
   },
   "source": [
    "**Answer: No, deriving information from the populations proportions is inadequate to reach a conclusion as it is limiting, more bootstrap sampling and normalising is required to provide a definite and practical solution.**"
   ]
  },
  {
   "cell_type": "markdown",
   "metadata": {
    "id": "w1nuRmQaiPmW"
   },
   "source": [
    "<a id='ab_test'></a>\n",
    "### Part II - A/B Test\n",
    "\n",
    "Notice that because of the time stamp associated with each event, you could technically run a hypothesis test continuously as each observation was observed.  \n",
    "\n",
    "However, then the hard question is do you stop as soon as one page is considered significantly better than another or does it need to happen consistently for a certain amount of time?  How long do you run to render a decision that neither page is better than another?  \n",
    "\n",
    "These questions are the difficult parts associated with A/B tests in general.  \n",
    "\n",
    "\n",
    "`1.` For now, consider you need to make the decision just based on all the data provided.  If you want to assume that the old page is better unless the new page proves to be definitely better at a Type I error rate of 5%, what should your null and alternative hypotheses be?  You can state your hypothesis in terms of words or in terms of **$p_{old}$** and **$p_{new}$**, which are the converted rates for the old and new pages."
   ]
  },
  {
   "cell_type": "markdown",
   "metadata": {
    "id": "g5cgM4KziPmX"
   },
   "source": [
    "**H0: 𝑝𝑛𝑒𝑤 - 𝑝𝑜𝑙𝑑 <= 0, where 𝑝𝑛𝑒𝑤 is not converted being true due to the new page, i.e. old page is better.**\n",
    "\n",
    "**H1: 𝑝𝑛𝑒𝑤 - 𝑝𝑜𝑙𝑑 > 0, where 𝑝𝑛𝑒𝑤 is the probability of those converted due to the new page.**"
   ]
  },
  {
   "cell_type": "markdown",
   "metadata": {
    "id": "dcsSvsHBiPmX"
   },
   "source": [
    "`2.` Assume under the null hypothesis, $p_{new}$ and $p_{old}$ both have \"true\" success rates equal to the **converted** success rate regardless of page - that is $p_{new}$ and $p_{old}$ are equal. Furthermore, assume they are equal to the **converted** rate in **ab_data.csv** regardless of the page. <br><br>\n",
    "\n",
    "Use a sample size for each page equal to the ones in **ab_data.csv**.  <br><br>\n",
    "\n",
    "Perform the sampling distribution for the difference in **converted** between the two pages over 10,000 iterations of calculating an estimate from the null.  <br><br>\n",
    "\n",
    "Use the cells below to provide the necessary parts of this simulation.  If this doesn't make complete sense right now, don't worry - you are going to work through the problems below to complete this problem.  You can use **Quiz 5** in the classroom to make sure you are on the right track.<br><br>"
   ]
  },
  {
   "cell_type": "code",
   "execution_count": 33,
   "metadata": {
    "colab": {
     "base_uri": "https://localhost:8080/",
     "height": 34
    },
    "executionInfo": {
     "elapsed": 57767,
     "status": "ok",
     "timestamp": 1602834746034,
     "user": {
      "displayName": "John Calaunan",
      "photoUrl": "https://lh4.googleusercontent.com/-jCWfMprfyZg/AAAAAAAAAAI/AAAAAAAALlQ/RH3K6uljsyo/s64/photo.jpg",
      "userId": "11296851702912649604"
     },
     "user_tz": -660
    },
    "id": "zaZgIcYviPmY",
    "outputId": "fe3c010e-2c6e-470f-c8bc-cce71a3491a1",
    "scrolled": true
   },
   "outputs": [
    {
     "data": {
      "text/plain": [
       "0.119597"
      ]
     },
     "execution_count": 33,
     "metadata": {},
     "output_type": "execute_result"
    }
   ],
   "source": [
    "# assume they are equal to the converted rate in ab_data.csv, !regardless of page landed!\n",
    "# use df2 as it is the cleaned dataset\n",
    "round(df2.converted.mean(),6)"
   ]
  },
  {
   "cell_type": "code",
   "execution_count": 34,
   "metadata": {
    "colab": {
     "base_uri": "https://localhost:8080/",
     "height": 34
    },
    "executionInfo": {
     "elapsed": 57756,
     "status": "ok",
     "timestamp": 1602834746035,
     "user": {
      "displayName": "John Calaunan",
      "photoUrl": "https://lh4.googleusercontent.com/-jCWfMprfyZg/AAAAAAAAAAI/AAAAAAAALlQ/RH3K6uljsyo/s64/photo.jpg",
      "userId": "11296851702912649604"
     },
     "user_tz": -660
    },
    "id": "9XdiBCv4iPmb",
    "outputId": "e3f36175-34e1-4937-8d69-af238d58f9ce"
   },
   "outputs": [
    {
     "data": {
      "text/plain": [
       "290584"
      ]
     },
     "execution_count": 34,
     "metadata": {},
     "output_type": "execute_result"
    }
   ],
   "source": [
    "# sample size\n",
    "df2.shape[0]"
   ]
  },
  {
   "cell_type": "markdown",
   "metadata": {
    "id": "6EbZmz2UiPme"
   },
   "source": [
    "a. What is the **conversion rate** for $p_{new}$ under the null? "
   ]
  },
  {
   "cell_type": "code",
   "execution_count": 35,
   "metadata": {
    "colab": {
     "base_uri": "https://localhost:8080/",
     "height": 34
    },
    "executionInfo": {
     "elapsed": 57759,
     "status": "ok",
     "timestamp": 1602834746048,
     "user": {
      "displayName": "John Calaunan",
      "photoUrl": "https://lh4.googleusercontent.com/-jCWfMprfyZg/AAAAAAAAAAI/AAAAAAAALlQ/RH3K6uljsyo/s64/photo.jpg",
      "userId": "11296851702912649604"
     },
     "user_tz": -660
    },
    "id": "OJtCO25ViPmf",
    "outputId": "82257bf4-6b26-438c-881d-5f7725d2bb4b"
   },
   "outputs": [
    {
     "data": {
      "text/plain": [
       "0.119597"
      ]
     },
     "execution_count": 35,
     "metadata": {},
     "output_type": "execute_result"
    }
   ],
   "source": [
    "# assume they are equal to the converted rate in ab_data.csv regardless of the page\n",
    "#pcov = pnew = pold\n",
    "p_cov = df2.converted.mean()\n",
    "round((p_cov),6)"
   ]
  },
  {
   "cell_type": "markdown",
   "metadata": {
    "id": "3bh5RB8AiPmh"
   },
   "source": [
    "b. What is the **conversion rate** for $p_{old}$ under the null? <br><br>"
   ]
  },
  {
   "cell_type": "code",
   "execution_count": 36,
   "metadata": {
    "colab": {
     "base_uri": "https://localhost:8080/",
     "height": 34
    },
    "executionInfo": {
     "elapsed": 57748,
     "status": "ok",
     "timestamp": 1602834746049,
     "user": {
      "displayName": "John Calaunan",
      "photoUrl": "https://lh4.googleusercontent.com/-jCWfMprfyZg/AAAAAAAAAAI/AAAAAAAALlQ/RH3K6uljsyo/s64/photo.jpg",
      "userId": "11296851702912649604"
     },
     "user_tz": -660
    },
    "id": "_IMskPeAiPmi",
    "outputId": "81a0686b-48a3-4b7d-f7e0-67fd1584b675"
   },
   "outputs": [
    {
     "data": {
      "text/plain": [
       "0.119597"
      ]
     },
     "execution_count": 36,
     "metadata": {},
     "output_type": "execute_result"
    }
   ],
   "source": [
    "# As above in a.\n",
    "round((p_cov),6)"
   ]
  },
  {
   "cell_type": "markdown",
   "metadata": {
    "id": "SiYnEbNPiPmk"
   },
   "source": [
    "c. What is $n_{new}$, the number of individuals in the treatment group?"
   ]
  },
  {
   "cell_type": "code",
   "execution_count": 37,
   "metadata": {
    "colab": {
     "base_uri": "https://localhost:8080/",
     "height": 34
    },
    "executionInfo": {
     "elapsed": 871,
     "status": "ok",
     "timestamp": 1602844310636,
     "user": {
      "displayName": "John Calaunan",
      "photoUrl": "https://lh4.googleusercontent.com/-jCWfMprfyZg/AAAAAAAAAAI/AAAAAAAALlQ/RH3K6uljsyo/s64/photo.jpg",
      "userId": "11296851702912649604"
     },
     "user_tz": -660
    },
    "id": "VnzDkt3qiPml",
    "outputId": "6ff5bdaf-ddc3-461f-9622-9bf4d02956c5"
   },
   "outputs": [
    {
     "data": {
      "text/plain": [
       "145310"
      ]
     },
     "execution_count": 37,
     "metadata": {},
     "output_type": "execute_result"
    }
   ],
   "source": [
    "# with duplicates removed, no need to utilise nunique()\n",
    "num_new = df2.query(\"group == 'treatment'\")\n",
    "n_new = num_new.user_id.nunique()\n",
    "n_new"
   ]
  },
  {
   "cell_type": "markdown",
   "metadata": {
    "id": "hb_PGI8WiPmo"
   },
   "source": [
    "d. What is $n_{old}$, the number of individuals in the control group?"
   ]
  },
  {
   "cell_type": "code",
   "execution_count": 38,
   "metadata": {
    "colab": {
     "base_uri": "https://localhost:8080/",
     "height": 34
    },
    "executionInfo": {
     "elapsed": 940,
     "status": "ok",
     "timestamp": 1602844455621,
     "user": {
      "displayName": "John Calaunan",
      "photoUrl": "https://lh4.googleusercontent.com/-jCWfMprfyZg/AAAAAAAAAAI/AAAAAAAALlQ/RH3K6uljsyo/s64/photo.jpg",
      "userId": "11296851702912649604"
     },
     "user_tz": -660
    },
    "id": "sJhqyirCiPmp",
    "outputId": "a3749ab5-2bc6-425c-c587-df124af7d627"
   },
   "outputs": [
    {
     "data": {
      "text/plain": [
       "145274"
      ]
     },
     "execution_count": 38,
     "metadata": {},
     "output_type": "execute_result"
    }
   ],
   "source": [
    "num_old = df2.query(\"group == 'control'\")\n",
    "n_old = num_old.user_id.nunique()\n",
    "n_old"
   ]
  },
  {
   "cell_type": "markdown",
   "metadata": {
    "id": "RUUoJ6GqiPmt"
   },
   "source": [
    "e. Simulate $n_{new}$ transactions with a conversion rate of $p_{new}$ under the null.  Store these $n_{new}$ 1's and 0's in **new_page_converted**."
   ]
  },
  {
   "cell_type": "code",
   "execution_count": 39,
   "metadata": {
    "executionInfo": {
     "elapsed": 797,
     "status": "ok",
     "timestamp": 1602844321386,
     "user": {
      "displayName": "John Calaunan",
      "photoUrl": "https://lh4.googleusercontent.com/-jCWfMprfyZg/AAAAAAAAAAI/AAAAAAAALlQ/RH3K6uljsyo/s64/photo.jpg",
      "userId": "11296851702912649604"
     },
     "user_tz": -660
    },
    "id": "z-Gvy4RfiPmu"
   },
   "outputs": [],
   "source": [
    "# pd.sample does not simulate with probability, from prior lesson need to use np.random.choice to achieve this. Can also use random.binomial as we are simulating 0,1 i.e. converted or not\n",
    "new_page_converted = np.random.choice([1,0], size=n_new, p=[p_cov, (1- p_cov)], replace=True)"
   ]
  },
  {
   "cell_type": "code",
   "execution_count": 40,
   "metadata": {
    "colab": {
     "base_uri": "https://localhost:8080/",
     "height": 34
    },
    "executionInfo": {
     "elapsed": 982,
     "status": "ok",
     "timestamp": 1602844323494,
     "user": {
      "displayName": "John Calaunan",
      "photoUrl": "https://lh4.googleusercontent.com/-jCWfMprfyZg/AAAAAAAAAAI/AAAAAAAALlQ/RH3K6uljsyo/s64/photo.jpg",
      "userId": "11296851702912649604"
     },
     "user_tz": -660
    },
    "id": "pnyQGjrGoMAa",
    "outputId": "fb6bbe45-6da5-4baa-a393-8717c4d09365"
   },
   "outputs": [
    {
     "data": {
      "text/plain": [
       "0.119517"
      ]
     },
     "execution_count": 40,
     "metadata": {},
     "output_type": "execute_result"
    }
   ],
   "source": [
    "# sample of new, type conversion below\n",
    "p_new = np.array(new_page_converted)\n",
    "round(p_new.mean(),6)"
   ]
  },
  {
   "cell_type": "code",
   "execution_count": 41,
   "metadata": {
    "colab": {
     "base_uri": "https://localhost:8080/",
     "height": 34
    },
    "executionInfo": {
     "elapsed": 2853,
     "status": "ok",
     "timestamp": 1602844347643,
     "user": {
      "displayName": "John Calaunan",
      "photoUrl": "https://lh4.googleusercontent.com/-jCWfMprfyZg/AAAAAAAAAAI/AAAAAAAALlQ/RH3K6uljsyo/s64/photo.jpg",
      "userId": "11296851702912649604"
     },
     "user_tz": -660
    },
    "id": "SRhHFG7El4FW",
    "outputId": "c245cde1-6686-4185-d79d-ad7ff5908bfc"
   },
   "outputs": [
    {
     "data": {
      "text/plain": [
       "145310"
      ]
     },
     "execution_count": 41,
     "metadata": {},
     "output_type": "execute_result"
    }
   ],
   "source": [
    "p_new.shape[0]"
   ]
  },
  {
   "cell_type": "markdown",
   "metadata": {
    "id": "RLPpF60biPm0"
   },
   "source": [
    "f. Simulate $n_{old}$ transactions with a conversion rate of $p_{old}$ under the null.  Store these $n_{old}$ 1's and 0's in **old_page_converted**."
   ]
  },
  {
   "cell_type": "code",
   "execution_count": 42,
   "metadata": {
    "executionInfo": {
     "elapsed": 780,
     "status": "ok",
     "timestamp": 1602844465029,
     "user": {
      "displayName": "John Calaunan",
      "photoUrl": "https://lh4.googleusercontent.com/-jCWfMprfyZg/AAAAAAAAAAI/AAAAAAAALlQ/RH3K6uljsyo/s64/photo.jpg",
      "userId": "11296851702912649604"
     },
     "user_tz": -660
    },
    "id": "adylYY74iPm1"
   },
   "outputs": [],
   "source": [
    "old_page_converted = np.random.choice([1,0], size=n_old, p=[p_cov, (1- p_cov)], replace=True)"
   ]
  },
  {
   "cell_type": "code",
   "execution_count": 43,
   "metadata": {
    "colab": {
     "base_uri": "https://localhost:8080/",
     "height": 34
    },
    "executionInfo": {
     "elapsed": 923,
     "status": "ok",
     "timestamp": 1602844467646,
     "user": {
      "displayName": "John Calaunan",
      "photoUrl": "https://lh4.googleusercontent.com/-jCWfMprfyZg/AAAAAAAAAAI/AAAAAAAALlQ/RH3K6uljsyo/s64/photo.jpg",
      "userId": "11296851702912649604"
     },
     "user_tz": -660
    },
    "id": "MhiXwF8CoPb-",
    "outputId": "6cbc727c-c263-4901-b720-09e12295b747"
   },
   "outputs": [
    {
     "data": {
      "text/plain": [
       "0.119065"
      ]
     },
     "execution_count": 43,
     "metadata": {},
     "output_type": "execute_result"
    }
   ],
   "source": [
    "# sample of old\n",
    "p_old = np.array(old_page_converted)\n",
    "round(p_old.mean(),6)"
   ]
  },
  {
   "cell_type": "markdown",
   "metadata": {
    "id": "AAw2In40iPm6"
   },
   "source": [
    "g. Find $p_{new}$ - $p_{old}$ for your simulated values from part (e) and (f)."
   ]
  },
  {
   "cell_type": "code",
   "execution_count": 44,
   "metadata": {
    "colab": {
     "base_uri": "https://localhost:8080/",
     "height": 34
    },
    "executionInfo": {
     "elapsed": 875,
     "status": "ok",
     "timestamp": 1602844482031,
     "user": {
      "displayName": "John Calaunan",
      "photoUrl": "https://lh4.googleusercontent.com/-jCWfMprfyZg/AAAAAAAAAAI/AAAAAAAALlQ/RH3K6uljsyo/s64/photo.jpg",
      "userId": "11296851702912649604"
     },
     "user_tz": -660
    },
    "id": "ArafvlzmiPm6",
    "outputId": "fe694cdf-6c0a-4e69-fd68-6f7854b0838e"
   },
   "outputs": [
    {
     "data": {
      "text/plain": [
       "0.0004522309001134678"
      ]
     },
     "execution_count": 44,
     "metadata": {},
     "output_type": "execute_result"
    }
   ],
   "source": [
    "p_diff = p_new.mean() - p_old.mean()\n",
    "p_diff"
   ]
  },
  {
   "cell_type": "markdown",
   "metadata": {
    "id": "K1W3eLvViPnA"
   },
   "source": [
    "h. Create 10,000 $p_{new}$ - $p_{old}$ values using the same simulation process you used in parts (a) through (g) above. Store all 10,000 values in a NumPy array called **p_diffs**."
   ]
  },
  {
   "cell_type": "code",
   "execution_count": 45,
   "metadata": {
    "executionInfo": {
     "elapsed": 6548,
     "status": "ok",
     "timestamp": 1602844055858,
     "user": {
      "displayName": "John Calaunan",
      "photoUrl": "https://lh4.googleusercontent.com/-jCWfMprfyZg/AAAAAAAAAAI/AAAAAAAALlQ/RH3K6uljsyo/s64/photo.jpg",
      "userId": "11296851702912649604"
     },
     "user_tz": -660
    },
    "id": "uPaBaDNGiPnB"
   },
   "outputs": [],
   "source": [
    "# bootstrap to simulate sampling distrubtion for the difference in proportions\n",
    "# create 10,000 pnew & pold i.e. 10000 of 'each'\n",
    "p_diffs = []\n",
    "samples = 10000\n",
    "\n",
    "for sample in range(samples):\n",
    "    p_new = np.random.choice([1,0], size=samples, p=[p_cov, (1- p_cov)], replace=True)\n",
    "    p_old = np.random.choice([1,0], size=samples, p=[p_cov, (1- p_cov)], replace=True)\n",
    "    diff = p_new - p_old\n",
    "    p_diffs.append(diff.mean())"
   ]
  },
  {
   "cell_type": "code",
   "execution_count": 46,
   "metadata": {
    "colab": {
     "base_uri": "https://localhost:8080/",
     "height": 34
    },
    "executionInfo": {
     "elapsed": 3069,
     "status": "ok",
     "timestamp": 1602844055860,
     "user": {
      "displayName": "John Calaunan",
      "photoUrl": "https://lh4.googleusercontent.com/-jCWfMprfyZg/AAAAAAAAAAI/AAAAAAAALlQ/RH3K6uljsyo/s64/photo.jpg",
      "userId": "11296851702912649604"
     },
     "user_tz": -660
    },
    "id": "Ak_0sF4ToZFX",
    "outputId": "11d25720-1ac2-46d4-fd8d-5e7163a982fd"
   },
   "outputs": [
    {
     "data": {
      "text/plain": [
       "array([ 0.0066, -0.0006,  0.0036, ...,  0.0007, -0.0074,  0.0053])"
      ]
     },
     "execution_count": 46,
     "metadata": {},
     "output_type": "execute_result"
    }
   ],
   "source": [
    "# type conversion into an np array\n",
    "p_diffs = np.array(p_diffs)\n",
    "p_diffs"
   ]
  },
  {
   "cell_type": "code",
   "execution_count": 47,
   "metadata": {
    "colab": {
     "base_uri": "https://localhost:8080/",
     "height": 34
    },
    "executionInfo": {
     "elapsed": 968,
     "status": "ok",
     "timestamp": 1602844056843,
     "user": {
      "displayName": "John Calaunan",
      "photoUrl": "https://lh4.googleusercontent.com/-jCWfMprfyZg/AAAAAAAAAAI/AAAAAAAALlQ/RH3K6uljsyo/s64/photo.jpg",
      "userId": "11296851702912649604"
     },
     "user_tz": -660
    },
    "id": "fwXobETL6V7l",
    "outputId": "73767f36-9b06-4d7e-f271-bf26e10d7f2c"
   },
   "outputs": [
    {
     "data": {
      "text/plain": [
       "-3.8430000000000017e-05"
      ]
     },
     "execution_count": 47,
     "metadata": {},
     "output_type": "execute_result"
    }
   ],
   "source": [
    "p_diffs.mean()"
   ]
  },
  {
   "cell_type": "markdown",
   "metadata": {
    "id": "UNcOfRDriPnD"
   },
   "source": [
    "i. Plot a histogram of the **p_diffs**.  Does this plot look like what you expected?  Use the matching problem in the classroom to assure you fully understand what was computed here."
   ]
  },
  {
   "cell_type": "code",
   "execution_count": 48,
   "metadata": {
    "colab": {
     "base_uri": "https://localhost:8080/",
     "height": 265
    },
    "executionInfo": {
     "elapsed": 926,
     "status": "ok",
     "timestamp": 1602844513497,
     "user": {
      "displayName": "John Calaunan",
      "photoUrl": "https://lh4.googleusercontent.com/-jCWfMprfyZg/AAAAAAAAAAI/AAAAAAAALlQ/RH3K6uljsyo/s64/photo.jpg",
      "userId": "11296851702912649604"
     },
     "user_tz": -660
    },
    "id": "UtiNDqZq_6mZ",
    "outputId": "fe5b8c02-c022-48cb-b3d9-35b6b8124249"
   },
   "outputs": [
    {
     "data": {
      "image/png": "[encoded data removed]",
      "text/plain": [
       "<Figure size 432x288 with 1 Axes>"
      ]
     },
     "metadata": {
      "needs_background": "light"
     },
     "output_type": "display_data"
    }
   ],
   "source": [
    "plt.hist(p_diffs)\n",
    "plt.axvline(x = p_diff, color='r');"
   ]
  },
  {
   "cell_type": "markdown",
   "metadata": {
    "id": "LjIsYvq-aflu"
   },
   "source": [
    "**Answer: Here the plot is as expected, as we see a normal distribution curve. Our observed probability is within the curve, due to the law of large numbers allowing the observed parameter to be closer to the average population mean.**"
   ]
  },
  {
   "cell_type": "markdown",
   "metadata": {
    "id": "3vJTbTt0iPnG"
   },
   "source": [
    "j. What proportion of the **p_diffs** are greater than the actual difference observed in **ab_data.csv**?"
   ]
  },
  {
   "cell_type": "code",
   "execution_count": 49,
   "metadata": {
    "colab": {
     "base_uri": "https://localhost:8080/",
     "height": 34
    },
    "executionInfo": {
     "elapsed": 982,
     "status": "ok",
     "timestamp": 1602844551523,
     "user": {
      "displayName": "John Calaunan",
      "photoUrl": "https://lh4.googleusercontent.com/-jCWfMprfyZg/AAAAAAAAAAI/AAAAAAAALlQ/RH3K6uljsyo/s64/photo.jpg",
      "userId": "11296851702912649604"
     },
     "user_tz": -660
    },
    "id": "90JXIKKJiPnG",
    "outputId": "5f79ddc7-31e0-4720-bd20-fcdbb94b374c"
   },
   "outputs": [
    {
     "data": {
      "text/plain": [
       "(0.4628, 0.4628)"
      ]
     },
     "execution_count": 49,
     "metadata": {},
     "output_type": "execute_result"
    }
   ],
   "source": [
    "# the number of p_diffs that exceed (g) are simply the comparison of the array against the observation, then taking the mean of all the comparisons.\n",
    "pval = (p_diffs > p_diff).mean()"
   ]
  },
  {
   "cell_type": "markdown",
   "metadata": {
    "id": "syTG_ZuRiPnI"
   },
   "source": [
    "k. Please explain using the vocabulary you've learned in this course what you just computed in part **j.**  What is this value called in scientific studies?  What does this value mean in terms of whether or not there is a difference between the new and old pages?"
   ]
  },
  {
   "cell_type": "markdown",
   "metadata": {
    "id": "Dn7JigvSiPnJ"
   },
   "source": [
    "**Answer: The p-value is the observed difference in proportions based on the null hypothesis we set earlier in 1). We have calculated the p-value of this sampled distribution, that has been bootstrapped based on the law of large numbers to allow the sampled mean to be close to the populations mean.**\n",
    "\n",
    "**In part J, the calculation only accounts for the portion that exceed the observation i.e. one side of the test.**\n",
    "\n",
    "**All the steps taken to get to (J) are the methods required to achieve this value.**\n",
    "\n",
    "**On the histogram above, the red in the middle is where the observed/actual statistic falls in this normal distribution.\n",
    "As there is a 5% type error being accounted for, we can say there is 95% certainty the observed mean is from the null.**\n",
    " **Where `α` is type I error of 5%**\n",
    " \n",
    "`pval ≤ α ⇒ Reject H0`\n",
    "\n",
    "`pval > α ⇒ Fail to Reject H0`\n",
    "\n",
    "**In conclusion, the null hypothesis is likely to be true and we should reject the alternative.**"
   ]
  },
  {
   "cell_type": "markdown",
   "metadata": {
    "id": "K18cbOhXiPnJ"
   },
   "source": [
    "l. We could also use a built-in to achieve similar results.  Though using the built-in might be easier to code, the above portions are a walkthrough of the ideas that are critical to correctly thinking about statistical significance. Fill in the below to calculate the number of conversions for each page, as well as the number of individuals who received each page. Let `n_old` and `n_new` refer the the number of rows associated with the old page and new pages, respectively."
   ]
  },
  {
   "cell_type": "code",
   "execution_count": 50,
   "metadata": {
    "colab": {
     "base_uri": "https://localhost:8080/",
     "height": 111
    },
    "executionInfo": {
     "elapsed": 1004,
     "status": "ok",
     "timestamp": 1602845574506,
     "user": {
      "displayName": "John Calaunan",
      "photoUrl": "https://lh4.googleusercontent.com/-jCWfMprfyZg/AAAAAAAAAAI/AAAAAAAALlQ/RH3K6uljsyo/s64/photo.jpg",
      "userId": "11296851702912649604"
     },
     "user_tz": -660
    },
    "id": "6C846HFGPIms",
    "outputId": "ac6d3066-2cdd-47a0-f2c9-6c95178fffa6"
   },
   "outputs": [
    {
     "data": {
      "text/html": [
       "<div>\n",
       "<style scoped>\n",
       "    .dataframe tbody tr th:only-of-type {\n",
       "        vertical-align: middle;\n",
       "    }\n",
       "\n",
       "    .dataframe tbody tr th {\n",
       "        vertical-align: top;\n",
       "    }\n",
       "\n",
       "    .dataframe thead th {\n",
       "        text-align: right;\n",
       "    }\n",
       "</style>\n",
       "<table border=\"1\" class=\"dataframe\">\n",
       "  <thead>\n",
       "    <tr style=\"text-align: right;\">\n",
       "      <th></th>\n",
       "      <th>user_id</th>\n",
       "      <th>timestamp</th>\n",
       "      <th>group</th>\n",
       "      <th>landing_page</th>\n",
       "      <th>converted</th>\n",
       "    </tr>\n",
       "  </thead>\n",
       "  <tbody>\n",
       "    <tr>\n",
       "      <th>0</th>\n",
       "      <td>851104</td>\n",
       "      <td>2017-01-21 22:11:48.556739</td>\n",
       "      <td>control</td>\n",
       "      <td>old_page</td>\n",
       "      <td>0</td>\n",
       "    </tr>\n",
       "    <tr>\n",
       "      <th>1</th>\n",
       "      <td>804228</td>\n",
       "      <td>2017-01-12 08:01:45.159739</td>\n",
       "      <td>control</td>\n",
       "      <td>old_page</td>\n",
       "      <td>0</td>\n",
       "    </tr>\n",
       "  </tbody>\n",
       "</table>\n",
       "</div>"
      ],
      "text/plain": [
       "   user_id                   timestamp    group landing_page  converted\n",
       "0   851104  2017-01-21 22:11:48.556739  control     old_page          0\n",
       "1   804228  2017-01-12 08:01:45.159739  control     old_page          0"
      ]
     },
     "execution_count": 50,
     "metadata": {},
     "output_type": "execute_result"
    }
   ],
   "source": [
    "df2.head(2)"
   ]
  },
  {
   "cell_type": "code",
   "execution_count": 51,
   "metadata": {
    "colab": {
     "base_uri": "https://localhost:8080/",
     "height": 34
    },
    "executionInfo": {
     "elapsed": 1063,
     "status": "ok",
     "timestamp": 1602845575503,
     "user": {
      "displayName": "John Calaunan",
      "photoUrl": "https://lh4.googleusercontent.com/-jCWfMprfyZg/AAAAAAAAAAI/AAAAAAAALlQ/RH3K6uljsyo/s64/photo.jpg",
      "userId": "11296851702912649604"
     },
     "user_tz": -660
    },
    "id": "B8oaSvyDj3M9",
    "outputId": "6c0eca8e-4be7-4b86-8412-097e22263d51"
   },
   "outputs": [
    {
     "data": {
      "text/plain": [
       "145274"
      ]
     },
     "execution_count": 51,
     "metadata": {},
     "output_type": "execute_result"
    }
   ],
   "source": [
    "oldpage_df = df2[df2.landing_page == 'old_page']\n",
    "oldpage_df.shape[0]"
   ]
  },
  {
   "cell_type": "code",
   "execution_count": 52,
   "metadata": {
    "colab": {
     "base_uri": "https://localhost:8080/",
     "height": 34
    },
    "executionInfo": {
     "elapsed": 571,
     "status": "ok",
     "timestamp": 1602845577094,
     "user": {
      "displayName": "John Calaunan",
      "photoUrl": "https://lh4.googleusercontent.com/-jCWfMprfyZg/AAAAAAAAAAI/AAAAAAAALlQ/RH3K6uljsyo/s64/photo.jpg",
      "userId": "11296851702912649604"
     },
     "user_tz": -660
    },
    "id": "1YoHTcI_iPnK",
    "outputId": "104a73fd-74cd-4e15-b6be-30d579439cd2"
   },
   "outputs": [
    {
     "name": "stderr",
     "output_type": "stream",
     "text": [
      "<ipython-input-52-496eacbfe3df>:3: FutureWarning: pandas.util.testing is deprecated. Use the functions in the public API at pandas.testing instead.\n",
      "  import pandas.util.testing as tm\n"
     ]
    },
    {
     "data": {
      "text/plain": [
       "(17489, 17264, 145274, 145310)"
      ]
     },
     "execution_count": 52,
     "metadata": {},
     "output_type": "execute_result"
    }
   ],
   "source": [
    "#load libraries for the ztest\n",
    "import statsmodels.api as sm\n",
    "import pandas.util.testing as tm\n",
    "\n",
    "convert_old = oldpage_df.query('converted==1').shape[0]\n",
    "convert_new = newpage_df.query('converted==1').shape[0]\n",
    "n_old = oldpage_df.shape[0]\n",
    "n_new = newpage_df.shape[0]\n",
    "\n",
    "convert_old, convert_new, n_old, n_new"
   ]
  },
  {
   "cell_type": "markdown",
   "metadata": {
    "id": "r3E8LBYkiPnM"
   },
   "source": [
    "m. Now use `stats.proportions_ztest` to compute your test statistic and p-value.  [Here](https://docs.w3cub.com/statsmodels/generated/statsmodels.stats.proportion.proportions_ztest/) is a helpful link on using the built in."
   ]
  },
  {
   "cell_type": "code",
   "execution_count": 53,
   "metadata": {
    "id": "TMJyWyNTiPnM"
   },
   "outputs": [],
   "source": [
    "count = [convert_old, convert_new]\n",
    "nobs = [n_old, n_new]\n",
    "# value is 0, as p_new = p_old = 0 assuming they are equal under the null\n",
    "# sequencing old first before new, results in alternative being set to smaller i.e. old < new\n",
    "z_test , p_value = sm.stats.proportions_ztest(count, nobs, alternative='smaller')"
   ]
  },
  {
   "cell_type": "code",
   "execution_count": 54,
   "metadata": {
    "colab": {
     "base_uri": "https://localhost:8080/",
     "height": 34
    },
    "executionInfo": {
     "elapsed": 65194,
     "status": "ok",
     "timestamp": 1602834753853,
     "user": {
      "displayName": "John Calaunan",
      "photoUrl": "https://lh4.googleusercontent.com/-jCWfMprfyZg/AAAAAAAAAAI/AAAAAAAALlQ/RH3K6uljsyo/s64/photo.jpg",
      "userId": "11296851702912649604"
     },
     "user_tz": -660
    },
    "id": "_4jCnD3wSgrH",
    "outputId": "80409915-e9ec-419c-87f9-07aa3f2e58e3"
   },
   "outputs": [
    {
     "data": {
      "text/plain": [
       "(1.3109241984234394, 0.9050583127590245)"
      ]
     },
     "execution_count": 54,
     "metadata": {},
     "output_type": "execute_result"
    }
   ],
   "source": [
    "z_test , p_value"
   ]
  },
  {
   "cell_type": "markdown",
   "metadata": {
    "id": "thHY0bHKiPnO"
   },
   "source": [
    "n. What do the z-score and p-value you computed in the previous question mean for the conversion rates of the old and new pages?  Do they agree with the findings in parts **j.** and **k.**?"
   ]
  },
  {
   "cell_type": "markdown",
   "metadata": {
    "id": "ChuB3zfTiPnP"
   },
   "source": [
    "**Z-score is a metric used to determine how far the interpreted value is from the middle of the distribution. A lower z-score indicates how close the result is to mean of the sampled population. This means, that with a positive z_test, it is approximately 'z_test' values away from the middle of the distribution.**\n",
    "\n",
    "**The p-value obtained in m) is the result from a two-tailed test as described by stats model documentation by stating the . Whereas the p-value calculated in j) is a one tailed test considering only .**\n",
    "\n",
    "**To reiterate, the p-value is greater than the alpha, i.e. type I error of 5% thus the results are statistically significant and in favour of the null hypothesis whereby the probability of individuals receiving the new page is just as likely they will receive the old page. Practically this means that there is no benefit in implementing a new page as the old page is just an successful.**"
   ]
  },
  {
   "cell_type": "markdown",
   "metadata": {
    "id": "RfFXp-LsiPnS"
   },
   "source": [
    "<a id='regression'></a>\n",
    "### Part III - A regression approach\n",
    "\n",
    "`1.` In this final part, you will see that the result you achieved in the A/B test in Part II above can also be achieved by performing regression.<br><br> \n",
    "\n",
    "a. Since each row is either a conversion or no conversion, what type of regression should you be performing in this case?"
   ]
  },
  {
   "cell_type": "markdown",
   "metadata": {
    "id": "SdsjlgsLiPnT"
   },
   "source": [
    "**This is a categorical metric so the regression we would use is Logistic regression to compare whether converted is successful or not.**"
   ]
  },
  {
   "cell_type": "markdown",
   "metadata": {
    "id": "qnLd6o8JiPnT"
   },
   "source": [
    "b. The goal is to use **statsmodels** to fit the regression model you specified in part **a.** to see if there is a significant difference in conversion based on which page a customer receives. However, you first need to create in df2 a column for the intercept, and create a dummy variable column for which page each user received.  Add an **intercept** column, as well as an **ab_page** column, which is 1 when an individual receives the **treatment** and 0 if **control**."
   ]
  },
  {
   "cell_type": "code",
   "execution_count": 55,
   "metadata": {
    "colab": {
     "base_uri": "https://localhost:8080/",
     "height": 204
    },
    "executionInfo": {
     "elapsed": 65179,
     "status": "ok",
     "timestamp": 1602834753854,
     "user": {
      "displayName": "John Calaunan",
      "photoUrl": "https://lh4.googleusercontent.com/-jCWfMprfyZg/AAAAAAAAAAI/AAAAAAAALlQ/RH3K6uljsyo/s64/photo.jpg",
      "userId": "11296851702912649604"
     },
     "user_tz": -660
    },
    "id": "2HvpPxwAiPnT",
    "outputId": "efa64670-1402-45b4-8e72-e8296df16de1"
   },
   "outputs": [
    {
     "data": {
      "text/html": [
       "<div>\n",
       "<style scoped>\n",
       "    .dataframe tbody tr th:only-of-type {\n",
       "        vertical-align: middle;\n",
       "    }\n",
       "\n",
       "    .dataframe tbody tr th {\n",
       "        vertical-align: top;\n",
       "    }\n",
       "\n",
       "    .dataframe thead th {\n",
       "        text-align: right;\n",
       "    }\n",
       "</style>\n",
       "<table border=\"1\" class=\"dataframe\">\n",
       "  <thead>\n",
       "    <tr style=\"text-align: right;\">\n",
       "      <th></th>\n",
       "      <th>user_id</th>\n",
       "      <th>timestamp</th>\n",
       "      <th>group</th>\n",
       "      <th>landing_page</th>\n",
       "      <th>converted</th>\n",
       "      <th>intercept</th>\n",
       "      <th>ab_page</th>\n",
       "    </tr>\n",
       "  </thead>\n",
       "  <tbody>\n",
       "    <tr>\n",
       "      <th>0</th>\n",
       "      <td>851104</td>\n",
       "      <td>2017-01-21 22:11:48.556739</td>\n",
       "      <td>control</td>\n",
       "      <td>old_page</td>\n",
       "      <td>0</td>\n",
       "      <td>1</td>\n",
       "      <td>0</td>\n",
       "    </tr>\n",
       "    <tr>\n",
       "      <th>1</th>\n",
       "      <td>804228</td>\n",
       "      <td>2017-01-12 08:01:45.159739</td>\n",
       "      <td>control</td>\n",
       "      <td>old_page</td>\n",
       "      <td>0</td>\n",
       "      <td>1</td>\n",
       "      <td>0</td>\n",
       "    </tr>\n",
       "    <tr>\n",
       "      <th>2</th>\n",
       "      <td>661590</td>\n",
       "      <td>2017-01-11 16:55:06.154213</td>\n",
       "      <td>treatment</td>\n",
       "      <td>new_page</td>\n",
       "      <td>0</td>\n",
       "      <td>1</td>\n",
       "      <td>1</td>\n",
       "    </tr>\n",
       "    <tr>\n",
       "      <th>3</th>\n",
       "      <td>853541</td>\n",
       "      <td>2017-01-08 18:28:03.143765</td>\n",
       "      <td>treatment</td>\n",
       "      <td>new_page</td>\n",
       "      <td>0</td>\n",
       "      <td>1</td>\n",
       "      <td>1</td>\n",
       "    </tr>\n",
       "    <tr>\n",
       "      <th>4</th>\n",
       "      <td>864975</td>\n",
       "      <td>2017-01-21 01:52:26.210827</td>\n",
       "      <td>control</td>\n",
       "      <td>old_page</td>\n",
       "      <td>1</td>\n",
       "      <td>1</td>\n",
       "      <td>0</td>\n",
       "    </tr>\n",
       "  </tbody>\n",
       "</table>\n",
       "</div>"
      ],
      "text/plain": [
       "   user_id                   timestamp      group landing_page  converted  \\\n",
       "0   851104  2017-01-21 22:11:48.556739    control     old_page          0   \n",
       "1   804228  2017-01-12 08:01:45.159739    control     old_page          0   \n",
       "2   661590  2017-01-11 16:55:06.154213  treatment     new_page          0   \n",
       "3   853541  2017-01-08 18:28:03.143765  treatment     new_page          0   \n",
       "4   864975  2017-01-21 01:52:26.210827    control     old_page          1   \n",
       "\n",
       "   intercept  ab_page  \n",
       "0          1        0  \n",
       "1          1        0  \n",
       "2          1        1  \n",
       "3          1        1  \n",
       "4          1        0  "
      ]
     },
     "execution_count": 55,
     "metadata": {},
     "output_type": "execute_result"
    }
   ],
   "source": [
    "# add intercept\n",
    "df2['intercept'] = 1\n",
    "\n",
    "# create two new columns, calling a single column does not work\n",
    "df2[['ab_page','drop_page']] = pd.get_dummies(df2['landing_page'])\n",
    "\n",
    "# drop the baseline\n",
    "df2 = df2.drop('drop_page', axis = 1)\n",
    "\n",
    "# review\n",
    "df2.head()"
   ]
  },
  {
   "cell_type": "markdown",
   "metadata": {
    "id": "oVWuV273iPnX"
   },
   "source": [
    "c. Use **statsmodels** to instantiate your regression model on the two columns you created in part b., then fit the model using the two columns you created in part **b.** to predict whether or not an individual converts. "
   ]
  },
  {
   "cell_type": "code",
   "execution_count": 56,
   "metadata": {
    "colab": {
     "base_uri": "https://localhost:8080/",
     "height": 68
    },
    "executionInfo": {
     "elapsed": 1409,
     "status": "ok",
     "timestamp": 1602847047071,
     "user": {
      "displayName": "John Calaunan",
      "photoUrl": "https://lh4.googleusercontent.com/-jCWfMprfyZg/AAAAAAAAAAI/AAAAAAAALlQ/RH3K6uljsyo/s64/photo.jpg",
      "userId": "11296851702912649604"
     },
     "user_tz": -660
    },
    "id": "I8gl7jlliPnY",
    "outputId": "bf631ef9-b786-4ad4-9501-7ac0e9b51118"
   },
   "outputs": [
    {
     "name": "stdout",
     "output_type": "stream",
     "text": [
      "Optimization terminated successfully.\n",
      "         Current function value: 0.366118\n",
      "         Iterations 6\n"
     ]
    }
   ],
   "source": [
    "# dependent variable is converted, as it is what we are trying to predict\n",
    "logit_mod = sm.Logit(df2['converted'], df2[['intercept', 'ab_page']])\n",
    "results = logit_mod.fit()"
   ]
  },
  {
   "cell_type": "markdown",
   "metadata": {
    "id": "N_RliH8GiPnZ"
   },
   "source": [
    "d. Provide the summary of your model below, and use it as necessary to answer the following questions."
   ]
  },
  {
   "cell_type": "code",
   "execution_count": 57,
   "metadata": {
    "colab": {
     "base_uri": "https://localhost:8080/",
     "height": 248
    },
    "executionInfo": {
     "elapsed": 3056,
     "status": "ok",
     "timestamp": 1602847050986,
     "user": {
      "displayName": "John Calaunan",
      "photoUrl": "https://lh4.googleusercontent.com/-jCWfMprfyZg/AAAAAAAAAAI/AAAAAAAALlQ/RH3K6uljsyo/s64/photo.jpg",
      "userId": "11296851702912649604"
     },
     "user_tz": -660
    },
    "id": "gP3on3WjiPnZ",
    "outputId": "c0f60d15-b5c9-4b48-c251-f748be3ddf24"
   },
   "outputs": [
    {
     "data": {
      "text/html": [
       "<table class=\"simpletable\">\n",
       "<caption>Logit Regression Results</caption>\n",
       "<tr>\n",
       "  <th>Dep. Variable:</th>       <td>converted</td>    <th>  No. Observations:  </th>   <td>290584</td>   \n",
       "</tr>\n",
       "<tr>\n",
       "  <th>Model:</th>                 <td>Logit</td>      <th>  Df Residuals:      </th>   <td>290582</td>   \n",
       "</tr>\n",
       "<tr>\n",
       "  <th>Method:</th>                 <td>MLE</td>       <th>  Df Model:          </th>   <td>     1</td>   \n",
       "</tr>\n",
       "<tr>\n",
       "  <th>Date:</th>            <td>Sat, 17 Oct 2020</td> <th>  Pseudo R-squ.:     </th>  <td>8.077e-06</td> \n",
       "</tr>\n",
       "<tr>\n",
       "  <th>Time:</th>                <td>12:15:09</td>     <th>  Log-Likelihood:    </th> <td>-1.0639e+05</td>\n",
       "</tr>\n",
       "<tr>\n",
       "  <th>converged:</th>             <td>True</td>       <th>  LL-Null:           </th> <td>-1.0639e+05</td>\n",
       "</tr>\n",
       "<tr>\n",
       "  <th>Covariance Type:</th>     <td>nonrobust</td>    <th>  LLR p-value:       </th>   <td>0.1899</td>   \n",
       "</tr>\n",
       "</table>\n",
       "<table class=\"simpletable\">\n",
       "<tr>\n",
       "      <td></td>         <th>coef</th>     <th>std err</th>      <th>z</th>      <th>P>|z|</th>  <th>[0.025</th>    <th>0.975]</th>  \n",
       "</tr>\n",
       "<tr>\n",
       "  <th>intercept</th> <td>   -1.9888</td> <td>    0.008</td> <td> -246.669</td> <td> 0.000</td> <td>   -2.005</td> <td>   -1.973</td>\n",
       "</tr>\n",
       "<tr>\n",
       "  <th>ab_page</th>   <td>   -0.0150</td> <td>    0.011</td> <td>   -1.311</td> <td> 0.190</td> <td>   -0.037</td> <td>    0.007</td>\n",
       "</tr>\n",
       "</table>"
      ],
      "text/plain": [
       "<class 'statsmodels.iolib.summary.Summary'>\n",
       "\"\"\"\n",
       "                           Logit Regression Results                           \n",
       "==============================================================================\n",
       "Dep. Variable:              converted   No. Observations:               290584\n",
       "Model:                          Logit   Df Residuals:                   290582\n",
       "Method:                           MLE   Df Model:                            1\n",
       "Date:                Sat, 17 Oct 2020   Pseudo R-squ.:               8.077e-06\n",
       "Time:                        12:15:09   Log-Likelihood:            -1.0639e+05\n",
       "converged:                       True   LL-Null:                   -1.0639e+05\n",
       "Covariance Type:            nonrobust   LLR p-value:                    0.1899\n",
       "==============================================================================\n",
       "                 coef    std err          z      P>|z|      [0.025      0.975]\n",
       "------------------------------------------------------------------------------\n",
       "intercept     -1.9888      0.008   -246.669      0.000      -2.005      -1.973\n",
       "ab_page       -0.0150      0.011     -1.311      0.190      -0.037       0.007\n",
       "==============================================================================\n",
       "\"\"\""
      ]
     },
     "execution_count": 57,
     "metadata": {},
     "output_type": "execute_result"
    }
   ],
   "source": [
    "results.summary()"
   ]
  },
  {
   "cell_type": "code",
   "execution_count": 58,
   "metadata": {
    "colab": {
     "base_uri": "https://localhost:8080/",
     "height": 34
    },
    "executionInfo": {
     "elapsed": 1108,
     "status": "ok",
     "timestamp": 1602847279967,
     "user": {
      "displayName": "John Calaunan",
      "photoUrl": "https://lh4.googleusercontent.com/-jCWfMprfyZg/AAAAAAAAAAI/AAAAAAAALlQ/RH3K6uljsyo/s64/photo.jpg",
      "userId": "11296851702912649604"
     },
     "user_tz": -660
    },
    "id": "0uKM5IipImvH",
    "outputId": "d479faf5-dad5-4410-8be4-827fc88c2fc2"
   },
   "outputs": [
    {
     "data": {
      "text/plain": [
       "(0.13685955841614492, 0.9851119396030626)"
      ]
     },
     "execution_count": 58,
     "metadata": {},
     "output_type": "execute_result"
    }
   ],
   "source": [
    "np.exp(-1.9888), np.exp(-0.0150)"
   ]
  },
  {
   "cell_type": "markdown",
   "metadata": {
    "id": "yIl9XwJbiPnd"
   },
   "source": [
    "e. What is the p-value associated with **ab_page**? Why does it differ from the value you found in **Part II**?<br><br>  **Hint**: What are the null and alternative hypotheses associated with your regression model, and how do they compare to the null and alternative hypotheses in **Part II**?"
   ]
  },
  {
   "cell_type": "markdown",
   "metadata": {
    "id": "-2QMkDPLiPnd"
   },
   "source": [
    "**Answer: The hypothesis in Part II is Pnew = Pold, the alternative being that they don't equal to each other Pnew != Pold. The statistical results yield a p value that is compared against the alpha, that determines which hypothesis i statistically signifcant.**\n",
    "\n",
    "**The null and alternative hypothesis in the logistic regression, reveals the resulting p value is the probability of an event occuring. Thus achieving a P value of 0.19 equates to a 19% probability of an individual converting when on the new page.**\n",
    "\n",
    "**The regression approach provides a probability of the event occuring based on two categories, whereas hypothesis testing evaluates two scenarios against two types of errors.**"
   ]
  },
  {
   "cell_type": "markdown",
   "metadata": {
    "id": "tf6dIMOJiPnd"
   },
   "source": [
    "f. Now, you are considering other things that might influence whether or not an individual converts.  Discuss why it is a good idea to consider other factors to add into your regression model.  Are there any disadvantages to adding additional terms into your regression model?"
   ]
  },
  {
   "cell_type": "markdown",
   "metadata": {
    "id": "QQG9mXtIiPne"
   },
   "source": [
    "**Answer: Adding additional factors to the model adds an increased level of complexity to the interpretation. However in doing so, allows for better prediction of the results. The major consideration when adding the factors to the model is its relevance to the context of the test.**"
   ]
  },
  {
   "cell_type": "markdown",
   "metadata": {
    "id": "-r61G2hxiPne"
   },
   "source": [
    "g. Now along with testing if the conversion rate changes for different pages, also add an effect based on which country a user lives in. You will need to read in the **countries.csv** dataset and merge together your datasets on the appropriate rows.  [Here](https://pandas.pydata.org/pandas-docs/stable/generated/pandas.DataFrame.join.html) are the docs for joining tables. \n",
    "\n",
    "Does it appear that country had an impact on conversion?  Don't forget to create dummy variables for these country columns - **Hint: You will need two columns for the three dummy variables.** Provide the statistical output as well as a written response to answer this question."
   ]
  },
  {
   "cell_type": "code",
   "execution_count": 59,
   "metadata": {
    "id": "6KRzn6PiiPne"
   },
   "outputs": [
    {
     "data": {
      "text/html": [
       "<div>\n",
       "<style scoped>\n",
       "    .dataframe tbody tr th:only-of-type {\n",
       "        vertical-align: middle;\n",
       "    }\n",
       "\n",
       "    .dataframe tbody tr th {\n",
       "        vertical-align: top;\n",
       "    }\n",
       "\n",
       "    .dataframe thead th {\n",
       "        text-align: right;\n",
       "    }\n",
       "</style>\n",
       "<table border=\"1\" class=\"dataframe\">\n",
       "  <thead>\n",
       "    <tr style=\"text-align: right;\">\n",
       "      <th></th>\n",
       "      <th>user_id</th>\n",
       "      <th>country</th>\n",
       "    </tr>\n",
       "  </thead>\n",
       "  <tbody>\n",
       "    <tr>\n",
       "      <th>0</th>\n",
       "      <td>834778</td>\n",
       "      <td>UK</td>\n",
       "    </tr>\n",
       "    <tr>\n",
       "      <th>1</th>\n",
       "      <td>928468</td>\n",
       "      <td>US</td>\n",
       "    </tr>\n",
       "    <tr>\n",
       "      <th>2</th>\n",
       "      <td>822059</td>\n",
       "      <td>UK</td>\n",
       "    </tr>\n",
       "    <tr>\n",
       "      <th>3</th>\n",
       "      <td>711597</td>\n",
       "      <td>UK</td>\n",
       "    </tr>\n",
       "    <tr>\n",
       "      <th>4</th>\n",
       "      <td>710616</td>\n",
       "      <td>UK</td>\n",
       "    </tr>\n",
       "  </tbody>\n",
       "</table>\n",
       "</div>"
      ],
      "text/plain": [
       "   user_id country\n",
       "0   834778      UK\n",
       "1   928468      US\n",
       "2   822059      UK\n",
       "3   711597      UK\n",
       "4   710616      UK"
      ]
     },
     "execution_count": 59,
     "metadata": {},
     "output_type": "execute_result"
    }
   ],
   "source": [
    "# read country csv\n",
    "country_df = pd.read_csv('countries.csv')\n",
    "country_df.head()"
   ]
  },
  {
   "cell_type": "code",
   "execution_count": 73,
   "metadata": {},
   "outputs": [
    {
     "name": "stdout",
     "output_type": "stream",
     "text": [
      "<class 'pandas.core.frame.DataFrame'>\n",
      "RangeIndex: 290584 entries, 0 to 290583\n",
      "Data columns (total 2 columns):\n",
      " #   Column   Non-Null Count   Dtype \n",
      "---  ------   --------------   ----- \n",
      " 0   user_id  290584 non-null  int64 \n",
      " 1   country  290584 non-null  object\n",
      "dtypes: int64(1), object(1)\n",
      "memory usage: 4.4+ MB\n",
      "<class 'pandas.core.frame.DataFrame'>\n",
      "Int64Index: 290584 entries, 0 to 294477\n",
      "Data columns (total 7 columns):\n",
      " #   Column        Non-Null Count   Dtype \n",
      "---  ------        --------------   ----- \n",
      " 0   user_id       290584 non-null  int64 \n",
      " 1   timestamp     290584 non-null  object\n",
      " 2   group         290584 non-null  object\n",
      " 3   landing_page  290584 non-null  object\n",
      " 4   converted     290584 non-null  int64 \n",
      " 5   intercept     290584 non-null  int64 \n",
      " 6   ab_page       290584 non-null  uint8 \n",
      "dtypes: int64(3), object(3), uint8(1)\n",
      "memory usage: 15.8+ MB\n"
     ]
    },
    {
     "data": {
      "text/plain": [
       "(None, None)"
      ]
     },
     "execution_count": 73,
     "metadata": {},
     "output_type": "execute_result"
    }
   ],
   "source": [
    "# review how many rows prior to merge\n",
    "country_df.info(), df2.info()"
   ]
  },
  {
   "cell_type": "code",
   "execution_count": 74,
   "metadata": {},
   "outputs": [
    {
     "data": {
      "text/html": [
       "<div>\n",
       "<style scoped>\n",
       "    .dataframe tbody tr th:only-of-type {\n",
       "        vertical-align: middle;\n",
       "    }\n",
       "\n",
       "    .dataframe tbody tr th {\n",
       "        vertical-align: top;\n",
       "    }\n",
       "\n",
       "    .dataframe thead th {\n",
       "        text-align: right;\n",
       "    }\n",
       "</style>\n",
       "<table border=\"1\" class=\"dataframe\">\n",
       "  <thead>\n",
       "    <tr style=\"text-align: right;\">\n",
       "      <th></th>\n",
       "      <th>user_id</th>\n",
       "      <th>timestamp</th>\n",
       "      <th>group</th>\n",
       "      <th>landing_page</th>\n",
       "      <th>converted</th>\n",
       "      <th>intercept</th>\n",
       "      <th>ab_page</th>\n",
       "      <th>country</th>\n",
       "    </tr>\n",
       "  </thead>\n",
       "  <tbody>\n",
       "    <tr>\n",
       "      <th>0</th>\n",
       "      <td>851104</td>\n",
       "      <td>2017-01-21 22:11:48.556739</td>\n",
       "      <td>control</td>\n",
       "      <td>old_page</td>\n",
       "      <td>0</td>\n",
       "      <td>1</td>\n",
       "      <td>0</td>\n",
       "      <td>US</td>\n",
       "    </tr>\n",
       "    <tr>\n",
       "      <th>1</th>\n",
       "      <td>804228</td>\n",
       "      <td>2017-01-12 08:01:45.159739</td>\n",
       "      <td>control</td>\n",
       "      <td>old_page</td>\n",
       "      <td>0</td>\n",
       "      <td>1</td>\n",
       "      <td>0</td>\n",
       "      <td>US</td>\n",
       "    </tr>\n",
       "    <tr>\n",
       "      <th>2</th>\n",
       "      <td>661590</td>\n",
       "      <td>2017-01-11 16:55:06.154213</td>\n",
       "      <td>treatment</td>\n",
       "      <td>new_page</td>\n",
       "      <td>0</td>\n",
       "      <td>1</td>\n",
       "      <td>1</td>\n",
       "      <td>US</td>\n",
       "    </tr>\n",
       "    <tr>\n",
       "      <th>3</th>\n",
       "      <td>853541</td>\n",
       "      <td>2017-01-08 18:28:03.143765</td>\n",
       "      <td>treatment</td>\n",
       "      <td>new_page</td>\n",
       "      <td>0</td>\n",
       "      <td>1</td>\n",
       "      <td>1</td>\n",
       "      <td>US</td>\n",
       "    </tr>\n",
       "    <tr>\n",
       "      <th>4</th>\n",
       "      <td>864975</td>\n",
       "      <td>2017-01-21 01:52:26.210827</td>\n",
       "      <td>control</td>\n",
       "      <td>old_page</td>\n",
       "      <td>1</td>\n",
       "      <td>1</td>\n",
       "      <td>0</td>\n",
       "      <td>US</td>\n",
       "    </tr>\n",
       "  </tbody>\n",
       "</table>\n",
       "</div>"
      ],
      "text/plain": [
       "   user_id                   timestamp      group landing_page  converted  \\\n",
       "0   851104  2017-01-21 22:11:48.556739    control     old_page          0   \n",
       "1   804228  2017-01-12 08:01:45.159739    control     old_page          0   \n",
       "2   661590  2017-01-11 16:55:06.154213  treatment     new_page          0   \n",
       "3   853541  2017-01-08 18:28:03.143765  treatment     new_page          0   \n",
       "4   864975  2017-01-21 01:52:26.210827    control     old_page          1   \n",
       "\n",
       "   intercept  ab_page country  \n",
       "0          1        0      US  \n",
       "1          1        0      US  \n",
       "2          1        1      US  \n",
       "3          1        1      US  \n",
       "4          1        0      US  "
      ]
     },
     "execution_count": 74,
     "metadata": {},
     "output_type": "execute_result"
    }
   ],
   "source": [
    "# backup original\n",
    "df3 = df2\n",
    "# left join df2 on country_df based on all of the left df and only those matching in the country_df based on user_id\n",
    "df3 = df3.merge(country_df, how='left', left_on='user_id', right_on='user_id', suffixes=('_df2','_country'))\n",
    "df3.head()"
   ]
  },
  {
   "cell_type": "code",
   "execution_count": 85,
   "metadata": {
    "scrolled": false
   },
   "outputs": [
    {
     "data": {
      "text/plain": [
       "user_id         0\n",
       "timestamp       0\n",
       "group           0\n",
       "landing_page    0\n",
       "converted       0\n",
       "intercept       0\n",
       "ab_page         0\n",
       "country         0\n",
       "dtype: int64"
      ]
     },
     "execution_count": 85,
     "metadata": {},
     "output_type": "execute_result"
    }
   ],
   "source": [
    "df3.isna().sum()"
   ]
  },
  {
   "cell_type": "code",
   "execution_count": 86,
   "metadata": {},
   "outputs": [
    {
     "data": {
      "text/plain": [
       "3"
      ]
     },
     "execution_count": 86,
     "metadata": {},
     "output_type": "execute_result"
    }
   ],
   "source": [
    "df3.country.nunique()"
   ]
  },
  {
   "cell_type": "code",
   "execution_count": 80,
   "metadata": {},
   "outputs": [
    {
     "data": {
      "text/html": [
       "<div>\n",
       "<style scoped>\n",
       "    .dataframe tbody tr th:only-of-type {\n",
       "        vertical-align: middle;\n",
       "    }\n",
       "\n",
       "    .dataframe tbody tr th {\n",
       "        vertical-align: top;\n",
       "    }\n",
       "\n",
       "    .dataframe thead th {\n",
       "        text-align: right;\n",
       "    }\n",
       "</style>\n",
       "<table border=\"1\" class=\"dataframe\">\n",
       "  <thead>\n",
       "    <tr style=\"text-align: right;\">\n",
       "      <th></th>\n",
       "      <th>user_id</th>\n",
       "      <th>converted</th>\n",
       "      <th>intercept</th>\n",
       "      <th>ab_page</th>\n",
       "    </tr>\n",
       "    <tr>\n",
       "      <th>country</th>\n",
       "      <th></th>\n",
       "      <th></th>\n",
       "      <th></th>\n",
       "      <th></th>\n",
       "    </tr>\n",
       "  </thead>\n",
       "  <tbody>\n",
       "    <tr>\n",
       "      <th>CA</th>\n",
       "      <td>11434495284</td>\n",
       "      <td>1672</td>\n",
       "      <td>14499</td>\n",
       "      <td>7301.0</td>\n",
       "    </tr>\n",
       "    <tr>\n",
       "      <th>UK</th>\n",
       "      <td>57079935417</td>\n",
       "      <td>8739</td>\n",
       "      <td>72466</td>\n",
       "      <td>36106.0</td>\n",
       "    </tr>\n",
       "    <tr>\n",
       "      <th>US</th>\n",
       "      <td>160467178251</td>\n",
       "      <td>24342</td>\n",
       "      <td>203619</td>\n",
       "      <td>101903.0</td>\n",
       "    </tr>\n",
       "  </tbody>\n",
       "</table>\n",
       "</div>"
      ],
      "text/plain": [
       "              user_id  converted  intercept   ab_page\n",
       "country                                              \n",
       "CA        11434495284       1672      14499    7301.0\n",
       "UK        57079935417       8739      72466   36106.0\n",
       "US       160467178251      24342     203619  101903.0"
      ]
     },
     "execution_count": 80,
     "metadata": {},
     "output_type": "execute_result"
    }
   ],
   "source": [
    "df3.groupby('country').sum()"
   ]
  },
  {
   "cell_type": "code",
   "execution_count": 87,
   "metadata": {},
   "outputs": [
    {
     "data": {
      "text/html": [
       "<div>\n",
       "<style scoped>\n",
       "    .dataframe tbody tr th:only-of-type {\n",
       "        vertical-align: middle;\n",
       "    }\n",
       "\n",
       "    .dataframe tbody tr th {\n",
       "        vertical-align: top;\n",
       "    }\n",
       "\n",
       "    .dataframe thead th {\n",
       "        text-align: right;\n",
       "    }\n",
       "</style>\n",
       "<table border=\"1\" class=\"dataframe\">\n",
       "  <thead>\n",
       "    <tr style=\"text-align: right;\">\n",
       "      <th></th>\n",
       "      <th>user_id</th>\n",
       "      <th>timestamp</th>\n",
       "      <th>group</th>\n",
       "      <th>landing_page</th>\n",
       "      <th>converted</th>\n",
       "      <th>intercept</th>\n",
       "      <th>ab_page</th>\n",
       "      <th>country</th>\n",
       "      <th>CA</th>\n",
       "      <th>UK</th>\n",
       "    </tr>\n",
       "  </thead>\n",
       "  <tbody>\n",
       "    <tr>\n",
       "      <th>0</th>\n",
       "      <td>851104</td>\n",
       "      <td>2017-01-21 22:11:48.556739</td>\n",
       "      <td>control</td>\n",
       "      <td>old_page</td>\n",
       "      <td>0</td>\n",
       "      <td>1</td>\n",
       "      <td>0</td>\n",
       "      <td>US</td>\n",
       "      <td>0</td>\n",
       "      <td>0</td>\n",
       "    </tr>\n",
       "    <tr>\n",
       "      <th>1</th>\n",
       "      <td>804228</td>\n",
       "      <td>2017-01-12 08:01:45.159739</td>\n",
       "      <td>control</td>\n",
       "      <td>old_page</td>\n",
       "      <td>0</td>\n",
       "      <td>1</td>\n",
       "      <td>0</td>\n",
       "      <td>US</td>\n",
       "      <td>0</td>\n",
       "      <td>0</td>\n",
       "    </tr>\n",
       "    <tr>\n",
       "      <th>2</th>\n",
       "      <td>661590</td>\n",
       "      <td>2017-01-11 16:55:06.154213</td>\n",
       "      <td>treatment</td>\n",
       "      <td>new_page</td>\n",
       "      <td>0</td>\n",
       "      <td>1</td>\n",
       "      <td>1</td>\n",
       "      <td>US</td>\n",
       "      <td>0</td>\n",
       "      <td>0</td>\n",
       "    </tr>\n",
       "    <tr>\n",
       "      <th>3</th>\n",
       "      <td>853541</td>\n",
       "      <td>2017-01-08 18:28:03.143765</td>\n",
       "      <td>treatment</td>\n",
       "      <td>new_page</td>\n",
       "      <td>0</td>\n",
       "      <td>1</td>\n",
       "      <td>1</td>\n",
       "      <td>US</td>\n",
       "      <td>0</td>\n",
       "      <td>0</td>\n",
       "    </tr>\n",
       "    <tr>\n",
       "      <th>4</th>\n",
       "      <td>864975</td>\n",
       "      <td>2017-01-21 01:52:26.210827</td>\n",
       "      <td>control</td>\n",
       "      <td>old_page</td>\n",
       "      <td>1</td>\n",
       "      <td>1</td>\n",
       "      <td>0</td>\n",
       "      <td>US</td>\n",
       "      <td>0</td>\n",
       "      <td>0</td>\n",
       "    </tr>\n",
       "    <tr>\n",
       "      <th>...</th>\n",
       "      <td>...</td>\n",
       "      <td>...</td>\n",
       "      <td>...</td>\n",
       "      <td>...</td>\n",
       "      <td>...</td>\n",
       "      <td>...</td>\n",
       "      <td>...</td>\n",
       "      <td>...</td>\n",
       "      <td>...</td>\n",
       "      <td>...</td>\n",
       "    </tr>\n",
       "    <tr>\n",
       "      <th>290579</th>\n",
       "      <td>751197</td>\n",
       "      <td>2017-01-03 22:28:38.630509</td>\n",
       "      <td>control</td>\n",
       "      <td>old_page</td>\n",
       "      <td>0</td>\n",
       "      <td>1</td>\n",
       "      <td>0</td>\n",
       "      <td>US</td>\n",
       "      <td>0</td>\n",
       "      <td>0</td>\n",
       "    </tr>\n",
       "    <tr>\n",
       "      <th>290580</th>\n",
       "      <td>945152</td>\n",
       "      <td>2017-01-12 00:51:57.078372</td>\n",
       "      <td>control</td>\n",
       "      <td>old_page</td>\n",
       "      <td>0</td>\n",
       "      <td>1</td>\n",
       "      <td>0</td>\n",
       "      <td>US</td>\n",
       "      <td>0</td>\n",
       "      <td>0</td>\n",
       "    </tr>\n",
       "    <tr>\n",
       "      <th>290581</th>\n",
       "      <td>734608</td>\n",
       "      <td>2017-01-22 11:45:03.439544</td>\n",
       "      <td>control</td>\n",
       "      <td>old_page</td>\n",
       "      <td>0</td>\n",
       "      <td>1</td>\n",
       "      <td>0</td>\n",
       "      <td>US</td>\n",
       "      <td>0</td>\n",
       "      <td>0</td>\n",
       "    </tr>\n",
       "    <tr>\n",
       "      <th>290582</th>\n",
       "      <td>697314</td>\n",
       "      <td>2017-01-15 01:20:28.957438</td>\n",
       "      <td>control</td>\n",
       "      <td>old_page</td>\n",
       "      <td>0</td>\n",
       "      <td>1</td>\n",
       "      <td>0</td>\n",
       "      <td>US</td>\n",
       "      <td>0</td>\n",
       "      <td>0</td>\n",
       "    </tr>\n",
       "    <tr>\n",
       "      <th>290583</th>\n",
       "      <td>715931</td>\n",
       "      <td>2017-01-16 12:40:24.467417</td>\n",
       "      <td>treatment</td>\n",
       "      <td>new_page</td>\n",
       "      <td>0</td>\n",
       "      <td>1</td>\n",
       "      <td>1</td>\n",
       "      <td>UK</td>\n",
       "      <td>0</td>\n",
       "      <td>1</td>\n",
       "    </tr>\n",
       "  </tbody>\n",
       "</table>\n",
       "<p>290584 rows × 10 columns</p>\n",
       "</div>"
      ],
      "text/plain": [
       "        user_id                   timestamp      group landing_page  \\\n",
       "0        851104  2017-01-21 22:11:48.556739    control     old_page   \n",
       "1        804228  2017-01-12 08:01:45.159739    control     old_page   \n",
       "2        661590  2017-01-11 16:55:06.154213  treatment     new_page   \n",
       "3        853541  2017-01-08 18:28:03.143765  treatment     new_page   \n",
       "4        864975  2017-01-21 01:52:26.210827    control     old_page   \n",
       "...         ...                         ...        ...          ...   \n",
       "290579   751197  2017-01-03 22:28:38.630509    control     old_page   \n",
       "290580   945152  2017-01-12 00:51:57.078372    control     old_page   \n",
       "290581   734608  2017-01-22 11:45:03.439544    control     old_page   \n",
       "290582   697314  2017-01-15 01:20:28.957438    control     old_page   \n",
       "290583   715931  2017-01-16 12:40:24.467417  treatment     new_page   \n",
       "\n",
       "        converted  intercept  ab_page country  CA  UK  \n",
       "0               0          1        0      US   0   0  \n",
       "1               0          1        0      US   0   0  \n",
       "2               0          1        1      US   0   0  \n",
       "3               0          1        1      US   0   0  \n",
       "4               1          1        0      US   0   0  \n",
       "...           ...        ...      ...     ...  ..  ..  \n",
       "290579          0          1        0      US   0   0  \n",
       "290580          0          1        0      US   0   0  \n",
       "290581          0          1        0      US   0   0  \n",
       "290582          0          1        0      US   0   0  \n",
       "290583          0          1        1      UK   0   1  \n",
       "\n",
       "[290584 rows x 10 columns]"
      ]
     },
     "execution_count": 87,
     "metadata": {},
     "output_type": "execute_result"
    }
   ],
   "source": [
    "# create two new columns, calling a single column does not work\n",
    "df3[['CA','UK','drop_US']] = pd.get_dummies(df3['country'])\n",
    "\n",
    "# drop the baseline\n",
    "df3 = df3.drop('drop_US', axis = 1)"
   ]
  },
  {
   "cell_type": "code",
   "execution_count": 90,
   "metadata": {},
   "outputs": [
    {
     "data": {
      "text/html": [
       "<div>\n",
       "<style scoped>\n",
       "    .dataframe tbody tr th:only-of-type {\n",
       "        vertical-align: middle;\n",
       "    }\n",
       "\n",
       "    .dataframe tbody tr th {\n",
       "        vertical-align: top;\n",
       "    }\n",
       "\n",
       "    .dataframe thead th {\n",
       "        text-align: right;\n",
       "    }\n",
       "</style>\n",
       "<table border=\"1\" class=\"dataframe\">\n",
       "  <thead>\n",
       "    <tr style=\"text-align: right;\">\n",
       "      <th></th>\n",
       "      <th>user_id</th>\n",
       "      <th>timestamp</th>\n",
       "      <th>group</th>\n",
       "      <th>landing_page</th>\n",
       "      <th>converted</th>\n",
       "      <th>intercept</th>\n",
       "      <th>ab_page</th>\n",
       "      <th>country</th>\n",
       "      <th>CA</th>\n",
       "      <th>UK</th>\n",
       "    </tr>\n",
       "  </thead>\n",
       "  <tbody>\n",
       "    <tr>\n",
       "      <th>0</th>\n",
       "      <td>851104</td>\n",
       "      <td>2017-01-21 22:11:48.556739</td>\n",
       "      <td>control</td>\n",
       "      <td>old_page</td>\n",
       "      <td>0</td>\n",
       "      <td>1</td>\n",
       "      <td>0</td>\n",
       "      <td>US</td>\n",
       "      <td>0</td>\n",
       "      <td>0</td>\n",
       "    </tr>\n",
       "    <tr>\n",
       "      <th>1</th>\n",
       "      <td>804228</td>\n",
       "      <td>2017-01-12 08:01:45.159739</td>\n",
       "      <td>control</td>\n",
       "      <td>old_page</td>\n",
       "      <td>0</td>\n",
       "      <td>1</td>\n",
       "      <td>0</td>\n",
       "      <td>US</td>\n",
       "      <td>0</td>\n",
       "      <td>0</td>\n",
       "    </tr>\n",
       "    <tr>\n",
       "      <th>2</th>\n",
       "      <td>661590</td>\n",
       "      <td>2017-01-11 16:55:06.154213</td>\n",
       "      <td>treatment</td>\n",
       "      <td>new_page</td>\n",
       "      <td>0</td>\n",
       "      <td>1</td>\n",
       "      <td>1</td>\n",
       "      <td>US</td>\n",
       "      <td>0</td>\n",
       "      <td>0</td>\n",
       "    </tr>\n",
       "    <tr>\n",
       "      <th>3</th>\n",
       "      <td>853541</td>\n",
       "      <td>2017-01-08 18:28:03.143765</td>\n",
       "      <td>treatment</td>\n",
       "      <td>new_page</td>\n",
       "      <td>0</td>\n",
       "      <td>1</td>\n",
       "      <td>1</td>\n",
       "      <td>US</td>\n",
       "      <td>0</td>\n",
       "      <td>0</td>\n",
       "    </tr>\n",
       "    <tr>\n",
       "      <th>4</th>\n",
       "      <td>864975</td>\n",
       "      <td>2017-01-21 01:52:26.210827</td>\n",
       "      <td>control</td>\n",
       "      <td>old_page</td>\n",
       "      <td>1</td>\n",
       "      <td>1</td>\n",
       "      <td>0</td>\n",
       "      <td>US</td>\n",
       "      <td>0</td>\n",
       "      <td>0</td>\n",
       "    </tr>\n",
       "  </tbody>\n",
       "</table>\n",
       "</div>"
      ],
      "text/plain": [
       "   user_id                   timestamp      group landing_page  converted  \\\n",
       "0   851104  2017-01-21 22:11:48.556739    control     old_page          0   \n",
       "1   804228  2017-01-12 08:01:45.159739    control     old_page          0   \n",
       "2   661590  2017-01-11 16:55:06.154213  treatment     new_page          0   \n",
       "3   853541  2017-01-08 18:28:03.143765  treatment     new_page          0   \n",
       "4   864975  2017-01-21 01:52:26.210827    control     old_page          1   \n",
       "\n",
       "   intercept  ab_page country  CA  UK  \n",
       "0          1        0      US   0   0  \n",
       "1          1        0      US   0   0  \n",
       "2          1        1      US   0   0  \n",
       "3          1        1      US   0   0  \n",
       "4          1        0      US   0   0  "
      ]
     },
     "execution_count": 90,
     "metadata": {},
     "output_type": "execute_result"
    }
   ],
   "source": [
    "df3.head()"
   ]
  },
  {
   "cell_type": "code",
   "execution_count": 91,
   "metadata": {},
   "outputs": [
    {
     "name": "stdout",
     "output_type": "stream",
     "text": [
      "Optimization terminated successfully.\n",
      "         Current function value: 0.366113\n",
      "         Iterations 6\n"
     ]
    }
   ],
   "source": [
    "# dependent variable is converted, as it is what we are trying to predict\n",
    "logit_mod2 = sm.Logit(df3['converted'], df3[['intercept', 'ab_page', 'CA', 'UK']])\n",
    "results2 = logit_mod2.fit()"
   ]
  },
  {
   "cell_type": "code",
   "execution_count": 92,
   "metadata": {
    "scrolled": true
   },
   "outputs": [
    {
     "data": {
      "text/html": [
       "<table class=\"simpletable\">\n",
       "<caption>Logit Regression Results</caption>\n",
       "<tr>\n",
       "  <th>Dep. Variable:</th>       <td>converted</td>    <th>  No. Observations:  </th>   <td>290584</td>   \n",
       "</tr>\n",
       "<tr>\n",
       "  <th>Model:</th>                 <td>Logit</td>      <th>  Df Residuals:      </th>   <td>290580</td>   \n",
       "</tr>\n",
       "<tr>\n",
       "  <th>Method:</th>                 <td>MLE</td>       <th>  Df Model:          </th>   <td>     3</td>   \n",
       "</tr>\n",
       "<tr>\n",
       "  <th>Date:</th>            <td>Sat, 17 Oct 2020</td> <th>  Pseudo R-squ.:     </th>  <td>2.323e-05</td> \n",
       "</tr>\n",
       "<tr>\n",
       "  <th>Time:</th>                <td>12:59:22</td>     <th>  Log-Likelihood:    </th> <td>-1.0639e+05</td>\n",
       "</tr>\n",
       "<tr>\n",
       "  <th>converged:</th>             <td>True</td>       <th>  LL-Null:           </th> <td>-1.0639e+05</td>\n",
       "</tr>\n",
       "<tr>\n",
       "  <th>Covariance Type:</th>     <td>nonrobust</td>    <th>  LLR p-value:       </th>   <td>0.1760</td>   \n",
       "</tr>\n",
       "</table>\n",
       "<table class=\"simpletable\">\n",
       "<tr>\n",
       "      <td></td>         <th>coef</th>     <th>std err</th>      <th>z</th>      <th>P>|z|</th>  <th>[0.025</th>    <th>0.975]</th>  \n",
       "</tr>\n",
       "<tr>\n",
       "  <th>intercept</th> <td>   -1.9893</td> <td>    0.009</td> <td> -223.763</td> <td> 0.000</td> <td>   -2.007</td> <td>   -1.972</td>\n",
       "</tr>\n",
       "<tr>\n",
       "  <th>ab_page</th>   <td>   -0.0149</td> <td>    0.011</td> <td>   -1.307</td> <td> 0.191</td> <td>   -0.037</td> <td>    0.007</td>\n",
       "</tr>\n",
       "<tr>\n",
       "  <th>CA</th>        <td>   -0.0408</td> <td>    0.027</td> <td>   -1.516</td> <td> 0.130</td> <td>   -0.093</td> <td>    0.012</td>\n",
       "</tr>\n",
       "<tr>\n",
       "  <th>UK</th>        <td>    0.0099</td> <td>    0.013</td> <td>    0.743</td> <td> 0.457</td> <td>   -0.016</td> <td>    0.036</td>\n",
       "</tr>\n",
       "</table>"
      ],
      "text/plain": [
       "<class 'statsmodels.iolib.summary.Summary'>\n",
       "\"\"\"\n",
       "                           Logit Regression Results                           \n",
       "==============================================================================\n",
       "Dep. Variable:              converted   No. Observations:               290584\n",
       "Model:                          Logit   Df Residuals:                   290580\n",
       "Method:                           MLE   Df Model:                            3\n",
       "Date:                Sat, 17 Oct 2020   Pseudo R-squ.:               2.323e-05\n",
       "Time:                        12:59:22   Log-Likelihood:            -1.0639e+05\n",
       "converged:                       True   LL-Null:                   -1.0639e+05\n",
       "Covariance Type:            nonrobust   LLR p-value:                    0.1760\n",
       "==============================================================================\n",
       "                 coef    std err          z      P>|z|      [0.025      0.975]\n",
       "------------------------------------------------------------------------------\n",
       "intercept     -1.9893      0.009   -223.763      0.000      -2.007      -1.972\n",
       "ab_page       -0.0149      0.011     -1.307      0.191      -0.037       0.007\n",
       "CA            -0.0408      0.027     -1.516      0.130      -0.093       0.012\n",
       "UK             0.0099      0.013      0.743      0.457      -0.016       0.036\n",
       "==============================================================================\n",
       "\"\"\""
      ]
     },
     "execution_count": 92,
     "metadata": {},
     "output_type": "execute_result"
    }
   ],
   "source": [
    "results2.summary()"
   ]
  },
  {
   "cell_type": "code",
   "execution_count": 93,
   "metadata": {},
   "outputs": [
    {
     "data": {
      "text/plain": [
       "(0.13679114574153073,\n",
       " 0.9852104557227469,\n",
       " 0.9600211149716509,\n",
       " 1.0099491671175422)"
      ]
     },
     "execution_count": 93,
     "metadata": {},
     "output_type": "execute_result"
    }
   ],
   "source": [
    "# intercept, ab_page, CA, UK\n",
    "np.exp(-1.9893), np.exp(-0.0149), np.exp(-0.0408), np.exp(0.0099)"
   ]
  },
  {
   "cell_type": "markdown",
   "metadata": {},
   "source": [
    "Does it appear that country had an impact on conversion? \n",
    "Don't forget to create dummy variables for these country columns - \n",
    "\n",
    "Hint: You will need two columns for the three dummy variables. \n",
    "Provide the statistical output as well as a written response to answer this question.\n",
    "\n",
    "**Answer: Reviewing the exponential variables of results 1, where the logistic was performed based on ab_page reveals  it was 0.98 times as likely that someone would me.**"
   ]
  },
  {
   "cell_type": "markdown",
   "metadata": {
    "id": "OXwwFDRDiPng"
   },
   "source": [
    "h. Though you have now looked at the individual factors of country and page on conversion, we would now like to look at an interaction between page and country to see if there significant effects on conversion.  Create the necessary additional columns, and fit the new model.  \n",
    "\n",
    "Provide the summary results, and your conclusions based on the results."
   ]
  },
  {
   "cell_type": "code",
   "execution_count": null,
   "metadata": {
    "id": "ztMdN6L8iPnh"
   },
   "outputs": [],
   "source": []
  },
  {
   "cell_type": "markdown",
   "metadata": {
    "id": "ygHZQ8_giPnj"
   },
   "source": [
    "<a id='conclusions'></a>\n",
    "## Finishing Up\n",
    "\n",
    "> Congratulations!  You have reached the end of the A/B Test Results project!  You should be very proud of all you have accomplished!\n",
    "\n",
    "> **Tip**: Once you are satisfied with your work here, check over your report to make sure that it is satisfies all the areas of the rubric (found on the project submission page at the end of the lesson). You should also probably remove all of the \"Tips\" like this one so that the presentation is as polished as possible.\n",
    "\n",
    "\n",
    "## Directions to Submit\n",
    "\n",
    "> Before you submit your project, you need to create a .html or .pdf version of this notebook in the workspace here. To do that, run the code cell below. If it worked correctly, you should get a return code of 0, and you should see the generated .html file in the workspace directory (click on the orange Jupyter icon in the upper left).\n",
    "\n",
    "> Alternatively, you can download this report as .html via the **File** > **Download as** submenu, and then manually upload it into the workspace directory by clicking on the orange Jupyter icon in the upper left, then using the Upload button.\n",
    "\n",
    "> Once you've done this, you can submit your project by clicking on the \"Submit Project\" button in the lower right here. This will create and submit a zip file with this .ipynb doc and the .html or .pdf version you created. Congratulations!"
   ]
  },
  {
   "cell_type": "code",
   "execution_count": 60,
   "metadata": {
    "id": "Jt20OtYliPnj"
   },
   "outputs": [
    {
     "data": {
      "text/plain": [
       "1"
      ]
     },
     "execution_count": 60,
     "metadata": {},
     "output_type": "execute_result"
    }
   ],
   "source": [
    "from subprocess import call\n",
    "call(['python', '-m', 'nbconvert', 'Analyze_ab_test_results_notebook.ipynb'])"
   ]
  },
  {
   "cell_type": "markdown",
   "metadata": {
    "id": "U5LDtL1y708K"
   },
   "source": [
    "Resources:\n",
    "*   http://resources.esri.com/help/9.3/arcgisdesktop/com/gp_toolref/spatial_statistics_toolbox/what_is_a_z_score_what_is_a_p_value.htm\n",
    "*   https://www.statsmodels.org/stable/generated/statsmodels.stats.proportion.proportions_ztest.html\n",
    "*   https://stats.idre.ucla.edu/other/mult-pkg/faq/general/faq-what-are-the-differences-between-one-tailed-and-two-tailed-tests/\n",
    "*   https://classroom.udacity.com/nanodegrees/nd002/parts/bb0cbeb6-d3f8-4bae-9dc3-4abba3823e54/modules/70ab0502-76fb-425f-880e-e2c73cdbe753/lessons/b7ae43e6-204a-4816-a177-6c75115cae5f/concepts/9699889c-81cc-4f6e-9eff-ae19dec29b95\n",
    "*   https://classroom.udacity.com/nanodegrees/nd002/parts/bb0cbeb6-d3f8-4bae-9dc3-4abba3823e54/modules/70ab0502-76fb-425f-880e-e2c73cdbe753/lessons/b7ae43e6-204a-4816-a177-6c75115cae5f/concepts/28777848-e025-4ffe-aea6-9c08d814512a\n",
    "\n"
   ]
  }
 ],
 "metadata": {
  "colab": {
   "collapsed_sections": [],
   "name": "Analyze_ab_test_results_notebook.ipynb",
   "provenance": []
  },
  "kernelspec": {
   "display_name": "Python 3",
   "language": "python",
   "name": "python3"
  },
  "language_info": {
   "codemirror_mode": {
    "name": "ipython",
    "version": 3
   },
   "file_extension": ".py",
   "mimetype": "text/x-python",
   "name": "python",
   "nbconvert_exporter": "python",
   "pygments_lexer": "ipython3",
   "version": "3.8.5"
  }
 },
 "nbformat": 4,
 "nbformat_minor": 1
}
