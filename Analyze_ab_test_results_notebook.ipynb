{
 "cells": [
  {
   "cell_type": "markdown",
   "metadata": {
    "id": "XiOWumi0iPkV"
   },
   "source": [
    "## Analyze A/B Test Results\n",
    "\n",
    "You may either submit your notebook through the workspace here, or you may work from your local machine and submit through the next page.  Either way assure that your code passes the project [RUBRIC](https://review.udacity.com/#!/projects/37e27304-ad47-4eb0-a1ab-8c12f60e43d0/rubric).  **Please save regularly.**\n",
    "\n",
    "This project will assure you have mastered the subjects covered in the statistics lessons.  The hope is to have this project be as comprehensive of these topics as possible.  Good luck!\n",
    "\n",
    "## Table of Contents\n",
    "- [Introduction](#intro)\n",
    "- [Part I - Probability](#probability)\n",
    "- [Part II - A/B Test](#ab_test)\n",
    "- [Part III - Regression](#regression)\n",
    "\n",
    "\n",
    "<a id='intro'></a>\n",
    "### Introduction\n",
    "\n",
    "A/B tests are very commonly performed by data analysts and data scientists.  It is important that you get some practice working with the difficulties of these \n",
    "\n",
    "For this project, you will be working to understand the results of an A/B test run by an e-commerce website.  Your goal is to work through this notebook to help the company understand if they should implement the new page, keep the old page, or perhaps run the experiment longer to make their decision.\n",
    "\n",
    "**As you work through this notebook, follow along in the classroom and answer the corresponding quiz questions associated with each question.** The labels for each classroom concept are provided for each question.  This will assure you are on the right track as you work through the project, and you can feel more confident in your final submission meeting the criteria.  As a final check, assure you meet all the criteria on the [RUBRIC](https://review.udacity.com/#!/projects/37e27304-ad47-4eb0-a1ab-8c12f60e43d0/rubric).\n",
    "\n",
    "<a id='probability'></a>\n",
    "#### Part I - Probability\n",
    "\n",
    "To get started, let's import our libraries."
   ]
  },
  {
   "cell_type": "code",
   "execution_count": 1,
   "metadata": {
    "id": "WSL-z5r5iPkY"
   },
   "outputs": [],
   "source": [
    "import pandas as pd\n",
    "import numpy as np\n",
    "import random\n",
    "import matplotlib.pyplot as plt\n",
    "%matplotlib inline\n",
    "#We are setting the seed to assure you get the same answers on quizzes as we set up\n",
    "random.seed(42)"
   ]
  },
  {
   "cell_type": "markdown",
   "metadata": {
    "id": "AvSz5V9UiPkd"
   },
   "source": [
    "`1.` Now, read in the `ab_data.csv` data. Store it in `df`.  **Use your dataframe to answer the questions in Quiz 1 of the classroom.**\n",
    "\n",
    "a. Read in the dataset and take a look at the top few rows here:"
   ]
  },
  {
   "cell_type": "code",
   "execution_count": 2,
   "metadata": {
    "colab": {
     "base_uri": "https://localhost:8080/",
     "height": 34
    },
    "executionInfo": {
     "elapsed": 55418,
     "status": "ok",
     "timestamp": 1602834743085,
     "user": {
      "displayName": "John Calaunan",
      "photoUrl": "https://lh4.googleusercontent.com/-jCWfMprfyZg/AAAAAAAAAAI/AAAAAAAALlQ/RH3K6uljsyo/s64/photo.jpg",
      "userId": "11296851702912649604"
     },
     "user_tz": -660
    },
    "id": "OU1IpPRFlqfE",
    "outputId": "ae373dd8-f18f-4014-abef-b730fbb915e5"
   },
   "outputs": [],
   "source": [
    "## Method 1 - Load from Google Drive\n",
    "# from google.colab import drive\n",
    "# drive.mount('/content/drive')\n",
    "## Enter access code in dialog"
   ]
  },
  {
   "cell_type": "code",
   "execution_count": 3,
   "metadata": {
    "id": "bUEejCq2l8Nh"
   },
   "outputs": [],
   "source": [
    "## Method 1 - Google colab\n",
    "#path=\"/content/drive/My Drive/data/ab_data.csv\"\n",
    "#df = pd.read_csv(path)\n",
    "\n",
    "## Method 2 - Local\n",
    "df = pd.read_csv('ab_data.csv')"
   ]
  },
  {
   "cell_type": "markdown",
   "metadata": {
    "id": "cUlfuKD5iPki"
   },
   "source": [
    "b. Use the cell below to find the number of rows in the dataset."
   ]
  },
  {
   "cell_type": "code",
   "execution_count": 4,
   "metadata": {
    "colab": {
     "base_uri": "https://localhost:8080/",
     "height": 204
    },
    "executionInfo": {
     "elapsed": 58300,
     "status": "ok",
     "timestamp": 1602834745991,
     "user": {
      "displayName": "John Calaunan",
      "photoUrl": "https://lh4.googleusercontent.com/-jCWfMprfyZg/AAAAAAAAAAI/AAAAAAAALlQ/RH3K6uljsyo/s64/photo.jpg",
      "userId": "11296851702912649604"
     },
     "user_tz": -660
    },
    "id": "pcsKWNeTiPkj",
    "outputId": "01d956f5-5596-4fbb-8622-df5c46975166",
    "scrolled": true
   },
   "outputs": [
    {
     "output_type": "execute_result",
     "data": {
      "text/plain": [
       "   user_id                   timestamp      group landing_page  converted\n",
       "0   851104  2017-01-21 22:11:48.556739    control     old_page          0\n",
       "1   804228  2017-01-12 08:01:45.159739    control     old_page          0\n",
       "2   661590  2017-01-11 16:55:06.154213  treatment     new_page          0\n",
       "3   853541  2017-01-08 18:28:03.143765  treatment     new_page          0\n",
       "4   864975  2017-01-21 01:52:26.210827    control     old_page          1"
      ],
      "text/html": "<div>\n<style scoped>\n    .dataframe tbody tr th:only-of-type {\n        vertical-align: middle;\n    }\n\n    .dataframe tbody tr th {\n        vertical-align: top;\n    }\n\n    .dataframe thead th {\n        text-align: right;\n    }\n</style>\n<table border=\"1\" class=\"dataframe\">\n  <thead>\n    <tr style=\"text-align: right;\">\n      <th></th>\n      <th>user_id</th>\n      <th>timestamp</th>\n      <th>group</th>\n      <th>landing_page</th>\n      <th>converted</th>\n    </tr>\n  </thead>\n  <tbody>\n    <tr>\n      <th>0</th>\n      <td>851104</td>\n      <td>2017-01-21 22:11:48.556739</td>\n      <td>control</td>\n      <td>old_page</td>\n      <td>0</td>\n    </tr>\n    <tr>\n      <th>1</th>\n      <td>804228</td>\n      <td>2017-01-12 08:01:45.159739</td>\n      <td>control</td>\n      <td>old_page</td>\n      <td>0</td>\n    </tr>\n    <tr>\n      <th>2</th>\n      <td>661590</td>\n      <td>2017-01-11 16:55:06.154213</td>\n      <td>treatment</td>\n      <td>new_page</td>\n      <td>0</td>\n    </tr>\n    <tr>\n      <th>3</th>\n      <td>853541</td>\n      <td>2017-01-08 18:28:03.143765</td>\n      <td>treatment</td>\n      <td>new_page</td>\n      <td>0</td>\n    </tr>\n    <tr>\n      <th>4</th>\n      <td>864975</td>\n      <td>2017-01-21 01:52:26.210827</td>\n      <td>control</td>\n      <td>old_page</td>\n      <td>1</td>\n    </tr>\n  </tbody>\n</table>\n</div>"
     },
     "metadata": {},
     "execution_count": 4
    }
   ],
   "source": [
    "df.head()"
   ]
  },
  {
   "cell_type": "code",
   "execution_count": 5,
   "metadata": {
    "colab": {
     "base_uri": "https://localhost:8080/",
     "height": 34
    },
    "executionInfo": {
     "elapsed": 58293,
     "status": "ok",
     "timestamp": 1602834745997,
     "user": {
      "displayName": "John Calaunan",
      "photoUrl": "https://lh4.googleusercontent.com/-jCWfMprfyZg/AAAAAAAAAAI/AAAAAAAALlQ/RH3K6uljsyo/s64/photo.jpg",
      "userId": "11296851702912649604"
     },
     "user_tz": -660
    },
    "id": "R2kwxYz_iPko",
    "outputId": "8845568e-0027-49a6-af0a-2a4d74fffbb3"
   },
   "outputs": [
    {
     "output_type": "execute_result",
     "data": {
      "text/plain": [
       "(294478, 5)"
      ]
     },
     "metadata": {},
     "execution_count": 5
    }
   ],
   "source": [
    "df.shape"
   ]
  },
  {
   "cell_type": "markdown",
   "metadata": {
    "id": "gWqzs-geiPkt"
   },
   "source": [
    "c. The number of unique users in the dataset."
   ]
  },
  {
   "cell_type": "code",
   "execution_count": 6,
   "metadata": {
    "colab": {
     "base_uri": "https://localhost:8080/",
     "height": 34
    },
    "executionInfo": {
     "elapsed": 58283,
     "status": "ok",
     "timestamp": 1602834746000,
     "user": {
      "displayName": "John Calaunan",
      "photoUrl": "https://lh4.googleusercontent.com/-jCWfMprfyZg/AAAAAAAAAAI/AAAAAAAALlQ/RH3K6uljsyo/s64/photo.jpg",
      "userId": "11296851702912649604"
     },
     "user_tz": -660
    },
    "id": "qJeXHM2ViPku",
    "outputId": "3648875f-a649-45af-dbf1-c249d03d43ef"
   },
   "outputs": [
    {
     "output_type": "execute_result",
     "data": {
      "text/plain": [
       "290584"
      ]
     },
     "metadata": {},
     "execution_count": 6
    }
   ],
   "source": [
    "df.user_id.nunique()"
   ]
  },
  {
   "cell_type": "markdown",
   "metadata": {
    "collapsed": true,
    "id": "vlNXT5JMiPky"
   },
   "source": [
    "d. The proportion of users converted."
   ]
  },
  {
   "cell_type": "code",
   "execution_count": 7,
   "metadata": {
    "colab": {
     "base_uri": "https://localhost:8080/",
     "height": 34
    },
    "executionInfo": {
     "elapsed": 58251,
     "status": "ok",
     "timestamp": 1602834746001,
     "user": {
      "displayName": "John Calaunan",
      "photoUrl": "https://lh4.googleusercontent.com/-jCWfMprfyZg/AAAAAAAAAAI/AAAAAAAALlQ/RH3K6uljsyo/s64/photo.jpg",
      "userId": "11296851702912649604"
     },
     "user_tz": -660
    },
    "id": "9Nq4pIoViPkz",
    "outputId": "3edd94f4-f1d2-4847-a720-0e3339e47c3f"
   },
   "outputs": [
    {
     "output_type": "execute_result",
     "data": {
      "text/plain": [
       "0.11965919355605512"
      ]
     },
     "metadata": {},
     "execution_count": 7
    }
   ],
   "source": [
    "df.converted.mean()"
   ]
  },
  {
   "cell_type": "markdown",
   "metadata": {
    "collapsed": true,
    "id": "Iq1I7rcyiPk4"
   },
   "source": [
    "e. The number of times the `new_page` and `treatment` don't match."
   ]
  },
  {
   "cell_type": "code",
   "execution_count": 8,
   "metadata": {
    "id": "qKPHxUM3iPk4"
   },
   "outputs": [],
   "source": [
    "treatment = df.query(\"group=='treatment'\")\n",
    "# treatment matches with old\n",
    "old_treatment = treatment.query(\"landing_page=='old_page'\")"
   ]
  },
  {
   "cell_type": "code",
   "execution_count": 9,
   "metadata": {
    "id": "ZiJBi8nTiPk8"
   },
   "outputs": [],
   "source": [
    "control = df.query(\"group=='control'\")\n",
    "new_control = control.query(\"landing_page=='new_page'\")"
   ]
  },
  {
   "cell_type": "code",
   "execution_count": 10,
   "metadata": {
    "colab": {
     "base_uri": "https://localhost:8080/",
     "height": 34
    },
    "executionInfo": {
     "elapsed": 58216,
     "status": "ok",
     "timestamp": 1602834746003,
     "user": {
      "displayName": "John Calaunan",
      "photoUrl": "https://lh4.googleusercontent.com/-jCWfMprfyZg/AAAAAAAAAAI/AAAAAAAALlQ/RH3K6uljsyo/s64/photo.jpg",
      "userId": "11296851702912649604"
     },
     "user_tz": -660
    },
    "id": "QAZwr1-viPk_",
    "outputId": "b8acfd5c-069e-4002-d3e2-465dcdb7d154"
   },
   "outputs": [
    {
     "output_type": "execute_result",
     "data": {
      "text/plain": [
       "(1965, 1928)"
      ]
     },
     "metadata": {},
     "execution_count": 10
    }
   ],
   "source": [
    "old_treatment.group.count(), new_control.group.count()"
   ]
  },
  {
   "cell_type": "code",
   "execution_count": 11,
   "metadata": {
    "colab": {
     "base_uri": "https://localhost:8080/",
     "height": 34
    },
    "executionInfo": {
     "elapsed": 58199,
     "status": "ok",
     "timestamp": 1602834746004,
     "user": {
      "displayName": "John Calaunan",
      "photoUrl": "https://lh4.googleusercontent.com/-jCWfMprfyZg/AAAAAAAAAAI/AAAAAAAALlQ/RH3K6uljsyo/s64/photo.jpg",
      "userId": "11296851702912649604"
     },
     "user_tz": -660
    },
    "id": "VPB4qQw0iPlC",
    "outputId": "831ca8c2-4753-45e0-aaec-53cab3aa0ef4"
   },
   "outputs": [
    {
     "output_type": "execute_result",
     "data": {
      "text/plain": [
       "3893"
      ]
     },
     "metadata": {},
     "execution_count": 11
    }
   ],
   "source": [
    "nonmatch = old_treatment.group.count() + new_control.group.count()\n",
    "nonmatch"
   ]
  },
  {
   "cell_type": "markdown",
   "metadata": {
    "id": "9S9w4g5diPlG"
   },
   "source": [
    "f. Do any of the rows have missing values?"
   ]
  },
  {
   "cell_type": "code",
   "execution_count": 12,
   "metadata": {
    "colab": {
     "base_uri": "https://localhost:8080/",
     "height": 119
    },
    "executionInfo": {
     "elapsed": 58181,
     "status": "ok",
     "timestamp": 1602834746005,
     "user": {
      "displayName": "John Calaunan",
      "photoUrl": "https://lh4.googleusercontent.com/-jCWfMprfyZg/AAAAAAAAAAI/AAAAAAAALlQ/RH3K6uljsyo/s64/photo.jpg",
      "userId": "11296851702912649604"
     },
     "user_tz": -660
    },
    "id": "VlIx5EtgiPlH",
    "outputId": "e43fec3e-ebfa-4bb5-df07-56cf1ac38a81"
   },
   "outputs": [
    {
     "output_type": "execute_result",
     "data": {
      "text/plain": [
       "user_id         False\n",
       "timestamp       False\n",
       "group           False\n",
       "landing_page    False\n",
       "converted       False\n",
       "dtype: bool"
      ]
     },
     "metadata": {},
     "execution_count": 12
    }
   ],
   "source": [
    "df.isnull().count() < df.shape[0]"
   ]
  },
  {
   "cell_type": "markdown",
   "metadata": {
    "id": "E49eYoPXiPlK"
   },
   "source": [
    "`2.` For the rows where **treatment** does not match with **new_page** or **control** does not match with **old_page**, we cannot be sure if this row truly received the new or old page.  Use **Quiz 2** in the classroom to figure out how we should handle these rows.  \n",
    "\n",
    "a. Now use the answer to the quiz to create a new dataset that meets the specifications from the quiz.  Store your new dataframe in **df2**."
   ]
  },
  {
   "cell_type": "code",
   "execution_count": 13,
   "metadata": {
    "id": "MH7W47ghiPlL"
   },
   "outputs": [],
   "source": [
    "df1 = df.drop(old_treatment.index)"
   ]
  },
  {
   "cell_type": "code",
   "execution_count": 14,
   "metadata": {
    "colab": {
     "base_uri": "https://localhost:8080/",
     "height": 34
    },
    "executionInfo": {
     "elapsed": 58163,
     "status": "ok",
     "timestamp": 1602834746007,
     "user": {
      "displayName": "John Calaunan",
      "photoUrl": "https://lh4.googleusercontent.com/-jCWfMprfyZg/AAAAAAAAAAI/AAAAAAAALlQ/RH3K6uljsyo/s64/photo.jpg",
      "userId": "11296851702912649604"
     },
     "user_tz": -660
    },
    "id": "5eKFFVPBiPlO",
    "outputId": "42e3ed8e-5f2d-48df-c5bb-52a9bff951cb"
   },
   "outputs": [
    {
     "output_type": "execute_result",
     "data": {
      "text/plain": [
       "1462565"
      ]
     },
     "metadata": {},
     "execution_count": 14
    }
   ],
   "source": [
    "df1.size"
   ]
  },
  {
   "cell_type": "code",
   "execution_count": 15,
   "metadata": {
    "id": "MjRiCR5BiPlS"
   },
   "outputs": [],
   "source": [
    "df2 = df1.drop(new_control.index)"
   ]
  },
  {
   "cell_type": "code",
   "execution_count": 16,
   "metadata": {
    "colab": {
     "base_uri": "https://localhost:8080/",
     "height": 34
    },
    "executionInfo": {
     "elapsed": 58149,
     "status": "ok",
     "timestamp": 1602834746010,
     "user": {
      "displayName": "John Calaunan",
      "photoUrl": "https://lh4.googleusercontent.com/-jCWfMprfyZg/AAAAAAAAAAI/AAAAAAAALlQ/RH3K6uljsyo/s64/photo.jpg",
      "userId": "11296851702912649604"
     },
     "user_tz": -660
    },
    "id": "cF99QDvRiPlV",
    "outputId": "9dbde748-f811-4f61-da4b-99d340fe73c4"
   },
   "outputs": [
    {
     "output_type": "execute_result",
     "data": {
      "text/plain": [
       "(290585, 5)"
      ]
     },
     "metadata": {},
     "execution_count": 16
    }
   ],
   "source": [
    "df2.shape"
   ]
  },
  {
   "cell_type": "code",
   "execution_count": 17,
   "metadata": {
    "colab": {
     "base_uri": "https://localhost:8080/",
     "height": 204
    },
    "executionInfo": {
     "elapsed": 58130,
     "status": "ok",
     "timestamp": 1602834746014,
     "user": {
      "displayName": "John Calaunan",
      "photoUrl": "https://lh4.googleusercontent.com/-jCWfMprfyZg/AAAAAAAAAAI/AAAAAAAALlQ/RH3K6uljsyo/s64/photo.jpg",
      "userId": "11296851702912649604"
     },
     "user_tz": -660
    },
    "id": "7c_9aDnCiPla",
    "outputId": "8d006029-b07e-4a81-9faa-1da33383f155",
    "scrolled": true
   },
   "outputs": [
    {
     "output_type": "execute_result",
     "data": {
      "text/plain": [
       "   user_id                   timestamp      group landing_page  converted\n",
       "0   851104  2017-01-21 22:11:48.556739    control     old_page          0\n",
       "1   804228  2017-01-12 08:01:45.159739    control     old_page          0\n",
       "2   661590  2017-01-11 16:55:06.154213  treatment     new_page          0\n",
       "3   853541  2017-01-08 18:28:03.143765  treatment     new_page          0\n",
       "4   864975  2017-01-21 01:52:26.210827    control     old_page          1"
      ],
      "text/html": "<div>\n<style scoped>\n    .dataframe tbody tr th:only-of-type {\n        vertical-align: middle;\n    }\n\n    .dataframe tbody tr th {\n        vertical-align: top;\n    }\n\n    .dataframe thead th {\n        text-align: right;\n    }\n</style>\n<table border=\"1\" class=\"dataframe\">\n  <thead>\n    <tr style=\"text-align: right;\">\n      <th></th>\n      <th>user_id</th>\n      <th>timestamp</th>\n      <th>group</th>\n      <th>landing_page</th>\n      <th>converted</th>\n    </tr>\n  </thead>\n  <tbody>\n    <tr>\n      <th>0</th>\n      <td>851104</td>\n      <td>2017-01-21 22:11:48.556739</td>\n      <td>control</td>\n      <td>old_page</td>\n      <td>0</td>\n    </tr>\n    <tr>\n      <th>1</th>\n      <td>804228</td>\n      <td>2017-01-12 08:01:45.159739</td>\n      <td>control</td>\n      <td>old_page</td>\n      <td>0</td>\n    </tr>\n    <tr>\n      <th>2</th>\n      <td>661590</td>\n      <td>2017-01-11 16:55:06.154213</td>\n      <td>treatment</td>\n      <td>new_page</td>\n      <td>0</td>\n    </tr>\n    <tr>\n      <th>3</th>\n      <td>853541</td>\n      <td>2017-01-08 18:28:03.143765</td>\n      <td>treatment</td>\n      <td>new_page</td>\n      <td>0</td>\n    </tr>\n    <tr>\n      <th>4</th>\n      <td>864975</td>\n      <td>2017-01-21 01:52:26.210827</td>\n      <td>control</td>\n      <td>old_page</td>\n      <td>1</td>\n    </tr>\n  </tbody>\n</table>\n</div>"
     },
     "metadata": {},
     "execution_count": 17
    }
   ],
   "source": [
    "df2.head()"
   ]
  },
  {
   "cell_type": "code",
   "execution_count": 18,
   "metadata": {
    "colab": {
     "base_uri": "https://localhost:8080/",
     "height": 34
    },
    "executionInfo": {
     "elapsed": 58107,
     "status": "ok",
     "timestamp": 1602834746015,
     "user": {
      "displayName": "John Calaunan",
      "photoUrl": "https://lh4.googleusercontent.com/-jCWfMprfyZg/AAAAAAAAAAI/AAAAAAAALlQ/RH3K6uljsyo/s64/photo.jpg",
      "userId": "11296851702912649604"
     },
     "user_tz": -660
    },
    "id": "YEa2tohJiPlf",
    "outputId": "caf0bcac-5771-43c1-8bd1-0d2075fa8290",
    "scrolled": true
   },
   "outputs": [
    {
     "output_type": "execute_result",
     "data": {
      "text/plain": [
       "0"
      ]
     },
     "metadata": {},
     "execution_count": 18
    }
   ],
   "source": [
    "# Double check all of the correct rows were removed - this should be 0\n",
    "df2[((df2['group'] == 'treatment') == (df2['landing_page'] == 'new_page')) == False].shape[0]"
   ]
  },
  {
   "cell_type": "markdown",
   "metadata": {
    "id": "rwL-_W4ziPlj"
   },
   "source": [
    "`3.` Use **df2** and the cells below to answer questions for **Quiz3** in the classroom."
   ]
  },
  {
   "cell_type": "markdown",
   "metadata": {
    "id": "4Xt3Nf73iPlk"
   },
   "source": [
    "a. How many unique **user_id**s are in **df2**?"
   ]
  },
  {
   "cell_type": "code",
   "execution_count": 19,
   "metadata": {
    "colab": {
     "base_uri": "https://localhost:8080/",
     "height": 221
    },
    "executionInfo": {
     "elapsed": 58095,
     "status": "ok",
     "timestamp": 1602834746016,
     "user": {
      "displayName": "John Calaunan",
      "photoUrl": "https://lh4.googleusercontent.com/-jCWfMprfyZg/AAAAAAAAAAI/AAAAAAAALlQ/RH3K6uljsyo/s64/photo.jpg",
      "userId": "11296851702912649604"
     },
     "user_tz": -660
    },
    "id": "Nbi9WDW6iPll",
    "outputId": "2fe6ddd5-0593-4491-df3a-ff24e710978e",
    "scrolled": true
   },
   "outputs": [
    {
     "output_type": "stream",
     "name": "stdout",
     "text": [
      "<class 'pandas.core.frame.DataFrame'>\nInt64Index: 290585 entries, 0 to 294477\nData columns (total 5 columns):\n #   Column        Non-Null Count   Dtype \n---  ------        --------------   ----- \n 0   user_id       290585 non-null  int64 \n 1   timestamp     290585 non-null  object\n 2   group         290585 non-null  object\n 3   landing_page  290585 non-null  object\n 4   converted     290585 non-null  int64 \ndtypes: int64(2), object(3)\nmemory usage: 13.3+ MB\n"
     ]
    }
   ],
   "source": [
    "# Quick overview of entire dataset\n",
    "df2.info()"
   ]
  },
  {
   "cell_type": "code",
   "execution_count": 20,
   "metadata": {
    "colab": {
     "base_uri": "https://localhost:8080/",
     "height": 119
    },
    "executionInfo": {
     "elapsed": 58080,
     "status": "ok",
     "timestamp": 1602834746016,
     "user": {
      "displayName": "John Calaunan",
      "photoUrl": "https://lh4.googleusercontent.com/-jCWfMprfyZg/AAAAAAAAAAI/AAAAAAAALlQ/RH3K6uljsyo/s64/photo.jpg",
      "userId": "11296851702912649604"
     },
     "user_tz": -660
    },
    "id": "RFBX0m3-iPlo",
    "outputId": "998a4dc2-f474-41ce-80ed-3abe4685eb5f"
   },
   "outputs": [
    {
     "output_type": "execute_result",
     "data": {
      "text/plain": [
       "user_id         290584\n",
       "timestamp       290585\n",
       "group                2\n",
       "landing_page         2\n",
       "converted            2\n",
       "dtype: int64"
      ]
     },
     "metadata": {},
     "execution_count": 20
    }
   ],
   "source": [
    "df2.nunique()"
   ]
  },
  {
   "cell_type": "markdown",
   "metadata": {},
   "source": [
    "*There appears to be a double up in timestamp*"
   ]
  },
  {
   "cell_type": "markdown",
   "metadata": {
    "collapsed": true,
    "id": "wFcF7D2miPlr"
   },
   "source": [
    "b. There is one **user_id** repeated in **df2**.  What is it?"
   ]
  },
  {
   "cell_type": "code",
   "execution_count": 21,
   "metadata": {
    "id": "87mDsjPziPlr"
   },
   "outputs": [],
   "source": [
    "# create mask to find duplicated, returning true/false results\n",
    "mask = df2['user_id'].duplicated()"
   ]
  },
  {
   "cell_type": "code",
   "execution_count": 22,
   "metadata": {
    "colab": {
     "base_uri": "https://localhost:8080/",
     "height": 80
    },
    "executionInfo": {
     "elapsed": 58056,
     "status": "ok",
     "timestamp": 1602834746017,
     "user": {
      "displayName": "John Calaunan",
      "photoUrl": "https://lh4.googleusercontent.com/-jCWfMprfyZg/AAAAAAAAAAI/AAAAAAAALlQ/RH3K6uljsyo/s64/photo.jpg",
      "userId": "11296851702912649604"
     },
     "user_tz": -660
    },
    "id": "lVSTQpx9iPlv",
    "outputId": "d82c826c-0472-40e7-ce37-4c835f52d893",
    "scrolled": true
   },
   "outputs": [
    {
     "output_type": "execute_result",
     "data": {
      "text/plain": [
       "      user_id                   timestamp      group landing_page  converted\n",
       "2893   773192  2017-01-14 02:55:59.590927  treatment     new_page          0"
      ],
      "text/html": "<div>\n<style scoped>\n    .dataframe tbody tr th:only-of-type {\n        vertical-align: middle;\n    }\n\n    .dataframe tbody tr th {\n        vertical-align: top;\n    }\n\n    .dataframe thead th {\n        text-align: right;\n    }\n</style>\n<table border=\"1\" class=\"dataframe\">\n  <thead>\n    <tr style=\"text-align: right;\">\n      <th></th>\n      <th>user_id</th>\n      <th>timestamp</th>\n      <th>group</th>\n      <th>landing_page</th>\n      <th>converted</th>\n    </tr>\n  </thead>\n  <tbody>\n    <tr>\n      <th>2893</th>\n      <td>773192</td>\n      <td>2017-01-14 02:55:59.590927</td>\n      <td>treatment</td>\n      <td>new_page</td>\n      <td>0</td>\n    </tr>\n  </tbody>\n</table>\n</div>"
     },
     "metadata": {},
     "execution_count": 22
    }
   ],
   "source": [
    "# Apply mask to only return true\n",
    "df2[mask]"
   ]
  },
  {
   "cell_type": "markdown",
   "metadata": {
    "id": "0QG_dVUCiPly"
   },
   "source": [
    "c. What is the row information for the repeat **user_id**? "
   ]
  },
  {
   "cell_type": "code",
   "execution_count": 23,
   "metadata": {
    "colab": {
     "base_uri": "https://localhost:8080/",
     "height": 34
    },
    "executionInfo": {
     "elapsed": 57999,
     "status": "ok",
     "timestamp": 1602834746018,
     "user": {
      "displayName": "John Calaunan",
      "photoUrl": "https://lh4.googleusercontent.com/-jCWfMprfyZg/AAAAAAAAAAI/AAAAAAAALlQ/RH3K6uljsyo/s64/photo.jpg",
      "userId": "11296851702912649604"
     },
     "user_tz": -660
    },
    "id": "Bo_u747ViPlz",
    "outputId": "3f1d0e93-4427-42c6-92e0-cb98ab74ab01"
   },
   "outputs": [
    {
     "output_type": "execute_result",
     "data": {
      "text/plain": [
       "2893"
      ]
     },
     "metadata": {},
     "execution_count": 23
    }
   ],
   "source": [
    "dup_index = df2[mask].index[0]\n",
    "dup_index"
   ]
  },
  {
   "cell_type": "markdown",
   "metadata": {
    "id": "sNX8MQ5SiPl3"
   },
   "source": [
    "d. Remove **one** of the rows with a duplicate **user_id**, but keep your dataframe as **df2**."
   ]
  },
  {
   "cell_type": "code",
   "execution_count": 24,
   "metadata": {
    "colab": {
     "base_uri": "https://localhost:8080/",
     "height": 34
    },
    "executionInfo": {
     "elapsed": 57979,
     "status": "ok",
     "timestamp": 1602834746019,
     "user": {
      "displayName": "John Calaunan",
      "photoUrl": "https://lh4.googleusercontent.com/-jCWfMprfyZg/AAAAAAAAAAI/AAAAAAAALlQ/RH3K6uljsyo/s64/photo.jpg",
      "userId": "11296851702912649604"
     },
     "user_tz": -660
    },
    "id": "l8Yeo15UiPl4",
    "outputId": "2c0916bf-4564-4dd0-8a7a-ecf946aea5b8"
   },
   "outputs": [
    {
     "output_type": "execute_result",
     "data": {
      "text/plain": [
       "(290585, 5)"
      ]
     },
     "metadata": {},
     "execution_count": 24
    }
   ],
   "source": [
    "df2.shape"
   ]
  },
  {
   "cell_type": "code",
   "execution_count": 25,
   "metadata": {
    "id": "4Be0rv_ziPl6"
   },
   "outputs": [],
   "source": [
    "df2.drop(dup_index, inplace=True)"
   ]
  },
  {
   "cell_type": "code",
   "execution_count": 26,
   "metadata": {
    "colab": {
     "base_uri": "https://localhost:8080/",
     "height": 34
    },
    "executionInfo": {
     "elapsed": 57941,
     "status": "ok",
     "timestamp": 1602834746020,
     "user": {
      "displayName": "John Calaunan",
      "photoUrl": "https://lh4.googleusercontent.com/-jCWfMprfyZg/AAAAAAAAAAI/AAAAAAAALlQ/RH3K6uljsyo/s64/photo.jpg",
      "userId": "11296851702912649604"
     },
     "user_tz": -660
    },
    "id": "R7Cr-3ZriPl_",
    "outputId": "b2580c1a-8fb3-4e64-b15c-c6c69d73fea3"
   },
   "outputs": [
    {
     "output_type": "execute_result",
     "data": {
      "text/plain": [
       "(290584, 5)"
      ]
     },
     "metadata": {},
     "execution_count": 26
    }
   ],
   "source": [
    "# sanity check to confirm\n",
    "df2.shape"
   ]
  },
  {
   "cell_type": "markdown",
   "metadata": {
    "id": "Cls6CnLqiPmC"
   },
   "source": [
    "`4.` Use **df2** in the cells below to answer the quiz questions related to **Quiz 4** in the classroom.\n",
    "\n",
    "a. What is the probability of an individual converting regardless of the page they receive?"
   ]
  },
  {
   "cell_type": "code",
   "execution_count": 27,
   "metadata": {
    "colab": {
     "base_uri": "https://localhost:8080/",
     "height": 204
    },
    "executionInfo": {
     "elapsed": 57906,
     "status": "ok",
     "timestamp": 1602834746021,
     "user": {
      "displayName": "John Calaunan",
      "photoUrl": "https://lh4.googleusercontent.com/-jCWfMprfyZg/AAAAAAAAAAI/AAAAAAAALlQ/RH3K6uljsyo/s64/photo.jpg",
      "userId": "11296851702912649604"
     },
     "user_tz": -660
    },
    "id": "tDAGr29NiPmC",
    "outputId": "6ed20164-3b91-4992-bb80-b1aadef0b57b"
   },
   "outputs": [
    {
     "output_type": "execute_result",
     "data": {
      "text/plain": [
       "   user_id                   timestamp      group landing_page  converted\n",
       "0   851104  2017-01-21 22:11:48.556739    control     old_page          0\n",
       "1   804228  2017-01-12 08:01:45.159739    control     old_page          0\n",
       "2   661590  2017-01-11 16:55:06.154213  treatment     new_page          0"
      ],
      "text/html": "<div>\n<style scoped>\n    .dataframe tbody tr th:only-of-type {\n        vertical-align: middle;\n    }\n\n    .dataframe tbody tr th {\n        vertical-align: top;\n    }\n\n    .dataframe thead th {\n        text-align: right;\n    }\n</style>\n<table border=\"1\" class=\"dataframe\">\n  <thead>\n    <tr style=\"text-align: right;\">\n      <th></th>\n      <th>user_id</th>\n      <th>timestamp</th>\n      <th>group</th>\n      <th>landing_page</th>\n      <th>converted</th>\n    </tr>\n  </thead>\n  <tbody>\n    <tr>\n      <th>0</th>\n      <td>851104</td>\n      <td>2017-01-21 22:11:48.556739</td>\n      <td>control</td>\n      <td>old_page</td>\n      <td>0</td>\n    </tr>\n    <tr>\n      <th>1</th>\n      <td>804228</td>\n      <td>2017-01-12 08:01:45.159739</td>\n      <td>control</td>\n      <td>old_page</td>\n      <td>0</td>\n    </tr>\n    <tr>\n      <th>2</th>\n      <td>661590</td>\n      <td>2017-01-11 16:55:06.154213</td>\n      <td>treatment</td>\n      <td>new_page</td>\n      <td>0</td>\n    </tr>\n  </tbody>\n</table>\n</div>"
     },
     "metadata": {},
     "execution_count": 27
    }
   ],
   "source": [
    "# Quickly review of data\n",
    "df2.head(3) "
   ]
  },
  {
   "cell_type": "code",
   "execution_count": 28,
   "metadata": {
    "colab": {
     "base_uri": "https://localhost:8080/",
     "height": 34
    },
    "executionInfo": {
     "elapsed": 57892,
     "status": "ok",
     "timestamp": 1602834746022,
     "user": {
      "displayName": "John Calaunan",
      "photoUrl": "https://lh4.googleusercontent.com/-jCWfMprfyZg/AAAAAAAAAAI/AAAAAAAALlQ/RH3K6uljsyo/s64/photo.jpg",
      "userId": "11296851702912649604"
     },
     "user_tz": -660
    },
    "id": "AAX0ktXhiPmF",
    "outputId": "0d5473f9-166c-478a-94ab-125662cb81ba"
   },
   "outputs": [
    {
     "output_type": "execute_result",
     "data": {
      "text/plain": [
       "0.11959708724499628"
      ]
     },
     "metadata": {},
     "execution_count": 28
    }
   ],
   "source": [
    "# the probability of converting is:\n",
    "df2.converted.mean()"
   ]
  },
  {
   "cell_type": "markdown",
   "metadata": {
    "id": "PbeC-buWiPmI"
   },
   "source": [
    "b. Given that an individual was in the `control` group, what is the probability they converted?"
   ]
  },
  {
   "cell_type": "code",
   "execution_count": 29,
   "metadata": {
    "colab": {
     "base_uri": "https://localhost:8080/",
     "height": 34
    },
    "executionInfo": {
     "elapsed": 57889,
     "status": "ok",
     "timestamp": 1602834746031,
     "user": {
      "displayName": "John Calaunan",
      "photoUrl": "https://lh4.googleusercontent.com/-jCWfMprfyZg/AAAAAAAAAAI/AAAAAAAALlQ/RH3K6uljsyo/s64/photo.jpg",
      "userId": "11296851702912649604"
     },
     "user_tz": -660
    },
    "id": "D6Q7Byc8iPmI",
    "outputId": "493f73d9-e973-407d-a158-2c68e5c11167"
   },
   "outputs": [
    {
     "output_type": "execute_result",
     "data": {
      "text/plain": [
       "0.1203863045004612"
      ]
     },
     "metadata": {},
     "execution_count": 29
    }
   ],
   "source": [
    "control_df = df2[df2.group == 'control']\n",
    "control_df.converted.mean()"
   ]
  },
  {
   "cell_type": "markdown",
   "metadata": {
    "id": "iEy3FmDMiPmM"
   },
   "source": [
    "c. Given that an individual was in the `treatment` group, what is the probability they converted?"
   ]
  },
  {
   "cell_type": "code",
   "execution_count": 30,
   "metadata": {
    "colab": {
     "base_uri": "https://localhost:8080/",
     "height": 34
    },
    "executionInfo": {
     "elapsed": 57879,
     "status": "ok",
     "timestamp": 1602834746032,
     "user": {
      "displayName": "John Calaunan",
      "photoUrl": "https://lh4.googleusercontent.com/-jCWfMprfyZg/AAAAAAAAAAI/AAAAAAAALlQ/RH3K6uljsyo/s64/photo.jpg",
      "userId": "11296851702912649604"
     },
     "user_tz": -660
    },
    "id": "wQWjGb0iiPmM",
    "outputId": "2a02339e-fa34-418f-aa72-21e14b9f628e"
   },
   "outputs": [
    {
     "output_type": "execute_result",
     "data": {
      "text/plain": [
       "0.11880806551510564"
      ]
     },
     "metadata": {},
     "execution_count": 30
    }
   ],
   "source": [
    "treatment_df = df2[df2.group == 'treatment']\n",
    "treatment_df.converted.mean()"
   ]
  },
  {
   "cell_type": "markdown",
   "metadata": {
    "id": "KIgt-w7hiPmQ"
   },
   "source": [
    "d. What is the probability that an individual received the new page?"
   ]
  },
  {
   "cell_type": "code",
   "execution_count": 31,
   "metadata": {
    "colab": {
     "base_uri": "https://localhost:8080/",
     "height": 34
    },
    "executionInfo": {
     "elapsed": 57798,
     "status": "ok",
     "timestamp": 1602834746033,
     "user": {
      "displayName": "John Calaunan",
      "photoUrl": "https://lh4.googleusercontent.com/-jCWfMprfyZg/AAAAAAAAAAI/AAAAAAAALlQ/RH3K6uljsyo/s64/photo.jpg",
      "userId": "11296851702912649604"
     },
     "user_tz": -660
    },
    "id": "Bt_aZzDeiPmQ",
    "outputId": "581c0c97-fab2-4cd6-c809-0cb7c27cf5db"
   },
   "outputs": [
    {
     "output_type": "execute_result",
     "data": {
      "text/plain": [
       "145310"
      ]
     },
     "metadata": {},
     "execution_count": 31
    }
   ],
   "source": [
    "newpage_df = df2[df2.landing_page == 'new_page']\n",
    "newpage_df.shape[0]"
   ]
  },
  {
   "cell_type": "code",
   "execution_count": 32,
   "metadata": {
    "colab": {
     "base_uri": "https://localhost:8080/",
     "height": 119
    },
    "executionInfo": {
     "elapsed": 57783,
     "status": "ok",
     "timestamp": 1602834746033,
     "user": {
      "displayName": "John Calaunan",
      "photoUrl": "https://lh4.googleusercontent.com/-jCWfMprfyZg/AAAAAAAAAAI/AAAAAAAALlQ/RH3K6uljsyo/s64/photo.jpg",
      "userId": "11296851702912649604"
     },
     "user_tz": -660
    },
    "id": "8YEt7F8EiPmT",
    "outputId": "980e1927-d91b-4bab-eb7b-5be2959a49e3"
   },
   "outputs": [
    {
     "output_type": "execute_result",
     "data": {
      "text/plain": [
       "0.5001"
      ]
     },
     "metadata": {},
     "execution_count": 32
    }
   ],
   "source": [
    "round(newpage_df.shape[0]/df2.shape[0], 4)"
   ]
  },
  {
   "cell_type": "markdown",
   "metadata": {
    "id": "J9bQJjIpiPmV"
   },
   "source": [
    "e. Consider your results from parts (a) through (d) above, and explain below whether you think there is sufficient evidence to conclude that the new treatment page leads to more conversions."
   ]
  },
  {
   "cell_type": "markdown",
   "metadata": {
    "id": "GHp0HAraiPmW"
   },
   "source": [
    "**Answer: No, deriving information from the populations proportions is inadequate to reach a conclusion as it is limiting, more bootstrap sampling and normalising is required to provide a definite and practical solution.**"
   ]
  },
  {
   "cell_type": "markdown",
   "metadata": {
    "id": "w1nuRmQaiPmW"
   },
   "source": [
    "<a id='ab_test'></a>\n",
    "### Part II - A/B Test\n",
    "\n",
    "Notice that because of the time stamp associated with each event, you could technically run a hypothesis test continuously as each observation was observed.  \n",
    "\n",
    "However, then the hard question is do you stop as soon as one page is considered significantly better than another or does it need to happen consistently for a certain amount of time?  How long do you run to render a decision that neither page is better than another?  \n",
    "\n",
    "These questions are the difficult parts associated with A/B tests in general.  \n",
    "\n",
    "\n",
    "`1.` For now, consider you need to make the decision just based on all the data provided.  If you want to assume that the old page is better unless the new page proves to be definitely better at a Type I error rate of 5%, what should your null and alternative hypotheses be?  You can state your hypothesis in terms of words or in terms of **$p_{old}$** and **$p_{new}$**, which are the converted rates for the old and new pages."
   ]
  },
  {
   "cell_type": "markdown",
   "metadata": {
    "id": "g5cgM4KziPmX"
   },
   "source": [
    "**H0: 𝑝𝑛𝑒𝑤 - 𝑝𝑜𝑙𝑑 <= 0, where 𝑝𝑛𝑒𝑤 is not converted being true due to the new page, i.e. old page is better.**\n",
    "\n",
    "**H1: 𝑝𝑛𝑒𝑤 - 𝑝𝑜𝑙𝑑 > 0, where 𝑝𝑛𝑒𝑤 is the probability of those converted due to the new page.**"
   ]
  },
  {
   "cell_type": "markdown",
   "metadata": {
    "id": "dcsSvsHBiPmX"
   },
   "source": [
    "`2.` Assume under the null hypothesis, $p_{new}$ and $p_{old}$ both have \"true\" success rates equal to the **converted** success rate regardless of page - that is $p_{new}$ and $p_{old}$ are equal. Furthermore, assume they are equal to the **converted** rate in **ab_data.csv** regardless of the page. <br><br>\n",
    "\n",
    "Use a sample size for each page equal to the ones in **ab_data.csv**.  <br><br>\n",
    "\n",
    "Perform the sampling distribution for the difference in **converted** between the two pages over 10,000 iterations of calculating an estimate from the null.  <br><br>\n",
    "\n",
    "Use the cells below to provide the necessary parts of this simulation.  If this doesn't make complete sense right now, don't worry - you are going to work through the problems below to complete this problem.  You can use **Quiz 5** in the classroom to make sure you are on the right track.<br><br>"
   ]
  },
  {
   "cell_type": "code",
   "execution_count": 33,
   "metadata": {
    "colab": {
     "base_uri": "https://localhost:8080/",
     "height": 34
    },
    "executionInfo": {
     "elapsed": 57767,
     "status": "ok",
     "timestamp": 1602834746034,
     "user": {
      "displayName": "John Calaunan",
      "photoUrl": "https://lh4.googleusercontent.com/-jCWfMprfyZg/AAAAAAAAAAI/AAAAAAAALlQ/RH3K6uljsyo/s64/photo.jpg",
      "userId": "11296851702912649604"
     },
     "user_tz": -660
    },
    "id": "zaZgIcYviPmY",
    "outputId": "fe3c010e-2c6e-470f-c8bc-cce71a3491a1",
    "scrolled": true
   },
   "outputs": [
    {
     "output_type": "execute_result",
     "data": {
      "text/plain": [
       "0.119597"
      ]
     },
     "metadata": {},
     "execution_count": 33
    }
   ],
   "source": [
    "# assume they are equal to the converted rate in ab_data.csv, !regardless of page landed!\n",
    "# use df2 as it is the cleaned dataset\n",
    "round(df2.converted.mean(),6)"
   ]
  },
  {
   "cell_type": "code",
   "execution_count": 34,
   "metadata": {
    "colab": {
     "base_uri": "https://localhost:8080/",
     "height": 34
    },
    "executionInfo": {
     "elapsed": 57756,
     "status": "ok",
     "timestamp": 1602834746035,
     "user": {
      "displayName": "John Calaunan",
      "photoUrl": "https://lh4.googleusercontent.com/-jCWfMprfyZg/AAAAAAAAAAI/AAAAAAAALlQ/RH3K6uljsyo/s64/photo.jpg",
      "userId": "11296851702912649604"
     },
     "user_tz": -660
    },
    "id": "9XdiBCv4iPmb",
    "outputId": "e3f36175-34e1-4937-8d69-af238d58f9ce"
   },
   "outputs": [
    {
     "output_type": "execute_result",
     "data": {
      "text/plain": [
       "290584"
      ]
     },
     "metadata": {},
     "execution_count": 34
    }
   ],
   "source": [
    "# sample size\n",
    "df2.shape[0]"
   ]
  },
  {
   "cell_type": "markdown",
   "metadata": {
    "id": "6EbZmz2UiPme"
   },
   "source": [
    "a. What is the **conversion rate** for $p_{new}$ under the null? "
   ]
  },
  {
   "cell_type": "code",
   "execution_count": 35,
   "metadata": {
    "colab": {
     "base_uri": "https://localhost:8080/",
     "height": 34
    },
    "executionInfo": {
     "elapsed": 57759,
     "status": "ok",
     "timestamp": 1602834746048,
     "user": {
      "displayName": "John Calaunan",
      "photoUrl": "https://lh4.googleusercontent.com/-jCWfMprfyZg/AAAAAAAAAAI/AAAAAAAALlQ/RH3K6uljsyo/s64/photo.jpg",
      "userId": "11296851702912649604"
     },
     "user_tz": -660
    },
    "id": "OJtCO25ViPmf",
    "outputId": "82257bf4-6b26-438c-881d-5f7725d2bb4b"
   },
   "outputs": [
    {
     "output_type": "execute_result",
     "data": {
      "text/plain": [
       "0.119597"
      ]
     },
     "metadata": {},
     "execution_count": 35
    }
   ],
   "source": [
    "# assume they are equal to the converted rate in ab_data.csv regardless of the page\n",
    "#pcov = pnew = pold\n",
    "p_cov = df2.converted.mean()\n",
    "round((p_cov),6)"
   ]
  },
  {
   "cell_type": "markdown",
   "metadata": {
    "id": "3bh5RB8AiPmh"
   },
   "source": [
    "b. What is the **conversion rate** for $p_{old}$ under the null? <br><br>"
   ]
  },
  {
   "cell_type": "code",
   "execution_count": 36,
   "metadata": {
    "colab": {
     "base_uri": "https://localhost:8080/",
     "height": 34
    },
    "executionInfo": {
     "elapsed": 57748,
     "status": "ok",
     "timestamp": 1602834746049,
     "user": {
      "displayName": "John Calaunan",
      "photoUrl": "https://lh4.googleusercontent.com/-jCWfMprfyZg/AAAAAAAAAAI/AAAAAAAALlQ/RH3K6uljsyo/s64/photo.jpg",
      "userId": "11296851702912649604"
     },
     "user_tz": -660
    },
    "id": "_IMskPeAiPmi",
    "outputId": "81a0686b-48a3-4b7d-f7e0-67fd1584b675"
   },
   "outputs": [
    {
     "output_type": "execute_result",
     "data": {
      "text/plain": [
       "0.119597"
      ]
     },
     "metadata": {},
     "execution_count": 36
    }
   ],
   "source": [
    "# As above in a.\n",
    "round((p_cov),6)"
   ]
  },
  {
   "cell_type": "markdown",
   "metadata": {
    "id": "SiYnEbNPiPmk"
   },
   "source": [
    "c. What is $n_{new}$, the number of individuals in the treatment group?"
   ]
  },
  {
   "cell_type": "code",
   "execution_count": 37,
   "metadata": {
    "colab": {
     "base_uri": "https://localhost:8080/",
     "height": 34
    },
    "executionInfo": {
     "elapsed": 871,
     "status": "ok",
     "timestamp": 1602844310636,
     "user": {
      "displayName": "John Calaunan",
      "photoUrl": "https://lh4.googleusercontent.com/-jCWfMprfyZg/AAAAAAAAAAI/AAAAAAAALlQ/RH3K6uljsyo/s64/photo.jpg",
      "userId": "11296851702912649604"
     },
     "user_tz": -660
    },
    "id": "VnzDkt3qiPml",
    "outputId": "6ff5bdaf-ddc3-461f-9622-9bf4d02956c5"
   },
   "outputs": [
    {
     "output_type": "execute_result",
     "data": {
      "text/plain": [
       "145310"
      ]
     },
     "metadata": {},
     "execution_count": 37
    }
   ],
   "source": [
    "# with duplicates removed, no need to utilise nunique()\n",
    "num_new = df2.query(\"group == 'treatment'\")\n",
    "n_new = num_new.user_id.nunique()\n",
    "n_new"
   ]
  },
  {
   "cell_type": "markdown",
   "metadata": {
    "id": "hb_PGI8WiPmo"
   },
   "source": [
    "d. What is $n_{old}$, the number of individuals in the control group?"
   ]
  },
  {
   "cell_type": "code",
   "execution_count": 38,
   "metadata": {
    "colab": {
     "base_uri": "https://localhost:8080/",
     "height": 34
    },
    "executionInfo": {
     "elapsed": 940,
     "status": "ok",
     "timestamp": 1602844455621,
     "user": {
      "displayName": "John Calaunan",
      "photoUrl": "https://lh4.googleusercontent.com/-jCWfMprfyZg/AAAAAAAAAAI/AAAAAAAALlQ/RH3K6uljsyo/s64/photo.jpg",
      "userId": "11296851702912649604"
     },
     "user_tz": -660
    },
    "id": "sJhqyirCiPmp",
    "outputId": "a3749ab5-2bc6-425c-c587-df124af7d627"
   },
   "outputs": [
    {
     "output_type": "execute_result",
     "data": {
      "text/plain": [
       "145274"
      ]
     },
     "metadata": {},
     "execution_count": 38
    }
   ],
   "source": [
    "num_old = df2.query(\"group == 'control'\")\n",
    "n_old = num_old.user_id.nunique()\n",
    "n_old"
   ]
  },
  {
   "cell_type": "markdown",
   "metadata": {
    "id": "RUUoJ6GqiPmt"
   },
   "source": [
    "e. Simulate $n_{new}$ transactions with a conversion rate of $p_{new}$ under the null.  Store these $n_{new}$ 1's and 0's in **new_page_converted**."
   ]
  },
  {
   "cell_type": "code",
   "execution_count": 39,
   "metadata": {
    "executionInfo": {
     "elapsed": 797,
     "status": "ok",
     "timestamp": 1602844321386,
     "user": {
      "displayName": "John Calaunan",
      "photoUrl": "https://lh4.googleusercontent.com/-jCWfMprfyZg/AAAAAAAAAAI/AAAAAAAALlQ/RH3K6uljsyo/s64/photo.jpg",
      "userId": "11296851702912649604"
     },
     "user_tz": -660
    },
    "id": "z-Gvy4RfiPmu"
   },
   "outputs": [],
   "source": [
    "# pd.sample does not simulate with probability, from prior lesson need to use np.random.choice to achieve this. Can also use random.binomial as we are simulating 0,1 i.e. converted or not\n",
    "new_page_converted = np.random.choice([1,0], size=n_new, p=[p_cov, (1- p_cov)], replace=True)"
   ]
  },
  {
   "cell_type": "code",
   "execution_count": 40,
   "metadata": {
    "colab": {
     "base_uri": "https://localhost:8080/",
     "height": 34
    },
    "executionInfo": {
     "elapsed": 982,
     "status": "ok",
     "timestamp": 1602844323494,
     "user": {
      "displayName": "John Calaunan",
      "photoUrl": "https://lh4.googleusercontent.com/-jCWfMprfyZg/AAAAAAAAAAI/AAAAAAAALlQ/RH3K6uljsyo/s64/photo.jpg",
      "userId": "11296851702912649604"
     },
     "user_tz": -660
    },
    "id": "pnyQGjrGoMAa",
    "outputId": "fb6bbe45-6da5-4baa-a393-8717c4d09365"
   },
   "outputs": [
    {
     "output_type": "execute_result",
     "data": {
      "text/plain": [
       "0.118732"
      ]
     },
     "metadata": {},
     "execution_count": 40
    }
   ],
   "source": [
    "# sample of new, type conversion below\n",
    "p_new = np.array(new_page_converted)\n",
    "round(p_new.mean(),6)"
   ]
  },
  {
   "cell_type": "code",
   "execution_count": 41,
   "metadata": {
    "colab": {
     "base_uri": "https://localhost:8080/",
     "height": 34
    },
    "executionInfo": {
     "elapsed": 2853,
     "status": "ok",
     "timestamp": 1602844347643,
     "user": {
      "displayName": "John Calaunan",
      "photoUrl": "https://lh4.googleusercontent.com/-jCWfMprfyZg/AAAAAAAAAAI/AAAAAAAALlQ/RH3K6uljsyo/s64/photo.jpg",
      "userId": "11296851702912649604"
     },
     "user_tz": -660
    },
    "id": "SRhHFG7El4FW",
    "outputId": "c245cde1-6686-4185-d79d-ad7ff5908bfc"
   },
   "outputs": [
    {
     "output_type": "execute_result",
     "data": {
      "text/plain": [
       "145310"
      ]
     },
     "metadata": {},
     "execution_count": 41
    }
   ],
   "source": [
    "p_new.shape[0]"
   ]
  },
  {
   "cell_type": "markdown",
   "metadata": {
    "id": "RLPpF60biPm0"
   },
   "source": [
    "f. Simulate $n_{old}$ transactions with a conversion rate of $p_{old}$ under the null.  Store these $n_{old}$ 1's and 0's in **old_page_converted**."
   ]
  },
  {
   "cell_type": "code",
   "execution_count": 42,
   "metadata": {
    "executionInfo": {
     "elapsed": 780,
     "status": "ok",
     "timestamp": 1602844465029,
     "user": {
      "displayName": "John Calaunan",
      "photoUrl": "https://lh4.googleusercontent.com/-jCWfMprfyZg/AAAAAAAAAAI/AAAAAAAALlQ/RH3K6uljsyo/s64/photo.jpg",
      "userId": "11296851702912649604"
     },
     "user_tz": -660
    },
    "id": "adylYY74iPm1"
   },
   "outputs": [],
   "source": [
    "old_page_converted = np.random.choice([1,0], size=n_old, p=[p_cov, (1- p_cov)], replace=True)"
   ]
  },
  {
   "cell_type": "code",
   "execution_count": 43,
   "metadata": {
    "colab": {
     "base_uri": "https://localhost:8080/",
     "height": 34
    },
    "executionInfo": {
     "elapsed": 923,
     "status": "ok",
     "timestamp": 1602844467646,
     "user": {
      "displayName": "John Calaunan",
      "photoUrl": "https://lh4.googleusercontent.com/-jCWfMprfyZg/AAAAAAAAAAI/AAAAAAAALlQ/RH3K6uljsyo/s64/photo.jpg",
      "userId": "11296851702912649604"
     },
     "user_tz": -660
    },
    "id": "MhiXwF8CoPb-",
    "outputId": "6cbc727c-c263-4901-b720-09e12295b747"
   },
   "outputs": [
    {
     "output_type": "execute_result",
     "data": {
      "text/plain": [
       "0.11912"
      ]
     },
     "metadata": {},
     "execution_count": 43
    }
   ],
   "source": [
    "# sample of old\n",
    "p_old = np.array(old_page_converted)\n",
    "round(p_old.mean(),6)"
   ]
  },
  {
   "cell_type": "markdown",
   "metadata": {
    "id": "AAw2In40iPm6"
   },
   "source": [
    "g. Find $p_{new}$ - $p_{old}$ for your simulated values from part (e) and (f)."
   ]
  },
  {
   "cell_type": "code",
   "execution_count": 44,
   "metadata": {
    "colab": {
     "base_uri": "https://localhost:8080/",
     "height": 34
    },
    "executionInfo": {
     "elapsed": 875,
     "status": "ok",
     "timestamp": 1602844482031,
     "user": {
      "displayName": "John Calaunan",
      "photoUrl": "https://lh4.googleusercontent.com/-jCWfMprfyZg/AAAAAAAAAAI/AAAAAAAALlQ/RH3K6uljsyo/s64/photo.jpg",
      "userId": "11296851702912649604"
     },
     "user_tz": -660
    },
    "id": "ArafvlzmiPm6",
    "outputId": "fe694cdf-6c0a-4e69-fd68-6f7854b0838e"
   },
   "outputs": [
    {
     "output_type": "execute_result",
     "data": {
      "text/plain": [
       "-0.0003873670797965717"
      ]
     },
     "metadata": {},
     "execution_count": 44
    }
   ],
   "source": [
    "p_diff = p_new.mean() - p_old.mean()\n",
    "p_diff"
   ]
  },
  {
   "cell_type": "markdown",
   "metadata": {
    "id": "K1W3eLvViPnA"
   },
   "source": [
    "h. Create 10,000 $p_{new}$ - $p_{old}$ values using the same simulation process you used in parts (a) through (g) above. Store all 10,000 values in a NumPy array called **p_diffs**."
   ]
  },
  {
   "cell_type": "code",
   "execution_count": 45,
   "metadata": {
    "executionInfo": {
     "elapsed": 6548,
     "status": "ok",
     "timestamp": 1602844055858,
     "user": {
      "displayName": "John Calaunan",
      "photoUrl": "https://lh4.googleusercontent.com/-jCWfMprfyZg/AAAAAAAAAAI/AAAAAAAALlQ/RH3K6uljsyo/s64/photo.jpg",
      "userId": "11296851702912649604"
     },
     "user_tz": -660
    },
    "id": "uPaBaDNGiPnB"
   },
   "outputs": [],
   "source": [
    "# bootstrap to simulate sampling distrubtion for the difference in proportions\n",
    "# create 10,000 pnew & pold i.e. 10000 of 'each'\n",
    "p_diffs = []\n",
    "samples = 10000\n",
    "\n",
    "for sample in range(samples):\n",
    "    p_new = np.random.choice([1,0], size=samples, p=[p_cov, (1- p_cov)], replace=True)\n",
    "    p_old = np.random.choice([1,0], size=samples, p=[p_cov, (1- p_cov)], replace=True)\n",
    "    diff = p_new - p_old\n",
    "    p_diffs.append(diff.mean())"
   ]
  },
  {
   "cell_type": "code",
   "execution_count": 46,
   "metadata": {
    "colab": {
     "base_uri": "https://localhost:8080/",
     "height": 34
    },
    "executionInfo": {
     "elapsed": 3069,
     "status": "ok",
     "timestamp": 1602844055860,
     "user": {
      "displayName": "John Calaunan",
      "photoUrl": "https://lh4.googleusercontent.com/-jCWfMprfyZg/AAAAAAAAAAI/AAAAAAAALlQ/RH3K6uljsyo/s64/photo.jpg",
      "userId": "11296851702912649604"
     },
     "user_tz": -660
    },
    "id": "Ak_0sF4ToZFX",
    "outputId": "11d25720-1ac2-46d4-fd8d-5e7163a982fd"
   },
   "outputs": [
    {
     "output_type": "execute_result",
     "data": {
      "text/plain": [
       "array([-0.0057,  0.0001,  0.0015, ...,  0.0035,  0.0068,  0.0048])"
      ]
     },
     "metadata": {},
     "execution_count": 46
    }
   ],
   "source": [
    "# type conversion into an np array\n",
    "p_diffs = np.array(p_diffs)\n",
    "p_diffs"
   ]
  },
  {
   "cell_type": "code",
   "execution_count": 47,
   "metadata": {
    "colab": {
     "base_uri": "https://localhost:8080/",
     "height": 34
    },
    "executionInfo": {
     "elapsed": 968,
     "status": "ok",
     "timestamp": 1602844056843,
     "user": {
      "displayName": "John Calaunan",
      "photoUrl": "https://lh4.googleusercontent.com/-jCWfMprfyZg/AAAAAAAAAAI/AAAAAAAALlQ/RH3K6uljsyo/s64/photo.jpg",
      "userId": "11296851702912649604"
     },
     "user_tz": -660
    },
    "id": "fwXobETL6V7l",
    "outputId": "73767f36-9b06-4d7e-f271-bf26e10d7f2c"
   },
   "outputs": [
    {
     "output_type": "execute_result",
     "data": {
      "text/plain": [
       "-5.579000000000002e-05"
      ]
     },
     "metadata": {},
     "execution_count": 47
    }
   ],
   "source": [
    "p_diffs.mean()"
   ]
  },
  {
   "cell_type": "markdown",
   "metadata": {
    "id": "UNcOfRDriPnD"
   },
   "source": [
    "i. Plot a histogram of the **p_diffs**.  Does this plot look like what you expected?  Use the matching problem in the classroom to assure you fully understand what was computed here."
   ]
  },
  {
   "cell_type": "code",
   "execution_count": 48,
   "metadata": {
    "colab": {
     "base_uri": "https://localhost:8080/",
     "height": 265
    },
    "executionInfo": {
     "elapsed": 926,
     "status": "ok",
     "timestamp": 1602844513497,
     "user": {
      "displayName": "John Calaunan",
      "photoUrl": "https://lh4.googleusercontent.com/-jCWfMprfyZg/AAAAAAAAAAI/AAAAAAAALlQ/RH3K6uljsyo/s64/photo.jpg",
      "userId": "11296851702912649604"
     },
     "user_tz": -660
    },
    "id": "UtiNDqZq_6mZ",
    "outputId": "fe5b8c02-c022-48cb-b3d9-35b6b8124249"
   },
   "outputs": [
    {
     "output_type": "display_data",
     "data": {
      "text/plain": "<Figure size 432x288 with 1 Axes>",
      "image/svg+xml": "<?xml version=\"1.0\" encoding=\"utf-8\" standalone=\"no\"?>\r\n<!DOCTYPE svg PUBLIC \"-//W3C//DTD SVG 1.1//EN\"\r\n  \"http://www.w3.org/Graphics/SVG/1.1/DTD/svg11.dtd\">\r\n<!-- Created with matplotlib (https://matplotlib.org/) -->\r\n<svg height=\"248.518125pt\" version=\"1.1\" viewBox=\"0 0 395.362214 248.518125\" width=\"395.362214pt\" xmlns=\"http://www.w3.org/2000/svg\" xmlns:xlink=\"http://www.w3.org/1999/xlink\">\r\n <metadata>\r\n  <rdf:RDF xmlns:cc=\"http://creativecommons.org/ns#\" xmlns:dc=\"http://purl.org/dc/elements/1.1/\" xmlns:rdf=\"http://www.w3.org/1999/02/22-rdf-syntax-ns#\">\r\n   <cc:Work>\r\n    <dc:type rdf:resource=\"http://purl.org/dc/dcmitype/StillImage\"/>\r\n    <dc:date>2020-10-17T20:03:11.989063</dc:date>\r\n    <dc:format>image/svg+xml</dc:format>\r\n    <dc:creator>\r\n     <cc:Agent>\r\n      <dc:title>Matplotlib v3.3.1, https://matplotlib.org/</dc:title>\r\n     </cc:Agent>\r\n    </dc:creator>\r\n   </cc:Work>\r\n  </rdf:RDF>\r\n </metadata>\r\n <defs>\r\n  <style type=\"text/css\">*{stroke-linecap:butt;stroke-linejoin:round;}</style>\r\n </defs>\r\n <g id=\"figure_1\">\r\n  <g id=\"patch_1\">\r\n   <path d=\"M -0 248.518125 \r\nL 395.362214 248.518125 \r\nL 395.362214 0 \r\nL -0 0 \r\nz\r\n\" style=\"fill:none;\"/>\r\n  </g>\r\n  <g id=\"axes_1\">\r\n   <g id=\"patch_2\">\r\n    <path d=\"M 39.65 224.64 \r\nL 374.45 224.64 \r\nL 374.45 7.2 \r\nL 39.65 7.2 \r\nz\r\n\" style=\"fill:#ffffff;\"/>\r\n   </g>\r\n   <g id=\"patch_3\">\r\n    <path clip-path=\"url(#p6a366ee9e1)\" d=\"M 54.868182 224.64 \r\nL 85.304545 224.64 \r\nL 85.304545 223.80018 \r\nL 54.868182 223.80018 \r\nz\r\n\" style=\"fill:#1f77b4;\"/>\r\n   </g>\r\n   <g id=\"patch_4\">\r\n    <path clip-path=\"url(#p6a366ee9e1)\" d=\"M 85.304545 224.64 \r\nL 115.740909 224.64 \r\nL 115.740909 215.611931 \r\nL 85.304545 215.611931 \r\nz\r\n\" style=\"fill:#1f77b4;\"/>\r\n   </g>\r\n   <g id=\"patch_5\">\r\n    <path clip-path=\"url(#p6a366ee9e1)\" d=\"M 115.740909 224.64 \r\nL 146.177273 224.64 \r\nL 146.177273 178.519863 \r\nL 115.740909 178.519863 \r\nz\r\n\" style=\"fill:#1f77b4;\"/>\r\n   </g>\r\n   <g id=\"patch_6\">\r\n    <path clip-path=\"url(#p6a366ee9e1)\" d=\"M 146.177273 224.64 \r\nL 176.613636 224.64 \r\nL 176.613636 96.497404 \r\nL 146.177273 96.497404 \r\nz\r\n\" style=\"fill:#1f77b4;\"/>\r\n   </g>\r\n   <g id=\"patch_7\">\r\n    <path clip-path=\"url(#p6a366ee9e1)\" d=\"M 176.613636 224.64 \r\nL 207.05 224.64 \r\nL 207.05 17.554286 \r\nL 176.613636 17.554286 \r\nz\r\n\" style=\"fill:#1f77b4;\"/>\r\n   </g>\r\n   <g id=\"patch_8\">\r\n    <path clip-path=\"url(#p6a366ee9e1)\" d=\"M 207.05 224.64 \r\nL 237.486364 224.64 \r\nL 237.486364 42.049047 \r\nL 207.05 42.049047 \r\nz\r\n\" style=\"fill:#1f77b4;\"/>\r\n   </g>\r\n   <g id=\"patch_9\">\r\n    <path clip-path=\"url(#p6a366ee9e1)\" d=\"M 237.486364 224.64 \r\nL 267.922727 224.64 \r\nL 267.922727 131.76986 \r\nL 237.486364 131.76986 \r\nz\r\n\" style=\"fill:#1f77b4;\"/>\r\n   </g>\r\n   <g id=\"patch_10\">\r\n    <path clip-path=\"url(#p6a366ee9e1)\" d=\"M 267.922727 224.64 \r\nL 298.359091 224.64 \r\nL 298.359091 195.666196 \r\nL 267.922727 195.666196 \r\nz\r\n\" style=\"fill:#1f77b4;\"/>\r\n   </g>\r\n   <g id=\"patch_11\">\r\n    <path clip-path=\"url(#p6a366ee9e1)\" d=\"M 298.359091 224.64 \r\nL 328.795455 224.64 \r\nL 328.795455 220.930793 \r\nL 298.359091 220.930793 \r\nz\r\n\" style=\"fill:#1f77b4;\"/>\r\n   </g>\r\n   <g id=\"patch_12\">\r\n    <path clip-path=\"url(#p6a366ee9e1)\" d=\"M 328.795455 224.64 \r\nL 359.231818 224.64 \r\nL 359.231818 224.150105 \r\nL 328.795455 224.150105 \r\nz\r\n\" style=\"fill:#1f77b4;\"/>\r\n   </g>\r\n   <g id=\"matplotlib.axis_1\">\r\n    <g id=\"xtick_1\">\r\n     <g id=\"line2d_1\">\r\n      <defs>\r\n       <path d=\"M 0 0 \r\nL 0 3.5 \r\n\" id=\"m67f1209396\" style=\"stroke:#000000;stroke-width:0.8;\"/>\r\n      </defs>\r\n      <g>\r\n       <use style=\"stroke:#000000;stroke-width:0.8;\" x=\"72.923652\" xlink:href=\"#m67f1209396\" y=\"224.64\"/>\r\n      </g>\r\n     </g>\r\n     <g id=\"text_1\">\r\n      <!-- −0.015 -->\r\n      <g transform=\"translate(54.419746 239.238437)scale(0.1 -0.1)\">\r\n       <defs>\r\n        <path d=\"M 10.59375 35.5 \r\nL 73.1875 35.5 \r\nL 73.1875 27.203125 \r\nL 10.59375 27.203125 \r\nz\r\n\" id=\"DejaVuSans-8722\"/>\r\n        <path d=\"M 31.78125 66.40625 \r\nQ 24.171875 66.40625 20.328125 58.90625 \r\nQ 16.5 51.421875 16.5 36.375 \r\nQ 16.5 21.390625 20.328125 13.890625 \r\nQ 24.171875 6.390625 31.78125 6.390625 \r\nQ 39.453125 6.390625 43.28125 13.890625 \r\nQ 47.125 21.390625 47.125 36.375 \r\nQ 47.125 51.421875 43.28125 58.90625 \r\nQ 39.453125 66.40625 31.78125 66.40625 \r\nz\r\nM 31.78125 74.21875 \r\nQ 44.046875 74.21875 50.515625 64.515625 \r\nQ 56.984375 54.828125 56.984375 36.375 \r\nQ 56.984375 17.96875 50.515625 8.265625 \r\nQ 44.046875 -1.421875 31.78125 -1.421875 \r\nQ 19.53125 -1.421875 13.0625 8.265625 \r\nQ 6.59375 17.96875 6.59375 36.375 \r\nQ 6.59375 54.828125 13.0625 64.515625 \r\nQ 19.53125 74.21875 31.78125 74.21875 \r\nz\r\n\" id=\"DejaVuSans-48\"/>\r\n        <path d=\"M 10.6875 12.40625 \r\nL 21 12.40625 \r\nL 21 0 \r\nL 10.6875 0 \r\nz\r\n\" id=\"DejaVuSans-46\"/>\r\n        <path d=\"M 12.40625 8.296875 \r\nL 28.515625 8.296875 \r\nL 28.515625 63.921875 \r\nL 10.984375 60.40625 \r\nL 10.984375 69.390625 \r\nL 28.421875 72.90625 \r\nL 38.28125 72.90625 \r\nL 38.28125 8.296875 \r\nL 54.390625 8.296875 \r\nL 54.390625 0 \r\nL 12.40625 0 \r\nz\r\n\" id=\"DejaVuSans-49\"/>\r\n        <path d=\"M 10.796875 72.90625 \r\nL 49.515625 72.90625 \r\nL 49.515625 64.59375 \r\nL 19.828125 64.59375 \r\nL 19.828125 46.734375 \r\nQ 21.96875 47.46875 24.109375 47.828125 \r\nQ 26.265625 48.1875 28.421875 48.1875 \r\nQ 40.625 48.1875 47.75 41.5 \r\nQ 54.890625 34.8125 54.890625 23.390625 \r\nQ 54.890625 11.625 47.5625 5.09375 \r\nQ 40.234375 -1.421875 26.90625 -1.421875 \r\nQ 22.3125 -1.421875 17.546875 -0.640625 \r\nQ 12.796875 0.140625 7.71875 1.703125 \r\nL 7.71875 11.625 \r\nQ 12.109375 9.234375 16.796875 8.0625 \r\nQ 21.484375 6.890625 26.703125 6.890625 \r\nQ 35.15625 6.890625 40.078125 11.328125 \r\nQ 45.015625 15.765625 45.015625 23.390625 \r\nQ 45.015625 31 40.078125 35.4375 \r\nQ 35.15625 39.890625 26.703125 39.890625 \r\nQ 22.75 39.890625 18.8125 39.015625 \r\nQ 14.890625 38.140625 10.796875 36.28125 \r\nz\r\n\" id=\"DejaVuSans-53\"/>\r\n       </defs>\r\n       <use xlink:href=\"#DejaVuSans-8722\"/>\r\n       <use x=\"83.789062\" xlink:href=\"#DejaVuSans-48\"/>\r\n       <use x=\"147.412109\" xlink:href=\"#DejaVuSans-46\"/>\r\n       <use x=\"179.199219\" xlink:href=\"#DejaVuSans-48\"/>\r\n       <use x=\"242.822266\" xlink:href=\"#DejaVuSans-49\"/>\r\n       <use x=\"306.445312\" xlink:href=\"#DejaVuSans-53\"/>\r\n      </g>\r\n     </g>\r\n    </g>\r\n    <g id=\"xtick_2\">\r\n     <g id=\"line2d_2\">\r\n      <g>\r\n       <use style=\"stroke:#000000;stroke-width:0.8;\" x=\"115.912866\" xlink:href=\"#m67f1209396\" y=\"224.64\"/>\r\n      </g>\r\n     </g>\r\n     <g id=\"text_2\">\r\n      <!-- −0.010 -->\r\n      <g transform=\"translate(97.40896 239.238437)scale(0.1 -0.1)\">\r\n       <use xlink:href=\"#DejaVuSans-8722\"/>\r\n       <use x=\"83.789062\" xlink:href=\"#DejaVuSans-48\"/>\r\n       <use x=\"147.412109\" xlink:href=\"#DejaVuSans-46\"/>\r\n       <use x=\"179.199219\" xlink:href=\"#DejaVuSans-48\"/>\r\n       <use x=\"242.822266\" xlink:href=\"#DejaVuSans-49\"/>\r\n       <use x=\"306.445312\" xlink:href=\"#DejaVuSans-48\"/>\r\n      </g>\r\n     </g>\r\n    </g>\r\n    <g id=\"xtick_3\">\r\n     <g id=\"line2d_3\">\r\n      <g>\r\n       <use style=\"stroke:#000000;stroke-width:0.8;\" x=\"158.90208\" xlink:href=\"#m67f1209396\" y=\"224.64\"/>\r\n      </g>\r\n     </g>\r\n     <g id=\"text_3\">\r\n      <!-- −0.005 -->\r\n      <g transform=\"translate(140.398174 239.238437)scale(0.1 -0.1)\">\r\n       <use xlink:href=\"#DejaVuSans-8722\"/>\r\n       <use x=\"83.789062\" xlink:href=\"#DejaVuSans-48\"/>\r\n       <use x=\"147.412109\" xlink:href=\"#DejaVuSans-46\"/>\r\n       <use x=\"179.199219\" xlink:href=\"#DejaVuSans-48\"/>\r\n       <use x=\"242.822266\" xlink:href=\"#DejaVuSans-48\"/>\r\n       <use x=\"306.445312\" xlink:href=\"#DejaVuSans-53\"/>\r\n      </g>\r\n     </g>\r\n    </g>\r\n    <g id=\"xtick_4\">\r\n     <g id=\"line2d_4\">\r\n      <g>\r\n       <use style=\"stroke:#000000;stroke-width:0.8;\" x=\"201.891294\" xlink:href=\"#m67f1209396\" y=\"224.64\"/>\r\n      </g>\r\n     </g>\r\n     <g id=\"text_4\">\r\n      <!-- 0.000 -->\r\n      <g transform=\"translate(187.577232 239.238437)scale(0.1 -0.1)\">\r\n       <use xlink:href=\"#DejaVuSans-48\"/>\r\n       <use x=\"63.623047\" xlink:href=\"#DejaVuSans-46\"/>\r\n       <use x=\"95.410156\" xlink:href=\"#DejaVuSans-48\"/>\r\n       <use x=\"159.033203\" xlink:href=\"#DejaVuSans-48\"/>\r\n       <use x=\"222.65625\" xlink:href=\"#DejaVuSans-48\"/>\r\n      </g>\r\n     </g>\r\n    </g>\r\n    <g id=\"xtick_5\">\r\n     <g id=\"line2d_5\">\r\n      <g>\r\n       <use style=\"stroke:#000000;stroke-width:0.8;\" x=\"244.880508\" xlink:href=\"#m67f1209396\" y=\"224.64\"/>\r\n      </g>\r\n     </g>\r\n     <g id=\"text_5\">\r\n      <!-- 0.005 -->\r\n      <g transform=\"translate(230.566446 239.238437)scale(0.1 -0.1)\">\r\n       <use xlink:href=\"#DejaVuSans-48\"/>\r\n       <use x=\"63.623047\" xlink:href=\"#DejaVuSans-46\"/>\r\n       <use x=\"95.410156\" xlink:href=\"#DejaVuSans-48\"/>\r\n       <use x=\"159.033203\" xlink:href=\"#DejaVuSans-48\"/>\r\n       <use x=\"222.65625\" xlink:href=\"#DejaVuSans-53\"/>\r\n      </g>\r\n     </g>\r\n    </g>\r\n    <g id=\"xtick_6\">\r\n     <g id=\"line2d_6\">\r\n      <g>\r\n       <use style=\"stroke:#000000;stroke-width:0.8;\" x=\"287.869723\" xlink:href=\"#m67f1209396\" y=\"224.64\"/>\r\n      </g>\r\n     </g>\r\n     <g id=\"text_6\">\r\n      <!-- 0.010 -->\r\n      <g transform=\"translate(273.55566 239.238437)scale(0.1 -0.1)\">\r\n       <use xlink:href=\"#DejaVuSans-48\"/>\r\n       <use x=\"63.623047\" xlink:href=\"#DejaVuSans-46\"/>\r\n       <use x=\"95.410156\" xlink:href=\"#DejaVuSans-48\"/>\r\n       <use x=\"159.033203\" xlink:href=\"#DejaVuSans-49\"/>\r\n       <use x=\"222.65625\" xlink:href=\"#DejaVuSans-48\"/>\r\n      </g>\r\n     </g>\r\n    </g>\r\n    <g id=\"xtick_7\">\r\n     <g id=\"line2d_7\">\r\n      <g>\r\n       <use style=\"stroke:#000000;stroke-width:0.8;\" x=\"330.858937\" xlink:href=\"#m67f1209396\" y=\"224.64\"/>\r\n      </g>\r\n     </g>\r\n     <g id=\"text_7\">\r\n      <!-- 0.015 -->\r\n      <g transform=\"translate(316.544874 239.238437)scale(0.1 -0.1)\">\r\n       <use xlink:href=\"#DejaVuSans-48\"/>\r\n       <use x=\"63.623047\" xlink:href=\"#DejaVuSans-46\"/>\r\n       <use x=\"95.410156\" xlink:href=\"#DejaVuSans-48\"/>\r\n       <use x=\"159.033203\" xlink:href=\"#DejaVuSans-49\"/>\r\n       <use x=\"222.65625\" xlink:href=\"#DejaVuSans-53\"/>\r\n      </g>\r\n     </g>\r\n    </g>\r\n    <g id=\"xtick_8\">\r\n     <g id=\"line2d_8\">\r\n      <g>\r\n       <use style=\"stroke:#000000;stroke-width:0.8;\" x=\"373.848151\" xlink:href=\"#m67f1209396\" y=\"224.64\"/>\r\n      </g>\r\n     </g>\r\n     <g id=\"text_8\">\r\n      <!-- 0.020 -->\r\n      <g transform=\"translate(359.534089 239.238437)scale(0.1 -0.1)\">\r\n       <defs>\r\n        <path d=\"M 19.1875 8.296875 \r\nL 53.609375 8.296875 \r\nL 53.609375 0 \r\nL 7.328125 0 \r\nL 7.328125 8.296875 \r\nQ 12.9375 14.109375 22.625 23.890625 \r\nQ 32.328125 33.6875 34.8125 36.53125 \r\nQ 39.546875 41.84375 41.421875 45.53125 \r\nQ 43.3125 49.21875 43.3125 52.78125 \r\nQ 43.3125 58.59375 39.234375 62.25 \r\nQ 35.15625 65.921875 28.609375 65.921875 \r\nQ 23.96875 65.921875 18.8125 64.3125 \r\nQ 13.671875 62.703125 7.8125 59.421875 \r\nL 7.8125 69.390625 \r\nQ 13.765625 71.78125 18.9375 73 \r\nQ 24.125 74.21875 28.421875 74.21875 \r\nQ 39.75 74.21875 46.484375 68.546875 \r\nQ 53.21875 62.890625 53.21875 53.421875 \r\nQ 53.21875 48.921875 51.53125 44.890625 \r\nQ 49.859375 40.875 45.40625 35.40625 \r\nQ 44.1875 33.984375 37.640625 27.21875 \r\nQ 31.109375 20.453125 19.1875 8.296875 \r\nz\r\n\" id=\"DejaVuSans-50\"/>\r\n       </defs>\r\n       <use xlink:href=\"#DejaVuSans-48\"/>\r\n       <use x=\"63.623047\" xlink:href=\"#DejaVuSans-46\"/>\r\n       <use x=\"95.410156\" xlink:href=\"#DejaVuSans-48\"/>\r\n       <use x=\"159.033203\" xlink:href=\"#DejaVuSans-50\"/>\r\n       <use x=\"222.65625\" xlink:href=\"#DejaVuSans-48\"/>\r\n      </g>\r\n     </g>\r\n    </g>\r\n   </g>\r\n   <g id=\"matplotlib.axis_2\">\r\n    <g id=\"ytick_1\">\r\n     <g id=\"line2d_9\">\r\n      <defs>\r\n       <path d=\"M 0 0 \r\nL -3.5 0 \r\n\" id=\"m3f79e32246\" style=\"stroke:#000000;stroke-width:0.8;\"/>\r\n      </defs>\r\n      <g>\r\n       <use style=\"stroke:#000000;stroke-width:0.8;\" x=\"39.65\" xlink:href=\"#m3f79e32246\" y=\"224.64\"/>\r\n      </g>\r\n     </g>\r\n     <g id=\"text_9\">\r\n      <!-- 0 -->\r\n      <g transform=\"translate(26.2875 228.439219)scale(0.1 -0.1)\">\r\n       <use xlink:href=\"#DejaVuSans-48\"/>\r\n      </g>\r\n     </g>\r\n    </g>\r\n    <g id=\"ytick_2\">\r\n     <g id=\"line2d_10\">\r\n      <g>\r\n       <use style=\"stroke:#000000;stroke-width:0.8;\" x=\"39.65\" xlink:href=\"#m3f79e32246\" y=\"189.647483\"/>\r\n      </g>\r\n     </g>\r\n     <g id=\"text_10\">\r\n      <!-- 500 -->\r\n      <g transform=\"translate(13.5625 193.446702)scale(0.1 -0.1)\">\r\n       <use xlink:href=\"#DejaVuSans-53\"/>\r\n       <use x=\"63.623047\" xlink:href=\"#DejaVuSans-48\"/>\r\n       <use x=\"127.246094\" xlink:href=\"#DejaVuSans-48\"/>\r\n      </g>\r\n     </g>\r\n    </g>\r\n    <g id=\"ytick_3\">\r\n     <g id=\"line2d_11\">\r\n      <g>\r\n       <use style=\"stroke:#000000;stroke-width:0.8;\" x=\"39.65\" xlink:href=\"#m3f79e32246\" y=\"154.654966\"/>\r\n      </g>\r\n     </g>\r\n     <g id=\"text_11\">\r\n      <!-- 1000 -->\r\n      <g transform=\"translate(7.2 158.454185)scale(0.1 -0.1)\">\r\n       <use xlink:href=\"#DejaVuSans-49\"/>\r\n       <use x=\"63.623047\" xlink:href=\"#DejaVuSans-48\"/>\r\n       <use x=\"127.246094\" xlink:href=\"#DejaVuSans-48\"/>\r\n       <use x=\"190.869141\" xlink:href=\"#DejaVuSans-48\"/>\r\n      </g>\r\n     </g>\r\n    </g>\r\n    <g id=\"ytick_4\">\r\n     <g id=\"line2d_12\">\r\n      <g>\r\n       <use style=\"stroke:#000000;stroke-width:0.8;\" x=\"39.65\" xlink:href=\"#m3f79e32246\" y=\"119.66245\"/>\r\n      </g>\r\n     </g>\r\n     <g id=\"text_12\">\r\n      <!-- 1500 -->\r\n      <g transform=\"translate(7.2 123.461668)scale(0.1 -0.1)\">\r\n       <use xlink:href=\"#DejaVuSans-49\"/>\r\n       <use x=\"63.623047\" xlink:href=\"#DejaVuSans-53\"/>\r\n       <use x=\"127.246094\" xlink:href=\"#DejaVuSans-48\"/>\r\n       <use x=\"190.869141\" xlink:href=\"#DejaVuSans-48\"/>\r\n      </g>\r\n     </g>\r\n    </g>\r\n    <g id=\"ytick_5\">\r\n     <g id=\"line2d_13\">\r\n      <g>\r\n       <use style=\"stroke:#000000;stroke-width:0.8;\" x=\"39.65\" xlink:href=\"#m3f79e32246\" y=\"84.669933\"/>\r\n      </g>\r\n     </g>\r\n     <g id=\"text_13\">\r\n      <!-- 2000 -->\r\n      <g transform=\"translate(7.2 88.469152)scale(0.1 -0.1)\">\r\n       <use xlink:href=\"#DejaVuSans-50\"/>\r\n       <use x=\"63.623047\" xlink:href=\"#DejaVuSans-48\"/>\r\n       <use x=\"127.246094\" xlink:href=\"#DejaVuSans-48\"/>\r\n       <use x=\"190.869141\" xlink:href=\"#DejaVuSans-48\"/>\r\n      </g>\r\n     </g>\r\n    </g>\r\n    <g id=\"ytick_6\">\r\n     <g id=\"line2d_14\">\r\n      <g>\r\n       <use style=\"stroke:#000000;stroke-width:0.8;\" x=\"39.65\" xlink:href=\"#m3f79e32246\" y=\"49.677416\"/>\r\n      </g>\r\n     </g>\r\n     <g id=\"text_14\">\r\n      <!-- 2500 -->\r\n      <g transform=\"translate(7.2 53.476635)scale(0.1 -0.1)\">\r\n       <use xlink:href=\"#DejaVuSans-50\"/>\r\n       <use x=\"63.623047\" xlink:href=\"#DejaVuSans-53\"/>\r\n       <use x=\"127.246094\" xlink:href=\"#DejaVuSans-48\"/>\r\n       <use x=\"190.869141\" xlink:href=\"#DejaVuSans-48\"/>\r\n      </g>\r\n     </g>\r\n    </g>\r\n    <g id=\"ytick_7\">\r\n     <g id=\"line2d_15\">\r\n      <g>\r\n       <use style=\"stroke:#000000;stroke-width:0.8;\" x=\"39.65\" xlink:href=\"#m3f79e32246\" y=\"14.684899\"/>\r\n      </g>\r\n     </g>\r\n     <g id=\"text_15\">\r\n      <!-- 3000 -->\r\n      <g transform=\"translate(7.2 18.484118)scale(0.1 -0.1)\">\r\n       <defs>\r\n        <path d=\"M 40.578125 39.3125 \r\nQ 47.65625 37.796875 51.625 33 \r\nQ 55.609375 28.21875 55.609375 21.1875 \r\nQ 55.609375 10.40625 48.1875 4.484375 \r\nQ 40.765625 -1.421875 27.09375 -1.421875 \r\nQ 22.515625 -1.421875 17.65625 -0.515625 \r\nQ 12.796875 0.390625 7.625 2.203125 \r\nL 7.625 11.71875 \r\nQ 11.71875 9.328125 16.59375 8.109375 \r\nQ 21.484375 6.890625 26.8125 6.890625 \r\nQ 36.078125 6.890625 40.9375 10.546875 \r\nQ 45.796875 14.203125 45.796875 21.1875 \r\nQ 45.796875 27.640625 41.28125 31.265625 \r\nQ 36.765625 34.90625 28.71875 34.90625 \r\nL 20.21875 34.90625 \r\nL 20.21875 43.015625 \r\nL 29.109375 43.015625 \r\nQ 36.375 43.015625 40.234375 45.921875 \r\nQ 44.09375 48.828125 44.09375 54.296875 \r\nQ 44.09375 59.90625 40.109375 62.90625 \r\nQ 36.140625 65.921875 28.71875 65.921875 \r\nQ 24.65625 65.921875 20.015625 65.03125 \r\nQ 15.375 64.15625 9.8125 62.3125 \r\nL 9.8125 71.09375 \r\nQ 15.4375 72.65625 20.34375 73.4375 \r\nQ 25.25 74.21875 29.59375 74.21875 \r\nQ 40.828125 74.21875 47.359375 69.109375 \r\nQ 53.90625 64.015625 53.90625 55.328125 \r\nQ 53.90625 49.265625 50.4375 45.09375 \r\nQ 46.96875 40.921875 40.578125 39.3125 \r\nz\r\n\" id=\"DejaVuSans-51\"/>\r\n       </defs>\r\n       <use xlink:href=\"#DejaVuSans-51\"/>\r\n       <use x=\"63.623047\" xlink:href=\"#DejaVuSans-48\"/>\r\n       <use x=\"127.246094\" xlink:href=\"#DejaVuSans-48\"/>\r\n       <use x=\"190.869141\" xlink:href=\"#DejaVuSans-48\"/>\r\n      </g>\r\n     </g>\r\n    </g>\r\n   </g>\r\n   <g id=\"line2d_16\">\r\n    <path clip-path=\"url(#p6a366ee9e1)\" d=\"M 198.560773 224.64 \r\nL 198.560773 7.2 \r\n\" style=\"fill:none;stroke:#ff0000;stroke-linecap:square;stroke-width:1.5;\"/>\r\n   </g>\r\n   <g id=\"patch_13\">\r\n    <path d=\"M 39.65 224.64 \r\nL 39.65 7.2 \r\n\" style=\"fill:none;stroke:#000000;stroke-linecap:square;stroke-linejoin:miter;stroke-width:0.8;\"/>\r\n   </g>\r\n   <g id=\"patch_14\">\r\n    <path d=\"M 374.45 224.64 \r\nL 374.45 7.2 \r\n\" style=\"fill:none;stroke:#000000;stroke-linecap:square;stroke-linejoin:miter;stroke-width:0.8;\"/>\r\n   </g>\r\n   <g id=\"patch_15\">\r\n    <path d=\"M 39.65 224.64 \r\nL 374.45 224.64 \r\n\" style=\"fill:none;stroke:#000000;stroke-linecap:square;stroke-linejoin:miter;stroke-width:0.8;\"/>\r\n   </g>\r\n   <g id=\"patch_16\">\r\n    <path d=\"M 39.65 7.2 \r\nL 374.45 7.2 \r\n\" style=\"fill:none;stroke:#000000;stroke-linecap:square;stroke-linejoin:miter;stroke-width:0.8;\"/>\r\n   </g>\r\n  </g>\r\n </g>\r\n <defs>\r\n  <clipPath id=\"p6a366ee9e1\">\r\n   <rect height=\"217.44\" width=\"334.8\" x=\"39.65\" y=\"7.2\"/>\r\n  </clipPath>\r\n </defs>\r\n</svg>\r\n",
      "image/png": "[encoded data removed]"
     },
     "metadata": {
      "needs_background": "light"
     }
    }
   ],
   "source": [
    "plt.hist(p_diffs)\n",
    "plt.axvline(x = p_diff, color='r');"
   ]
  },
  {
   "cell_type": "markdown",
   "metadata": {
    "id": "LjIsYvq-aflu"
   },
   "source": [
    "**Answer: Here the plot is as expected, as we see a normal distribution curve. Our observed probability is within the curve, due to the law of large numbers allowing the observed parameter to be closer to the average population mean.**"
   ]
  },
  {
   "cell_type": "markdown",
   "metadata": {
    "id": "3vJTbTt0iPnG"
   },
   "source": [
    "j. What proportion of the **p_diffs** are greater than the actual difference observed in **ab_data.csv**?"
   ]
  },
  {
   "cell_type": "code",
   "execution_count": 49,
   "metadata": {
    "colab": {
     "base_uri": "https://localhost:8080/",
     "height": 34
    },
    "executionInfo": {
     "elapsed": 982,
     "status": "ok",
     "timestamp": 1602844551523,
     "user": {
      "displayName": "John Calaunan",
      "photoUrl": "https://lh4.googleusercontent.com/-jCWfMprfyZg/AAAAAAAAAAI/AAAAAAAALlQ/RH3K6uljsyo/s64/photo.jpg",
      "userId": "11296851702912649604"
     },
     "user_tz": -660
    },
    "id": "90JXIKKJiPnG",
    "outputId": "5f79ddc7-31e0-4720-bd20-fcdbb94b374c"
   },
   "outputs": [
    {
     "output_type": "execute_result",
     "data": {
      "text/plain": [
       "0.5231"
      ]
     },
     "metadata": {},
     "execution_count": 49
    }
   ],
   "source": [
    "# the number of p_diffs that exceed (g) are simply the comparison of the array against the observation, then taking the mean of all the comparisons.\n",
    "pval = (p_diffs > p_diff).mean()\n",
    "pval"
   ]
  },
  {
   "cell_type": "markdown",
   "metadata": {
    "id": "syTG_ZuRiPnI"
   },
   "source": [
    "k. Please explain using the vocabulary you've learned in this course what you just computed in part **j.**  What is this value called in scientific studies?  What does this value mean in terms of whether or not there is a difference between the new and old pages?"
   ]
  },
  {
   "cell_type": "markdown",
   "metadata": {
    "id": "Dn7JigvSiPnJ"
   },
   "source": [
    "**Answer: The p-value is the observed difference in proportions based on the null hypothesis we set earlier in 1). We have calculated the p-value of this sampled distribution, that has been bootstrapped based on the law of large numbers to allow the sampled mean to be close to the populations mean.**\n",
    "\n",
    "**In part J, the calculation only accounts for the portion that exceed the observation i.e. one side of the test.**\n",
    "\n",
    "**All the steps taken to get to (J) are the methods required to achieve this p-value.**\n",
    "\n",
    "**On the histogram above, the red in the middle is where the observed/actual statistic falls in this normal distribution.\n",
    "As there is a 5% type error being accounted for, we can say there is 95% certainty the observed mean is from the null.**\n",
    " **Where `α` is type I error of 5%**\n",
    " \n",
    "`pval ≤ α ⇒ Reject H0`\n",
    "\n",
    "`pval > α ⇒ Fail to Reject H0`\n",
    "\n",
    "**In conclusion, the null hypothesis is likely to be true and we should reject the alternative.**"
   ]
  },
  {
   "cell_type": "markdown",
   "metadata": {
    "id": "K18cbOhXiPnJ"
   },
   "source": [
    "l. We could also use a built-in to achieve similar results.  Though using the built-in might be easier to code, the above portions are a walkthrough of the ideas that are critical to correctly thinking about statistical significance. Fill in the below to calculate the number of conversions for each page, as well as the number of individuals who received each page. Let `n_old` and `n_new` refer the the number of rows associated with the old page and new pages, respectively."
   ]
  },
  {
   "cell_type": "code",
   "execution_count": 50,
   "metadata": {
    "colab": {
     "base_uri": "https://localhost:8080/",
     "height": 111
    },
    "executionInfo": {
     "elapsed": 1004,
     "status": "ok",
     "timestamp": 1602845574506,
     "user": {
      "displayName": "John Calaunan",
      "photoUrl": "https://lh4.googleusercontent.com/-jCWfMprfyZg/AAAAAAAAAAI/AAAAAAAALlQ/RH3K6uljsyo/s64/photo.jpg",
      "userId": "11296851702912649604"
     },
     "user_tz": -660
    },
    "id": "6C846HFGPIms",
    "outputId": "ac6d3066-2cdd-47a0-f2c9-6c95178fffa6"
   },
   "outputs": [
    {
     "output_type": "execute_result",
     "data": {
      "text/plain": [
       "   user_id                   timestamp    group landing_page  converted\n",
       "0   851104  2017-01-21 22:11:48.556739  control     old_page          0\n",
       "1   804228  2017-01-12 08:01:45.159739  control     old_page          0"
      ],
      "text/html": "<div>\n<style scoped>\n    .dataframe tbody tr th:only-of-type {\n        vertical-align: middle;\n    }\n\n    .dataframe tbody tr th {\n        vertical-align: top;\n    }\n\n    .dataframe thead th {\n        text-align: right;\n    }\n</style>\n<table border=\"1\" class=\"dataframe\">\n  <thead>\n    <tr style=\"text-align: right;\">\n      <th></th>\n      <th>user_id</th>\n      <th>timestamp</th>\n      <th>group</th>\n      <th>landing_page</th>\n      <th>converted</th>\n    </tr>\n  </thead>\n  <tbody>\n    <tr>\n      <th>0</th>\n      <td>851104</td>\n      <td>2017-01-21 22:11:48.556739</td>\n      <td>control</td>\n      <td>old_page</td>\n      <td>0</td>\n    </tr>\n    <tr>\n      <th>1</th>\n      <td>804228</td>\n      <td>2017-01-12 08:01:45.159739</td>\n      <td>control</td>\n      <td>old_page</td>\n      <td>0</td>\n    </tr>\n  </tbody>\n</table>\n</div>"
     },
     "metadata": {},
     "execution_count": 50
    }
   ],
   "source": [
    "df2.head(2)"
   ]
  },
  {
   "cell_type": "code",
   "execution_count": 51,
   "metadata": {
    "colab": {
     "base_uri": "https://localhost:8080/",
     "height": 34
    },
    "executionInfo": {
     "elapsed": 1063,
     "status": "ok",
     "timestamp": 1602845575503,
     "user": {
      "displayName": "John Calaunan",
      "photoUrl": "https://lh4.googleusercontent.com/-jCWfMprfyZg/AAAAAAAAAAI/AAAAAAAALlQ/RH3K6uljsyo/s64/photo.jpg",
      "userId": "11296851702912649604"
     },
     "user_tz": -660
    },
    "id": "B8oaSvyDj3M9",
    "outputId": "6c0eca8e-4be7-4b86-8412-097e22263d51"
   },
   "outputs": [
    {
     "output_type": "execute_result",
     "data": {
      "text/plain": [
       "145274"
      ]
     },
     "metadata": {},
     "execution_count": 51
    }
   ],
   "source": [
    "# number of ppl using the old page\n",
    "oldpage_df = df2[df2.landing_page == 'old_page']\n",
    "oldpage_df.shape[0]\n",
    "\n",
    "## newpage_df is from above.\n",
    "# newpage_df = df2[df2.landing_page == 'new_page']\n",
    "# newpage_df.shape[0]"
   ]
  },
  {
   "cell_type": "code",
   "execution_count": 52,
   "metadata": {
    "colab": {
     "base_uri": "https://localhost:8080/",
     "height": 34
    },
    "executionInfo": {
     "elapsed": 571,
     "status": "ok",
     "timestamp": 1602845577094,
     "user": {
      "displayName": "John Calaunan",
      "photoUrl": "https://lh4.googleusercontent.com/-jCWfMprfyZg/AAAAAAAAAAI/AAAAAAAALlQ/RH3K6uljsyo/s64/photo.jpg",
      "userId": "11296851702912649604"
     },
     "user_tz": -660
    },
    "id": "1YoHTcI_iPnK",
    "outputId": "104a73fd-74cd-4e15-b6be-30d579439cd2"
   },
   "outputs": [
    {
     "output_type": "execute_result",
     "data": {
      "text/plain": [
       "(17489, 17264, 145274, 145310)"
      ]
     },
     "metadata": {},
     "execution_count": 52
    }
   ],
   "source": [
    "#load libraries for the ztest\n",
    "import statsmodels.api as sm\n",
    "import pandas.util.testing as tm\n",
    "\n",
    "# old & new page that are converted\n",
    "convert_old = oldpage_df.query('converted==1').shape[0]\n",
    "convert_new = newpage_df.query('converted==1').shape[0]\n",
    "\n",
    "# number of old and new pages regardless of conversion\n",
    "n_old = oldpage_df.shape[0]\n",
    "n_new = newpage_df.shape[0]\n",
    "\n",
    "convert_old, convert_new, n_old, n_new"
   ]
  },
  {
   "cell_type": "markdown",
   "metadata": {
    "id": "r3E8LBYkiPnM"
   },
   "source": [
    "m. Now use `stats.proportions_ztest` to compute your test statistic and p-value.  [Here](https://docs.w3cub.com/statsmodels/generated/statsmodels.stats.proportion.proportions_ztest/) is a helpful link on using the built in."
   ]
  },
  {
   "cell_type": "code",
   "execution_count": 53,
   "metadata": {
    "id": "TMJyWyNTiPnM"
   },
   "outputs": [
    {
     "output_type": "execute_result",
     "data": {
      "text/plain": [
       "(1.3109241984234394, 0.9050583127590245)"
      ]
     },
     "metadata": {},
     "execution_count": 53
    }
   ],
   "source": [
    "count = [convert_old, convert_new]\n",
    "nobs = [n_old, n_new]\n",
    "# value is 0, as p_new = p_old = 0 assuming they are equal under the null i.e. p_new-p_old = 0\n",
    "# sequencing old first before new, results in alternative being set to smaller i.e. old < new\n",
    "z_test , p_value = sm.stats.proportions_ztest(count, nobs, alternative='smaller')\n",
    "z_test , p_value"
   ]
  },
  {
   "cell_type": "markdown",
   "metadata": {
    "id": "thHY0bHKiPnO"
   },
   "source": [
    "n. What do the z-score and p-value you computed in the previous question mean for the conversion rates of the old and new pages?  Do they agree with the findings in parts **j.** and **k.**?"
   ]
  },
  {
   "cell_type": "markdown",
   "metadata": {
    "id": "ChuB3zfTiPnP"
   },
   "source": [
    "**Answer: Z-score is a metric used to determine how far the interpreted value is from the middle of the distribution. A lower z-score indicates how close the result is to mean of the sampled population. This means, that with a positive z_test, it is approximately 'z_test' values away from the middle of the distribution.**\n",
    "\n",
    "**The p-values obtained in m) is the result from a one-tailed test as described by stats model documentation using the same number of individuals on the new and old page. The p-value obtained in m) differs in value to j), however the concept remains the same.**\n",
    "\n",
    "**To reiterate, the p-value of m) is greater than the alpha, i.e. type I error of 5% thus the results are statistically significant and in favour of the null hypothesis whereby the probability of individuals receiving the new page is just as likely they will receive the old page. Practically this means that there is no benefit in implementing a new page as the old page is just an successful.**"
   ]
  },
  {
   "cell_type": "markdown",
   "metadata": {
    "id": "RfFXp-LsiPnS"
   },
   "source": [
    "<a id='regression'></a>\n",
    "### Part III - A regression approach\n",
    "\n",
    "`1.` In this final part, you will see that the result you achieved in the A/B test in Part II above can also be achieved by performing regression.<br><br> \n",
    "\n",
    "a. Since each row is either a conversion or no conversion, what type of regression should you be performing in this case?"
   ]
  },
  {
   "cell_type": "markdown",
   "metadata": {
    "id": "SdsjlgsLiPnT"
   },
   "source": [
    "**This is a categorical metric so the regression we would use is Logistic regression to compare whether converted is successful or not.**"
   ]
  },
  {
   "cell_type": "markdown",
   "metadata": {
    "id": "qnLd6o8JiPnT"
   },
   "source": [
    "b. The goal is to use **statsmodels** to fit the regression model you specified in part **a.** to see if there is a significant difference in conversion based on which page a customer receives. However, you first need to create in df2 a column for the intercept, and create a dummy variable column for which page each user received.  Add an **intercept** column, as well as an **ab_page** column, which is 1 when an individual receives the **treatment** and 0 if **control**."
   ]
  },
  {
   "cell_type": "code",
   "execution_count": 54,
   "metadata": {
    "colab": {
     "base_uri": "https://localhost:8080/",
     "height": 204
    },
    "executionInfo": {
     "elapsed": 65179,
     "status": "ok",
     "timestamp": 1602834753854,
     "user": {
      "displayName": "John Calaunan",
      "photoUrl": "https://lh4.googleusercontent.com/-jCWfMprfyZg/AAAAAAAAAAI/AAAAAAAALlQ/RH3K6uljsyo/s64/photo.jpg",
      "userId": "11296851702912649604"
     },
     "user_tz": -660
    },
    "id": "2HvpPxwAiPnT",
    "outputId": "efa64670-1402-45b4-8e72-e8296df16de1"
   },
   "outputs": [
    {
     "output_type": "execute_result",
     "data": {
      "text/plain": [
       "   user_id                   timestamp      group landing_page  converted  \\\n",
       "0   851104  2017-01-21 22:11:48.556739    control     old_page          0   \n",
       "1   804228  2017-01-12 08:01:45.159739    control     old_page          0   \n",
       "2   661590  2017-01-11 16:55:06.154213  treatment     new_page          0   \n",
       "3   853541  2017-01-08 18:28:03.143765  treatment     new_page          0   \n",
       "4   864975  2017-01-21 01:52:26.210827    control     old_page          1   \n",
       "\n",
       "   intercept  ab_page  \n",
       "0          1        0  \n",
       "1          1        0  \n",
       "2          1        1  \n",
       "3          1        1  \n",
       "4          1        0  "
      ],
      "text/html": "<div>\n<style scoped>\n    .dataframe tbody tr th:only-of-type {\n        vertical-align: middle;\n    }\n\n    .dataframe tbody tr th {\n        vertical-align: top;\n    }\n\n    .dataframe thead th {\n        text-align: right;\n    }\n</style>\n<table border=\"1\" class=\"dataframe\">\n  <thead>\n    <tr style=\"text-align: right;\">\n      <th></th>\n      <th>user_id</th>\n      <th>timestamp</th>\n      <th>group</th>\n      <th>landing_page</th>\n      <th>converted</th>\n      <th>intercept</th>\n      <th>ab_page</th>\n    </tr>\n  </thead>\n  <tbody>\n    <tr>\n      <th>0</th>\n      <td>851104</td>\n      <td>2017-01-21 22:11:48.556739</td>\n      <td>control</td>\n      <td>old_page</td>\n      <td>0</td>\n      <td>1</td>\n      <td>0</td>\n    </tr>\n    <tr>\n      <th>1</th>\n      <td>804228</td>\n      <td>2017-01-12 08:01:45.159739</td>\n      <td>control</td>\n      <td>old_page</td>\n      <td>0</td>\n      <td>1</td>\n      <td>0</td>\n    </tr>\n    <tr>\n      <th>2</th>\n      <td>661590</td>\n      <td>2017-01-11 16:55:06.154213</td>\n      <td>treatment</td>\n      <td>new_page</td>\n      <td>0</td>\n      <td>1</td>\n      <td>1</td>\n    </tr>\n    <tr>\n      <th>3</th>\n      <td>853541</td>\n      <td>2017-01-08 18:28:03.143765</td>\n      <td>treatment</td>\n      <td>new_page</td>\n      <td>0</td>\n      <td>1</td>\n      <td>1</td>\n    </tr>\n    <tr>\n      <th>4</th>\n      <td>864975</td>\n      <td>2017-01-21 01:52:26.210827</td>\n      <td>control</td>\n      <td>old_page</td>\n      <td>1</td>\n      <td>1</td>\n      <td>0</td>\n    </tr>\n  </tbody>\n</table>\n</div>"
     },
     "metadata": {},
     "execution_count": 54
    }
   ],
   "source": [
    "# add intercept\n",
    "df2['intercept'] = 1\n",
    "\n",
    "# create two new columns, calling a single column does not work\n",
    "df2[['ab_page','drop_page']] = pd.get_dummies(df2['landing_page'])\n",
    "\n",
    "# drop the baseline\n",
    "df2 = df2.drop('drop_page', axis = 1)\n",
    "\n",
    "# review\n",
    "df2.head()"
   ]
  },
  {
   "cell_type": "markdown",
   "metadata": {
    "id": "oVWuV273iPnX"
   },
   "source": [
    "c. Use **statsmodels** to instantiate your regression model on the two columns you created in part b., then fit the model using the two columns you created in part **b.** to predict whether or not an individual converts. "
   ]
  },
  {
   "cell_type": "code",
   "execution_count": 55,
   "metadata": {
    "colab": {
     "base_uri": "https://localhost:8080/",
     "height": 68
    },
    "executionInfo": {
     "elapsed": 1409,
     "status": "ok",
     "timestamp": 1602847047071,
     "user": {
      "displayName": "John Calaunan",
      "photoUrl": "https://lh4.googleusercontent.com/-jCWfMprfyZg/AAAAAAAAAAI/AAAAAAAALlQ/RH3K6uljsyo/s64/photo.jpg",
      "userId": "11296851702912649604"
     },
     "user_tz": -660
    },
    "id": "I8gl7jlliPnY",
    "outputId": "bf631ef9-b786-4ad4-9501-7ac0e9b51118"
   },
   "outputs": [
    {
     "output_type": "stream",
     "name": "stdout",
     "text": [
      "Optimization terminated successfully.\n         Current function value: 0.366118\n         Iterations 6\n"
     ]
    }
   ],
   "source": [
    "# dependent variable is converted, as it is what we are trying to predict\n",
    "logit_mod = sm.Logit(df2['converted'], df2[['intercept', 'ab_page']])\n",
    "results = logit_mod.fit()"
   ]
  },
  {
   "cell_type": "markdown",
   "metadata": {
    "id": "N_RliH8GiPnZ"
   },
   "source": [
    "d. Provide the summary of your model below, and use it as necessary to answer the following questions."
   ]
  },
  {
   "cell_type": "code",
   "execution_count": 56,
   "metadata": {
    "colab": {
     "base_uri": "https://localhost:8080/",
     "height": 248
    },
    "executionInfo": {
     "elapsed": 3056,
     "status": "ok",
     "timestamp": 1602847050986,
     "user": {
      "displayName": "John Calaunan",
      "photoUrl": "https://lh4.googleusercontent.com/-jCWfMprfyZg/AAAAAAAAAAI/AAAAAAAALlQ/RH3K6uljsyo/s64/photo.jpg",
      "userId": "11296851702912649604"
     },
     "user_tz": -660
    },
    "id": "gP3on3WjiPnZ",
    "outputId": "c0f60d15-b5c9-4b48-c251-f748be3ddf24"
   },
   "outputs": [
    {
     "output_type": "execute_result",
     "data": {
      "text/plain": [
       "<class 'statsmodels.iolib.summary.Summary'>\n",
       "\"\"\"\n",
       "                           Logit Regression Results                           \n",
       "==============================================================================\n",
       "Dep. Variable:              converted   No. Observations:               290584\n",
       "Model:                          Logit   Df Residuals:                   290582\n",
       "Method:                           MLE   Df Model:                            1\n",
       "Date:                Sat, 17 Oct 2020   Pseudo R-squ.:               8.077e-06\n",
       "Time:                        20:03:15   Log-Likelihood:            -1.0639e+05\n",
       "converged:                       True   LL-Null:                   -1.0639e+05\n",
       "Covariance Type:            nonrobust   LLR p-value:                    0.1899\n",
       "==============================================================================\n",
       "                 coef    std err          z      P>|z|      [0.025      0.975]\n",
       "------------------------------------------------------------------------------\n",
       "intercept     -1.9888      0.008   -246.669      0.000      -2.005      -1.973\n",
       "ab_page       -0.0150      0.011     -1.311      0.190      -0.037       0.007\n",
       "==============================================================================\n",
       "\"\"\""
      ],
      "text/html": "<table class=\"simpletable\">\n<caption>Logit Regression Results</caption>\n<tr>\n  <th>Dep. Variable:</th>       <td>converted</td>    <th>  No. Observations:  </th>   <td>290584</td>   \n</tr>\n<tr>\n  <th>Model:</th>                 <td>Logit</td>      <th>  Df Residuals:      </th>   <td>290582</td>   \n</tr>\n<tr>\n  <th>Method:</th>                 <td>MLE</td>       <th>  Df Model:          </th>   <td>     1</td>   \n</tr>\n<tr>\n  <th>Date:</th>            <td>Sat, 17 Oct 2020</td> <th>  Pseudo R-squ.:     </th>  <td>8.077e-06</td> \n</tr>\n<tr>\n  <th>Time:</th>                <td>20:03:15</td>     <th>  Log-Likelihood:    </th> <td>-1.0639e+05</td>\n</tr>\n<tr>\n  <th>converged:</th>             <td>True</td>       <th>  LL-Null:           </th> <td>-1.0639e+05</td>\n</tr>\n<tr>\n  <th>Covariance Type:</th>     <td>nonrobust</td>    <th>  LLR p-value:       </th>   <td>0.1899</td>   \n</tr>\n</table>\n<table class=\"simpletable\">\n<tr>\n      <td></td>         <th>coef</th>     <th>std err</th>      <th>z</th>      <th>P>|z|</th>  <th>[0.025</th>    <th>0.975]</th>  \n</tr>\n<tr>\n  <th>intercept</th> <td>   -1.9888</td> <td>    0.008</td> <td> -246.669</td> <td> 0.000</td> <td>   -2.005</td> <td>   -1.973</td>\n</tr>\n<tr>\n  <th>ab_page</th>   <td>   -0.0150</td> <td>    0.011</td> <td>   -1.311</td> <td> 0.190</td> <td>   -0.037</td> <td>    0.007</td>\n</tr>\n</table>"
     },
     "metadata": {},
     "execution_count": 56
    }
   ],
   "source": [
    "results.summary()"
   ]
  },
  {
   "cell_type": "code",
   "execution_count": 57,
   "metadata": {
    "colab": {
     "base_uri": "https://localhost:8080/",
     "height": 34
    },
    "executionInfo": {
     "elapsed": 1108,
     "status": "ok",
     "timestamp": 1602847279967,
     "user": {
      "displayName": "John Calaunan",
      "photoUrl": "https://lh4.googleusercontent.com/-jCWfMprfyZg/AAAAAAAAAAI/AAAAAAAALlQ/RH3K6uljsyo/s64/photo.jpg",
      "userId": "11296851702912649604"
     },
     "user_tz": -660
    },
    "id": "0uKM5IipImvH",
    "outputId": "d479faf5-dad5-4410-8be4-827fc88c2fc2"
   },
   "outputs": [
    {
     "output_type": "execute_result",
     "data": {
      "text/plain": [
       "(0.13685955841614492, 0.9851119396030626)"
      ]
     },
     "metadata": {},
     "execution_count": 57
    }
   ],
   "source": [
    "np.exp(-1.9888), np.exp(-0.0150)"
   ]
  },
  {
   "cell_type": "markdown",
   "metadata": {
    "id": "yIl9XwJbiPnd"
   },
   "source": [
    "e. What is the p-value associated with **ab_page**? Why does it differ from the value you found in **Part II**?<br><br>  **Hint**: What are the null and alternative hypotheses associated with your regression model, and how do they compare to the null and alternative hypotheses in **Part II**?"
   ]
  },
  {
   "source": [
    "**Answer: The hypothesis in Part II is Pold <= Pold, the alternative being that they don't equal to each other Pnew > Pold. The statistical results yield a p-value that is compared against the alpha, that determines which hypothesis is statistically significant.**\n",
    "\n",
    "**The null and alternative hypothesis in the logistic regression, reveals a p-value of 0.19 with a negative z, which Part II did not achieve. The negative negative z indicates that the regression model was that of a two-tailed where both the positive and negative portions of the normal distribution are considered. According to Lake Tahoe, converting from a two tailed value is a matter of deducting by 1 and halving to achieve the equipment one tailed test, provided the resultant is less than 0.5. This equates to **\n"
   ],
   "cell_type": "markdown",
   "metadata": {
    "id": "-2QMkDPLiPnd"
   }
  },
  {
   "cell_type": "markdown",
   "metadata": {
    "id": "tf6dIMOJiPnd"
   },
   "source": [
    "f. Now, you are considering other things that might influence whether or not an individual converts.  Discuss why it is a good idea to consider other factors to add into your regression model.  Are there any disadvantages to adding additional terms into your regression model?"
   ]
  },
  {
   "cell_type": "markdown",
   "metadata": {
    "id": "QQG9mXtIiPne"
   },
   "source": [
    "**Answer: \n",
    "Adding additional independent variables to the model adds an increased level of complexity to the interpretation of the dependent i.e. those who are converted.**\n",
    "\n",
    "\n",
    "**However in doing so, it allows for better prediction of the results and an overview of each variables contribution to the dependents output, provided all other independents remain constant.**\n",
    "\n",
    "\n",
    "**The major consideration when adding additional variables to the model is dependent upon the context of the test and what is trying to be achieved by building a model. Such as finding the correct independents that are highly relevant to the outcome context of the test.**"
   ]
  },
  {
   "cell_type": "markdown",
   "metadata": {
    "id": "-r61G2hxiPne"
   },
   "source": [
    "g. Now along with testing if the conversion rate changes for different pages, also add an effect based on which country a user lives in. You will need to read in the **countries.csv** dataset and merge together your datasets on the appropriate rows.  [Here](https://pandas.pydata.org/pandas-docs/stable/generated/pandas.DataFrame.join.html) are the docs for joining tables. \n",
    "\n",
    "Does it appear that country had an impact on conversion?  Don't forget to create dummy variables for these country columns - **Hint: You will need two columns for the three dummy variables.** Provide the statistical output as well as a written response to answer this question."
   ]
  },
  {
   "cell_type": "code",
   "execution_count": 58,
   "metadata": {
    "id": "6KRzn6PiiPne"
   },
   "outputs": [
    {
     "output_type": "execute_result",
     "data": {
      "text/plain": [
       "   user_id country\n",
       "0   834778      UK\n",
       "1   928468      US\n",
       "2   822059      UK\n",
       "3   711597      UK\n",
       "4   710616      UK"
      ],
      "text/html": "<div>\n<style scoped>\n    .dataframe tbody tr th:only-of-type {\n        vertical-align: middle;\n    }\n\n    .dataframe tbody tr th {\n        vertical-align: top;\n    }\n\n    .dataframe thead th {\n        text-align: right;\n    }\n</style>\n<table border=\"1\" class=\"dataframe\">\n  <thead>\n    <tr style=\"text-align: right;\">\n      <th></th>\n      <th>user_id</th>\n      <th>country</th>\n    </tr>\n  </thead>\n  <tbody>\n    <tr>\n      <th>0</th>\n      <td>834778</td>\n      <td>UK</td>\n    </tr>\n    <tr>\n      <th>1</th>\n      <td>928468</td>\n      <td>US</td>\n    </tr>\n    <tr>\n      <th>2</th>\n      <td>822059</td>\n      <td>UK</td>\n    </tr>\n    <tr>\n      <th>3</th>\n      <td>711597</td>\n      <td>UK</td>\n    </tr>\n    <tr>\n      <th>4</th>\n      <td>710616</td>\n      <td>UK</td>\n    </tr>\n  </tbody>\n</table>\n</div>"
     },
     "metadata": {},
     "execution_count": 58
    }
   ],
   "source": [
    "# read country csv\n",
    "country_df = pd.read_csv('countries.csv')\n",
    "country_df.head()"
   ]
  },
  {
   "cell_type": "code",
   "execution_count": 59,
   "metadata": {},
   "outputs": [
    {
     "output_type": "stream",
     "name": "stdout",
     "text": [
      "<class 'pandas.core.frame.DataFrame'>\nRangeIndex: 290584 entries, 0 to 290583\nData columns (total 2 columns):\n #   Column   Non-Null Count   Dtype \n---  ------   --------------   ----- \n 0   user_id  290584 non-null  int64 \n 1   country  290584 non-null  object\ndtypes: int64(1), object(1)\nmemory usage: 4.4+ MB\n<class 'pandas.core.frame.DataFrame'>\nInt64Index: 290584 entries, 0 to 294477\nData columns (total 7 columns):\n #   Column        Non-Null Count   Dtype \n---  ------        --------------   ----- \n 0   user_id       290584 non-null  int64 \n 1   timestamp     290584 non-null  object\n 2   group         290584 non-null  object\n 3   landing_page  290584 non-null  object\n 4   converted     290584 non-null  int64 \n 5   intercept     290584 non-null  int64 \n 6   ab_page       290584 non-null  uint8 \ndtypes: int64(3), object(3), uint8(1)\nmemory usage: 15.8+ MB\n"
     ]
    },
    {
     "output_type": "execute_result",
     "data": {
      "text/plain": [
       "(None, None)"
      ]
     },
     "metadata": {},
     "execution_count": 59
    }
   ],
   "source": [
    "# review how many rows prior to merge\n",
    "country_df.info(), df2.info()"
   ]
  },
  {
   "cell_type": "code",
   "execution_count": 60,
   "metadata": {},
   "outputs": [
    {
     "output_type": "execute_result",
     "data": {
      "text/plain": [
       "   user_id                   timestamp      group landing_page  converted  \\\n",
       "0   851104  2017-01-21 22:11:48.556739    control     old_page          0   \n",
       "1   804228  2017-01-12 08:01:45.159739    control     old_page          0   \n",
       "2   661590  2017-01-11 16:55:06.154213  treatment     new_page          0   \n",
       "3   853541  2017-01-08 18:28:03.143765  treatment     new_page          0   \n",
       "4   864975  2017-01-21 01:52:26.210827    control     old_page          1   \n",
       "\n",
       "   intercept  ab_page country  \n",
       "0          1        0      US  \n",
       "1          1        0      US  \n",
       "2          1        1      US  \n",
       "3          1        1      US  \n",
       "4          1        0      US  "
      ],
      "text/html": "<div>\n<style scoped>\n    .dataframe tbody tr th:only-of-type {\n        vertical-align: middle;\n    }\n\n    .dataframe tbody tr th {\n        vertical-align: top;\n    }\n\n    .dataframe thead th {\n        text-align: right;\n    }\n</style>\n<table border=\"1\" class=\"dataframe\">\n  <thead>\n    <tr style=\"text-align: right;\">\n      <th></th>\n      <th>user_id</th>\n      <th>timestamp</th>\n      <th>group</th>\n      <th>landing_page</th>\n      <th>converted</th>\n      <th>intercept</th>\n      <th>ab_page</th>\n      <th>country</th>\n    </tr>\n  </thead>\n  <tbody>\n    <tr>\n      <th>0</th>\n      <td>851104</td>\n      <td>2017-01-21 22:11:48.556739</td>\n      <td>control</td>\n      <td>old_page</td>\n      <td>0</td>\n      <td>1</td>\n      <td>0</td>\n      <td>US</td>\n    </tr>\n    <tr>\n      <th>1</th>\n      <td>804228</td>\n      <td>2017-01-12 08:01:45.159739</td>\n      <td>control</td>\n      <td>old_page</td>\n      <td>0</td>\n      <td>1</td>\n      <td>0</td>\n      <td>US</td>\n    </tr>\n    <tr>\n      <th>2</th>\n      <td>661590</td>\n      <td>2017-01-11 16:55:06.154213</td>\n      <td>treatment</td>\n      <td>new_page</td>\n      <td>0</td>\n      <td>1</td>\n      <td>1</td>\n      <td>US</td>\n    </tr>\n    <tr>\n      <th>3</th>\n      <td>853541</td>\n      <td>2017-01-08 18:28:03.143765</td>\n      <td>treatment</td>\n      <td>new_page</td>\n      <td>0</td>\n      <td>1</td>\n      <td>1</td>\n      <td>US</td>\n    </tr>\n    <tr>\n      <th>4</th>\n      <td>864975</td>\n      <td>2017-01-21 01:52:26.210827</td>\n      <td>control</td>\n      <td>old_page</td>\n      <td>1</td>\n      <td>1</td>\n      <td>0</td>\n      <td>US</td>\n    </tr>\n  </tbody>\n</table>\n</div>"
     },
     "metadata": {},
     "execution_count": 60
    }
   ],
   "source": [
    "# backup original\n",
    "df3 = df2\n",
    "# left join df2 on country_df based on all of the left df and only those matching in the country_df based on user_id\n",
    "df3 = df3.merge(country_df, how='left', left_on='user_id', right_on='user_id', suffixes=('_df2','_country'))\n",
    "df3.head()"
   ]
  },
  {
   "cell_type": "code",
   "execution_count": 61,
   "metadata": {},
   "outputs": [
    {
     "output_type": "execute_result",
     "data": {
      "text/plain": [
       "3"
      ]
     },
     "metadata": {},
     "execution_count": 61
    }
   ],
   "source": [
    "# review number of unique countries\n",
    "df3.country.nunique()"
   ]
  },
  {
   "cell_type": "code",
   "execution_count": 62,
   "metadata": {},
   "outputs": [
    {
     "output_type": "execute_result",
     "data": {
      "text/plain": [
       "              user_id  converted  intercept   ab_page\n",
       "country                                              \n",
       "CA        11434495284       1672      14499    7301.0\n",
       "UK        57079935417       8739      72466   36106.0\n",
       "US       160467178251      24342     203619  101903.0"
      ],
      "text/html": "<div>\n<style scoped>\n    .dataframe tbody tr th:only-of-type {\n        vertical-align: middle;\n    }\n\n    .dataframe tbody tr th {\n        vertical-align: top;\n    }\n\n    .dataframe thead th {\n        text-align: right;\n    }\n</style>\n<table border=\"1\" class=\"dataframe\">\n  <thead>\n    <tr style=\"text-align: right;\">\n      <th></th>\n      <th>user_id</th>\n      <th>converted</th>\n      <th>intercept</th>\n      <th>ab_page</th>\n    </tr>\n    <tr>\n      <th>country</th>\n      <th></th>\n      <th></th>\n      <th></th>\n      <th></th>\n    </tr>\n  </thead>\n  <tbody>\n    <tr>\n      <th>CA</th>\n      <td>11434495284</td>\n      <td>1672</td>\n      <td>14499</td>\n      <td>7301.0</td>\n    </tr>\n    <tr>\n      <th>UK</th>\n      <td>57079935417</td>\n      <td>8739</td>\n      <td>72466</td>\n      <td>36106.0</td>\n    </tr>\n    <tr>\n      <th>US</th>\n      <td>160467178251</td>\n      <td>24342</td>\n      <td>203619</td>\n      <td>101903.0</td>\n    </tr>\n  </tbody>\n</table>\n</div>"
     },
     "metadata": {},
     "execution_count": 62
    }
   ],
   "source": [
    "# reveal what they are, and the current distribution against converted (0,1) and ab_page(0,1)\n",
    "df3.groupby('country').sum()"
   ]
  },
  {
   "cell_type": "code",
   "execution_count": 63,
   "metadata": {},
   "outputs": [],
   "source": [
    "# create two new columns, calling a single column does not work\n",
    "df3[['CA','UK','drop_US']] = pd.get_dummies(df3['country'])\n",
    "\n",
    "# drop the baseline\n",
    "df3 = df3.drop('drop_US', axis = 1)"
   ]
  },
  {
   "cell_type": "code",
   "execution_count": 64,
   "metadata": {},
   "outputs": [
    {
     "output_type": "execute_result",
     "data": {
      "text/plain": [
       "   user_id                   timestamp      group landing_page  converted  \\\n",
       "0   851104  2017-01-21 22:11:48.556739    control     old_page          0   \n",
       "1   804228  2017-01-12 08:01:45.159739    control     old_page          0   \n",
       "2   661590  2017-01-11 16:55:06.154213  treatment     new_page          0   \n",
       "3   853541  2017-01-08 18:28:03.143765  treatment     new_page          0   \n",
       "4   864975  2017-01-21 01:52:26.210827    control     old_page          1   \n",
       "\n",
       "   intercept  ab_page country  CA  UK  \n",
       "0          1        0      US   0   0  \n",
       "1          1        0      US   0   0  \n",
       "2          1        1      US   0   0  \n",
       "3          1        1      US   0   0  \n",
       "4          1        0      US   0   0  "
      ],
      "text/html": "<div>\n<style scoped>\n    .dataframe tbody tr th:only-of-type {\n        vertical-align: middle;\n    }\n\n    .dataframe tbody tr th {\n        vertical-align: top;\n    }\n\n    .dataframe thead th {\n        text-align: right;\n    }\n</style>\n<table border=\"1\" class=\"dataframe\">\n  <thead>\n    <tr style=\"text-align: right;\">\n      <th></th>\n      <th>user_id</th>\n      <th>timestamp</th>\n      <th>group</th>\n      <th>landing_page</th>\n      <th>converted</th>\n      <th>intercept</th>\n      <th>ab_page</th>\n      <th>country</th>\n      <th>CA</th>\n      <th>UK</th>\n    </tr>\n  </thead>\n  <tbody>\n    <tr>\n      <th>0</th>\n      <td>851104</td>\n      <td>2017-01-21 22:11:48.556739</td>\n      <td>control</td>\n      <td>old_page</td>\n      <td>0</td>\n      <td>1</td>\n      <td>0</td>\n      <td>US</td>\n      <td>0</td>\n      <td>0</td>\n    </tr>\n    <tr>\n      <th>1</th>\n      <td>804228</td>\n      <td>2017-01-12 08:01:45.159739</td>\n      <td>control</td>\n      <td>old_page</td>\n      <td>0</td>\n      <td>1</td>\n      <td>0</td>\n      <td>US</td>\n      <td>0</td>\n      <td>0</td>\n    </tr>\n    <tr>\n      <th>2</th>\n      <td>661590</td>\n      <td>2017-01-11 16:55:06.154213</td>\n      <td>treatment</td>\n      <td>new_page</td>\n      <td>0</td>\n      <td>1</td>\n      <td>1</td>\n      <td>US</td>\n      <td>0</td>\n      <td>0</td>\n    </tr>\n    <tr>\n      <th>3</th>\n      <td>853541</td>\n      <td>2017-01-08 18:28:03.143765</td>\n      <td>treatment</td>\n      <td>new_page</td>\n      <td>0</td>\n      <td>1</td>\n      <td>1</td>\n      <td>US</td>\n      <td>0</td>\n      <td>0</td>\n    </tr>\n    <tr>\n      <th>4</th>\n      <td>864975</td>\n      <td>2017-01-21 01:52:26.210827</td>\n      <td>control</td>\n      <td>old_page</td>\n      <td>1</td>\n      <td>1</td>\n      <td>0</td>\n      <td>US</td>\n      <td>0</td>\n      <td>0</td>\n    </tr>\n  </tbody>\n</table>\n</div>"
     },
     "metadata": {},
     "execution_count": 64
    }
   ],
   "source": [
    "df3.head()"
   ]
  },
  {
   "cell_type": "code",
   "execution_count": 65,
   "metadata": {},
   "outputs": [
    {
     "output_type": "stream",
     "name": "stdout",
     "text": [
      "Optimization terminated successfully.\n         Current function value: 0.366116\n         Iterations 6\n"
     ]
    }
   ],
   "source": [
    "# dependent variable is converted, as it is what we are trying to predict\n",
    "logit_mod2 = sm.Logit(df3['converted'], df3[['intercept', 'CA', 'UK']])\n",
    "results2 = logit_mod2.fit()"
   ]
  },
  {
   "cell_type": "code",
   "execution_count": 66,
   "metadata": {
    "scrolled": true
   },
   "outputs": [
    {
     "output_type": "execute_result",
     "data": {
      "text/plain": [
       "<class 'statsmodels.iolib.summary.Summary'>\n",
       "\"\"\"\n",
       "                           Logit Regression Results                           \n",
       "==============================================================================\n",
       "Dep. Variable:              converted   No. Observations:               290584\n",
       "Model:                          Logit   Df Residuals:                   290581\n",
       "Method:                           MLE   Df Model:                            2\n",
       "Date:                Sat, 17 Oct 2020   Pseudo R-squ.:               1.521e-05\n",
       "Time:                        20:03:17   Log-Likelihood:            -1.0639e+05\n",
       "converged:                       True   LL-Null:                   -1.0639e+05\n",
       "Covariance Type:            nonrobust   LLR p-value:                    0.1984\n",
       "==============================================================================\n",
       "                 coef    std err          z      P>|z|      [0.025      0.975]\n",
       "------------------------------------------------------------------------------\n",
       "intercept     -1.9967      0.007   -292.314      0.000      -2.010      -1.983\n",
       "CA            -0.0408      0.027     -1.518      0.129      -0.093       0.012\n",
       "UK             0.0099      0.013      0.746      0.456      -0.016       0.036\n",
       "==============================================================================\n",
       "\"\"\""
      ],
      "text/html": "<table class=\"simpletable\">\n<caption>Logit Regression Results</caption>\n<tr>\n  <th>Dep. Variable:</th>       <td>converted</td>    <th>  No. Observations:  </th>   <td>290584</td>   \n</tr>\n<tr>\n  <th>Model:</th>                 <td>Logit</td>      <th>  Df Residuals:      </th>   <td>290581</td>   \n</tr>\n<tr>\n  <th>Method:</th>                 <td>MLE</td>       <th>  Df Model:          </th>   <td>     2</td>   \n</tr>\n<tr>\n  <th>Date:</th>            <td>Sat, 17 Oct 2020</td> <th>  Pseudo R-squ.:     </th>  <td>1.521e-05</td> \n</tr>\n<tr>\n  <th>Time:</th>                <td>20:03:17</td>     <th>  Log-Likelihood:    </th> <td>-1.0639e+05</td>\n</tr>\n<tr>\n  <th>converged:</th>             <td>True</td>       <th>  LL-Null:           </th> <td>-1.0639e+05</td>\n</tr>\n<tr>\n  <th>Covariance Type:</th>     <td>nonrobust</td>    <th>  LLR p-value:       </th>   <td>0.1984</td>   \n</tr>\n</table>\n<table class=\"simpletable\">\n<tr>\n      <td></td>         <th>coef</th>     <th>std err</th>      <th>z</th>      <th>P>|z|</th>  <th>[0.025</th>    <th>0.975]</th>  \n</tr>\n<tr>\n  <th>intercept</th> <td>   -1.9967</td> <td>    0.007</td> <td> -292.314</td> <td> 0.000</td> <td>   -2.010</td> <td>   -1.983</td>\n</tr>\n<tr>\n  <th>CA</th>        <td>   -0.0408</td> <td>    0.027</td> <td>   -1.518</td> <td> 0.129</td> <td>   -0.093</td> <td>    0.012</td>\n</tr>\n<tr>\n  <th>UK</th>        <td>    0.0099</td> <td>    0.013</td> <td>    0.746</td> <td> 0.456</td> <td>   -0.016</td> <td>    0.036</td>\n</tr>\n</table>"
     },
     "metadata": {},
     "execution_count": 66
    }
   ],
   "source": [
    "results2.summary()"
   ]
  },
  {
   "cell_type": "code",
   "execution_count": 67,
   "metadata": {},
   "outputs": [
    {
     "output_type": "execute_result",
     "data": {
      "text/plain": [
       "(0.1357826273831706, 0.9600211149716509, 1.0099491671175422)"
      ]
     },
     "metadata": {},
     "execution_count": 67
    }
   ],
   "source": [
    "# intercept, CA, UK\n",
    "np.exp(-1.9967), np.exp(-0.0408), np.exp(0.0099)"
   ]
  },
  {
   "cell_type": "markdown",
   "metadata": {},
   "source": [
    "**Answer: Introducing countries into the regression, creates a multi logistic regression model, with US as the baseline country reveals Canada and the UK were 0.96 and 1.01 times respectively as successful in converting using the new page.\n",
    "The impact of adding the three countries to the model reveals there was minimal effect overall.**"
   ]
  },
  {
   "cell_type": "markdown",
   "metadata": {
    "id": "OXwwFDRDiPng"
   },
   "source": [
    "h. Though you have now looked at the individual factors of country and page on conversion, we would now like to look at an interaction between page and country to see if there significant effects on conversion.  Create the necessary additional columns, and fit the new model.  \n",
    "\n",
    "Provide the summary results, and your conclusions based on the results."
   ]
  },
  {
   "cell_type": "code",
   "execution_count": 68,
   "metadata": {},
   "outputs": [
    {
     "output_type": "stream",
     "name": "stdout",
     "text": [
      "Optimization terminated successfully.\n         Current function value: 0.366113\n         Iterations 6\n"
     ]
    }
   ],
   "source": [
    "# dependent variable is converted, as it is what we are trying to predict\n",
    "logit_mod3 = sm.Logit(df3['converted'], df3[['intercept', 'ab_page', 'CA', 'UK']])\n",
    "results3 = logit_mod3.fit()"
   ]
  },
  {
   "cell_type": "code",
   "execution_count": 69,
   "metadata": {
    "id": "ztMdN6L8iPnh"
   },
   "outputs": [
    {
     "output_type": "execute_result",
     "data": {
      "text/plain": [
       "<class 'statsmodels.iolib.summary.Summary'>\n",
       "\"\"\"\n",
       "                           Logit Regression Results                           \n",
       "==============================================================================\n",
       "Dep. Variable:              converted   No. Observations:               290584\n",
       "Model:                          Logit   Df Residuals:                   290580\n",
       "Method:                           MLE   Df Model:                            3\n",
       "Date:                Sat, 17 Oct 2020   Pseudo R-squ.:               2.323e-05\n",
       "Time:                        20:03:20   Log-Likelihood:            -1.0639e+05\n",
       "converged:                       True   LL-Null:                   -1.0639e+05\n",
       "Covariance Type:            nonrobust   LLR p-value:                    0.1760\n",
       "==============================================================================\n",
       "                 coef    std err          z      P>|z|      [0.025      0.975]\n",
       "------------------------------------------------------------------------------\n",
       "intercept     -1.9893      0.009   -223.763      0.000      -2.007      -1.972\n",
       "ab_page       -0.0149      0.011     -1.307      0.191      -0.037       0.007\n",
       "CA            -0.0408      0.027     -1.516      0.130      -0.093       0.012\n",
       "UK             0.0099      0.013      0.743      0.457      -0.016       0.036\n",
       "==============================================================================\n",
       "\"\"\""
      ],
      "text/html": "<table class=\"simpletable\">\n<caption>Logit Regression Results</caption>\n<tr>\n  <th>Dep. Variable:</th>       <td>converted</td>    <th>  No. Observations:  </th>   <td>290584</td>   \n</tr>\n<tr>\n  <th>Model:</th>                 <td>Logit</td>      <th>  Df Residuals:      </th>   <td>290580</td>   \n</tr>\n<tr>\n  <th>Method:</th>                 <td>MLE</td>       <th>  Df Model:          </th>   <td>     3</td>   \n</tr>\n<tr>\n  <th>Date:</th>            <td>Sat, 17 Oct 2020</td> <th>  Pseudo R-squ.:     </th>  <td>2.323e-05</td> \n</tr>\n<tr>\n  <th>Time:</th>                <td>20:03:20</td>     <th>  Log-Likelihood:    </th> <td>-1.0639e+05</td>\n</tr>\n<tr>\n  <th>converged:</th>             <td>True</td>       <th>  LL-Null:           </th> <td>-1.0639e+05</td>\n</tr>\n<tr>\n  <th>Covariance Type:</th>     <td>nonrobust</td>    <th>  LLR p-value:       </th>   <td>0.1760</td>   \n</tr>\n</table>\n<table class=\"simpletable\">\n<tr>\n      <td></td>         <th>coef</th>     <th>std err</th>      <th>z</th>      <th>P>|z|</th>  <th>[0.025</th>    <th>0.975]</th>  \n</tr>\n<tr>\n  <th>intercept</th> <td>   -1.9893</td> <td>    0.009</td> <td> -223.763</td> <td> 0.000</td> <td>   -2.007</td> <td>   -1.972</td>\n</tr>\n<tr>\n  <th>ab_page</th>   <td>   -0.0149</td> <td>    0.011</td> <td>   -1.307</td> <td> 0.191</td> <td>   -0.037</td> <td>    0.007</td>\n</tr>\n<tr>\n  <th>CA</th>        <td>   -0.0408</td> <td>    0.027</td> <td>   -1.516</td> <td> 0.130</td> <td>   -0.093</td> <td>    0.012</td>\n</tr>\n<tr>\n  <th>UK</th>        <td>    0.0099</td> <td>    0.013</td> <td>    0.743</td> <td> 0.457</td> <td>   -0.016</td> <td>    0.036</td>\n</tr>\n</table>"
     },
     "metadata": {},
     "execution_count": 69
    }
   ],
   "source": [
    "results3.summary()"
   ]
  },
  {
   "cell_type": "code",
   "execution_count": 70,
   "metadata": {},
   "outputs": [
    {
     "output_type": "execute_result",
     "data": {
      "text/plain": [
       "(0.13679114574153073,\n",
       " 0.9852104557227469,\n",
       " 0.9600211149716509,\n",
       " 1.0099491671175422)"
      ]
     },
     "metadata": {},
     "execution_count": 70
    }
   ],
   "source": [
    "# intercept, ab_page, CA, UK\n",
    "np.exp(-1.9893), np.exp(-0.0149), np.exp(-0.0408), np.exp(0.0099)"
   ]
  },
  {
   "source": [
    "**Answer: The regression model based on the independent variable, ab_page is highly significant to the dependents response. Exponentiating the coefficient, reveals that for someone to convert using the new page, there is an improvement of 0.98 times over the old page, which is not practical due to the improvement being minimal.**\n",
    "\n",
    "**In conclusion, it is not practically viable to launch a new page to increase conversion rate as the old page is statistically proven to be sufficient due to the null hypothesis being true.**\n",
    "**The trial of the new page across 3 various countries proved to have minimal impact across two of them, with the third indicated to have a negative trend based assuming other variables to be constant.**"
   ],
   "cell_type": "markdown",
   "metadata": {}
  },
  {
   "cell_type": "markdown",
   "metadata": {
    "id": "ygHZQ8_giPnj"
   },
   "source": [
    "<a id='conclusions'></a>\n",
    "## Finishing Up\n",
    "\n",
    "> Congratulations!  You have reached the end of the A/B Test Results project!  You should be very proud of all you have accomplished!\n",
    "\n",
    "> **Tip**: Once you are satisfied with your work here, check over your report to make sure that it is satisfies all the areas of the rubric (found on the project submission page at the end of the lesson). You should also probably remove all of the \"Tips\" like this one so that the presentation is as polished as possible.\n",
    "\n",
    "\n",
    "## Directions to Submit\n",
    "\n",
    "> Before you submit your project, you need to create a .html or .pdf version of this notebook in the workspace here. To do that, run the code cell below. If it worked correctly, you should get a return code of 0, and you should see the generated .html file in the workspace directory (click on the orange Jupyter icon in the upper left).\n",
    "\n",
    "> Alternatively, you can download this report as .html via the **File** > **Download as** submenu, and then manually upload it into the workspace directory by clicking on the orange Jupyter icon in the upper left, then using the Upload button.\n",
    "\n",
    "> Once you've done this, you can submit your project by clicking on the \"Submit Project\" button in the lower right here. This will create and submit a zip file with this .ipynb doc and the .html or .pdf version you created. Congratulations!"
   ]
  },
  {
   "cell_type": "code",
   "execution_count": 71,
   "metadata": {
    "id": "Jt20OtYliPnj"
   },
   "outputs": [
    {
     "output_type": "execute_result",
     "data": {
      "text/plain": [
       "1"
      ]
     },
     "metadata": {},
     "execution_count": 71
    }
   ],
   "source": [
    "from subprocess import call\n",
    "call(['python', '-m', 'nbconvert', 'Analyze_ab_test_results_notebook.ipynb'])"
   ]
  },
  {
   "cell_type": "markdown",
   "metadata": {
    "id": "U5LDtL1y708K"
   },
   "source": [
    "Resources:\n",
    "*   http://resources.esri.com/help/9.3/arcgisdesktop/com/gp_toolref/spatial_statistics_toolbox/what_is_a_z_score_what_is_a_p_value.htm\n",
    "*   https://www.statsmodels.org/stable/generated/statsmodels.stats.proportion.proportions_ztest.html\n",
    "*   https://stats.idre.ucla.edu/other/mult-pkg/faq/general/faq-what-are-the-differences-between-one-tailed-and-two-tailed-tests/\n",
    "*   https://classroom.udacity.com/nanodegrees/nd002/parts/bb0cbeb6-d3f8-4bae-9dc3-4abba3823e54/modules/70ab0502-76fb-425f-880e-e2c73cdbe753/lessons/b7ae43e6-204a-4816-a177-6c75115cae5f/concepts/9699889c-81cc-4f6e-9eff-ae19dec29b95\n",
    "*   https://classroom.udacity.com/nanodegrees/nd002/parts/bb0cbeb6-d3f8-4bae-9dc3-4abba3823e54/modules/70ab0502-76fb-425f-880e-e2c73cdbe753/lessons/b7ae43e6-204a-4816-a177-6c75115cae5f/concepts/28777848-e025-4ffe-aea6-9c08d814512a\n",
    "*   http://www.biostathandbook.com/multipleregression.html\n",
    "*   http://www.ltcconline.net/greenl/courses/201/hyptest/HypTestHints.htm"
   ]
  }
 ],
 "metadata": {
  "colab": {
   "collapsed_sections": [],
   "name": "Analyze_ab_test_results_notebook.ipynb",
   "provenance": []
  },
  "kernelspec": {
   "display_name": "Python 3",
   "language": "python",
   "name": "python3"
  },
  "language_info": {
   "codemirror_mode": {
    "name": "ipython",
    "version": 3
   },
   "file_extension": ".py",
   "mimetype": "text/x-python",
   "name": "python",
   "nbconvert_exporter": "python",
   "pygments_lexer": "ipython3",
   "version": "3.8.5-final"
  }
 },
 "nbformat": 4,
 "nbformat_minor": 1
}